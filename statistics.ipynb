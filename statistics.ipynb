{
  "nbformat": 4,
  "nbformat_minor": 0,
  "metadata": {
    "colab": {
      "provenance": [],
      "collapsed_sections": [
        "6Hbwe7t43ejA"
      ],
      "include_colab_link": true
    },
    "kernelspec": {
      "name": "python3",
      "display_name": "Python 3"
    },
    "language_info": {
      "name": "python"
    }
  },
  "cells": [
    {
      "cell_type": "markdown",
      "metadata": {
        "id": "view-in-github",
        "colab_type": "text"
      },
      "source": [
        "<a href=\"https://colab.research.google.com/github/anihab/tokenization/blob/main/statistics.ipynb\" target=\"_parent\"><img src=\"https://colab.research.google.com/assets/colab-badge.svg\" alt=\"Open In Colab\"/></a>"
      ]
    },
    {
      "cell_type": "code",
      "source": [
        "import csv\n",
        "import json\n",
        "import os\n",
        "import scipy\n",
        "\n",
        "import plotly.express as px\n",
        "import plotly.graph_objects as go\n",
        "\n",
        "import matplotlib.pyplot as plt\n",
        "from matplotlib_venn import venn2, venn3\n",
        "\n",
        "from collections import Counter"
      ],
      "metadata": {
        "id": "jaj21X7F8Y4r"
      },
      "execution_count": 7,
      "outputs": []
    },
    {
      "cell_type": "code",
      "source": [
        "from google.colab import drive\n",
        "drive.mount('/content/drive')"
      ],
      "metadata": {
        "colab": {
          "base_uri": "https://localhost:8080/"
        },
        "collapsed": true,
        "id": "RW20JDCqAjFY",
        "outputId": "1df9e456-e7d3-4ec7-c1ef-d9f57ba05eaa"
      },
      "execution_count": 8,
      "outputs": [
        {
          "output_type": "stream",
          "name": "stdout",
          "text": [
            "Mounted at /content/drive\n"
          ]
        }
      ]
    },
    {
      "cell_type": "code",
      "source": [
        "# define inputs\n",
        "dnabert2=\"/content/drive/MyDrive/tokenization/data/DNABERT2.json\"\n",
        "vocab4096=\"/content/drive/MyDrive/tokenization/data/vocab4096.json\"\n",
        "vocab8192=\"/content/drive/MyDrive/tokenization/data/vocab8192.json\"\n",
        "vocab16384=\"/content/drive/MyDrive/tokenization/data/vocab16384.json\""
      ],
      "metadata": {
        "id": "1nbW-j_0AaiF"
      },
      "execution_count": 9,
      "outputs": []
    },
    {
      "cell_type": "markdown",
      "source": [
        "##**Tokenization Statistics**\n",
        "\n",
        "A collection of functions and figures to analyze tokenized output."
      ],
      "metadata": {
        "id": "6Hbwe7t43ejA"
      }
    },
    {
      "cell_type": "markdown",
      "source": [
        "###**Calculate Subword Fertility**\n",
        "\n",
        "This is normally defined as the average number of subwords produced per tokenized word. Since we don't have tokenized words, we will instead calculate the average number of subwords per input sequence (which is currently 500 nt)."
      ],
      "metadata": {
        "id": "rSuE-ZgRWoK5"
      }
    },
    {
      "cell_type": "code",
      "execution_count": 10,
      "metadata": {
        "id": "aMfh8hfqWX-t"
      },
      "outputs": [],
      "source": [
        "# given a single tokenized csv file, calculate the subword fertility\n",
        "# all of the tokens for a single input sequence are on a single line of the csv, separated by whitespace. the tokens for the next input sequence are on the next line.\n",
        "def subword_fertility(filepath):\n",
        "  total_subwords = 0\n",
        "  total_words = 0\n",
        "\n",
        "  with open(filepath, 'r') as file:\n",
        "      for row in csv.reader(file):\n",
        "          if row:\n",
        "              subwords = row[0].split()\n",
        "              total_subwords += len(subwords)\n",
        "              total_words += 1\n",
        "\n",
        "  if total_words > 0:\n",
        "      return total_subwords / total_words # avg number of tokens per sequence\n",
        "  else:\n",
        "      return 0\n",
        "\n",
        "# given a directory of tokenized files, calculate the average subword fertility for all files\n",
        "def subword_fertility_dir(directory):\n",
        "  total_avg = 0\n",
        "  file_count = 0\n",
        "\n",
        "  for filename in os.listdir(directory):\n",
        "      if filename.endswith('.csv'):\n",
        "          filepath = os.path.join(directory, filename)\n",
        "          avg = subword_fertility(filepath)\n",
        "          total_avg += avg\n",
        "          file_count += 1\n",
        "\n",
        "  if file_count > 0:\n",
        "      return total_avg / file_count\n",
        "  else:\n",
        "      return 0\n"
      ]
    },
    {
      "cell_type": "markdown",
      "source": [
        "###**Calculate the Max, Min and Average token length from tokenized files**\n",
        "\n",
        "additionally produce a *histogram* of token lengths."
      ],
      "metadata": {
        "id": "5chskwfk__BF"
      }
    },
    {
      "cell_type": "code",
      "source": [
        "# given a single tokenized csv file, calculate and return a tuple of the max, min, and average token lengths.\n",
        "def token_stats(filepath):\n",
        "  lengths = [] # will hold the lengths of each token from a single input sequence\n",
        "\n",
        "  with open(filepath, 'r') as file:\n",
        "      for row in csv.reader(file):\n",
        "          if row:\n",
        "              tokens = row[0].split()\n",
        "              lengths.extend(len(token) for token in tokens)\n",
        "\n",
        "  if lengths:\n",
        "      max_len = max(lengths)\n",
        "      min_len = min(lengths)\n",
        "      avg_len = sum(lengths) / len(lengths)\n",
        "      return max_len, min_len, avg_len\n",
        "  else:\n",
        "      return 0, 0, 0\n",
        "\n",
        "# given a directory of tokenized files, calculate the max, min, and average token lengths for all files.\n",
        "def token_stats_dir(directory):\n",
        "    max_lengths = []\n",
        "    min_lengths = []\n",
        "    avg_lengths = []\n",
        "\n",
        "    for filename in os.listdir(directory):\n",
        "        if filename.endswith(\".csv\"):\n",
        "            filepath = os.path.join(directory, filename)\n",
        "            max_len, min_len, avg_len = token_stats(filepath)\n",
        "            max_lengths.append(max_len)\n",
        "            min_lengths.append(min_len)\n",
        "            avg_lengths.append(avg_len)\n",
        "\n",
        "    if max_lengths:\n",
        "        max_len = max(max_lengths)\n",
        "        min_len = min(min_lengths)\n",
        "        avg_len = sum(avg_lengths) / len(avg_lengths)\n",
        "        return max_len, min_len, avg_len\n",
        "    else:\n",
        "        return 0, 0, 0\n",
        "\n",
        "# given a directory of tokenized files, plot a histogram of the token lengths\n",
        "def length_histogram(directory):\n",
        "  lengths = []\n",
        "\n",
        "  for filename in os.listdir(directory):\n",
        "        if filename.endswith(\".csv\"):\n",
        "            filepath = os.path.join(directory, filename)\n",
        "            with open(filepath, 'r') as file:\n",
        "                for row in csv.reader(file):\n",
        "                    if row:\n",
        "                        tokens = row[0].split()\n",
        "                        lengths.extend(len(token) for token in tokens)\n",
        "\n",
        "  if lengths:\n",
        "        fig = px.histogram(x=lengths, nbins=30, labels={'x': 'Token Length', 'y': 'Frequency'},\n",
        "                           title='Histogram of Token Lengths')\n",
        "        fig.update_layout(showlegend=False)\n",
        "        fig.show()\n",
        "  else:\n",
        "        print(\"No CSV files found in the directory.\")"
      ],
      "metadata": {
        "id": "J3p9sRc8BV9K"
      },
      "execution_count": 11,
      "outputs": []
    },
    {
      "cell_type": "markdown",
      "source": [
        "###**Calculate the Max, Min and Average token length from corpus**\n",
        "\n",
        "additionally produce a *histogram* of token lengths."
      ],
      "metadata": {
        "id": "T3dpjSeJNLpS"
      }
    },
    {
      "cell_type": "code",
      "source": [
        "# given a json file, extract the vocabulary\n",
        "def get_vocab(filepath):\n",
        "  with open(filepath, 'r') as file:\n",
        "    data = json.load(file)\n",
        "    corpus = data[\"model\"][\"vocab\"]\n",
        "    return list(corpus.keys())\n",
        "\n",
        "# given a json vocabulary file, calculate the max, min, and average word/token lengths\n",
        "# additionally, produce a histogram of the token lengths\n",
        "def corpus_stats(filepath):\n",
        "  lengths = []\n",
        "  vocab = get_vocab(filepath)\n",
        "\n",
        "  if vocab:\n",
        "    lengths.extend(len(token) for token in vocab)\n",
        "\n",
        "  if lengths:\n",
        "    max_len = max(lengths)\n",
        "    min_len = min(lengths)\n",
        "    avg_len = sum(lengths) / len(vocab)\n",
        "\n",
        "    fig = px.histogram(x=lengths, nbins=30, labels={'x': 'Word Length', 'y': 'Frequency'},\n",
        "                           title='Histogram of Word Lengths')\n",
        "    fig.update_layout(showlegend=False)\n",
        "    fig.show()\n",
        "\n",
        "    return max_len, min_len, avg_len\n",
        "  else:\n",
        "    return 0, 0, 0"
      ],
      "metadata": {
        "id": "vYQ-ZNVQNWFR"
      },
      "execution_count": 12,
      "outputs": []
    },
    {
      "cell_type": "markdown",
      "source": [
        "###**Calculate Coverage Metrics**\n",
        "\n",
        "Returns the number of unused words in a corpus and additionally produces a *histogram* of used word frequencies."
      ],
      "metadata": {
        "id": "GfkzG3Dt-4JW"
      }
    },
    {
      "cell_type": "code",
      "source": [
        "# given a json vocabulary file and a directory of tokenized csv files, calculate the number of unused words\n",
        "# additionally produce a histogram of used word frequencies\n",
        "def coverage_stats(jsonfile, directory):\n",
        "  unused = []\n",
        "  used = []\n",
        "  vocab = get_vocab(jsonfile)\n",
        "\n",
        "  if not vocab:\n",
        "    return \"json file error\"\n",
        "\n",
        "  for filename in os.listdir(directory):\n",
        "        if filename.endswith(\".csv\"):\n",
        "            filepath = os.path.join(directory, filename)\n",
        "            with open(filepath, 'r') as file:\n",
        "                for row in csv.reader(file):\n",
        "                    if row:\n",
        "                        used.extend(token for token in row[0].split())\n",
        "\n",
        "  if used:\n",
        "    for token in vocab:\n",
        "        if token not in used:\n",
        "            unused.append(token)\n",
        "\n",
        "    tokens, frequencies = zip(*Counter(used).items())\n",
        "\n",
        "    # Histogram\n",
        "    fig_hist = px.bar(x=tokens, y=frequencies, labels={'x': 'Words', 'y': 'Frequency'},\n",
        "                      title='Histogram of Word Frequencies')\n",
        "    fig_hist.show()\n",
        "\n",
        "    # Pie Chart\n",
        "    fig_pie = px.pie(names=tokens, values=frequencies, labels=tokens, title='Pie Chart of Word Frequencies',\n",
        "                     hole=0.3)\n",
        "    fig_pie.show()\n",
        "    return \"Unused words: \" + str(len(unused))\n",
        "  else:\n",
        "    return 0"
      ],
      "metadata": {
        "id": "GHGa9UJCM55U"
      },
      "execution_count": 13,
      "outputs": []
    },
    {
      "cell_type": "markdown",
      "source": [
        "###**Vocabulary Comparison**\n",
        "\n",
        "produce a venn diagram to compare different vocabulary outputs"
      ],
      "metadata": {
        "id": "byNYlZgp4QrM"
      }
    },
    {
      "cell_type": "code",
      "source": [
        "def venn2_to_plotly(sets,labels,title):\n",
        "\n",
        "    n_sets = len(sets)\n",
        "    v = venn2(sets, labels)\n",
        "\n",
        "    # supress output of venn diagramm\n",
        "    plt.close()\n",
        "\n",
        "    # create empty lists to hold shapes and annotations\n",
        "    shapes = []\n",
        "    annotation = []\n",
        "\n",
        "    # define color list for sets\n",
        "    color = ['FireBrick','DodgerBlue','DimGrey']\n",
        "\n",
        "    # create empty list to make hold of min and max values of set shapes\n",
        "    L_x_max = []\n",
        "    L_y_max = []\n",
        "    L_x_min = []\n",
        "    L_y_min = []\n",
        "\n",
        "    for i in range(0,n_sets):\n",
        "\n",
        "        # create circle shape for current set\n",
        "\n",
        "        shape = go.layout.Shape(\n",
        "                type=\"circle\",\n",
        "                xref=\"x\",\n",
        "                yref=\"y\",\n",
        "                x0= v.centers[i][0] - v.radii[i],\n",
        "                y0=v.centers[i][1] - v.radii[i],\n",
        "                x1= v.centers[i][0] + v.radii[i],\n",
        "                y1= v.centers[i][1] + v.radii[i],\n",
        "                fillcolor=color[i],\n",
        "                line_color=color[i],\n",
        "                opacity = 0.75\n",
        "            )\n",
        "\n",
        "        shapes.append(shape)\n",
        "\n",
        "        # create set label for current set\n",
        "\n",
        "        anno_set_label = go.layout.Annotation(\n",
        "                xref=\"x\",\n",
        "                yref=\"y\",\n",
        "                x = v.set_labels[i].get_position()[0],\n",
        "                y = v.set_labels[i].get_position()[1],\n",
        "                text = v.set_labels[i].get_text(),\n",
        "                showarrow=False\n",
        "        )\n",
        "\n",
        "        annotation.append(anno_set_label)\n",
        "\n",
        "        # get min and max values of current set shape\n",
        "        L_x_max.append(v.centers[i][0] + v.radii[i])\n",
        "        L_x_min.append(v.centers[i][0] - v.radii[i])\n",
        "        L_y_max.append(v.centers[i][1] + v.radii[i])\n",
        "        L_y_min.append(v.centers[i][1] - v.radii[i])\n",
        "\n",
        "    # determine number of subsets\n",
        "    n_subsets = sum([scipy.special.binom(n_sets,i+1) for i in range(0,n_sets)])\n",
        "\n",
        "    for i in range(0,int(n_subsets)):\n",
        "\n",
        "        # create subset label (number of common elements for current subset\n",
        "\n",
        "        anno_subset_label = go.layout.Annotation(\n",
        "                xref=\"x\",\n",
        "                yref=\"y\",\n",
        "                x = v.subset_labels[i].get_position()[0],\n",
        "                y = v.subset_labels[i].get_position()[1],\n",
        "                text = v.subset_labels[i].get_text(),\n",
        "                showarrow=False\n",
        "        )\n",
        "\n",
        "        annotation.append(anno_subset_label)\n",
        "\n",
        "    # define off_set for the figure range\n",
        "    off_set = 0.2\n",
        "\n",
        "    # get min and max for x and y dimension to set the figure range\n",
        "    x_max = max(L_x_max) + off_set\n",
        "    x_min = min(L_x_min) - off_set\n",
        "    y_max = max(L_y_max) + off_set\n",
        "    y_min = min(L_y_min) - off_set\n",
        "\n",
        "    # create plotly figure\n",
        "    p_fig = go.Figure()\n",
        "\n",
        "    # set xaxes range and hide ticks and ticklabels\n",
        "    p_fig.update_xaxes(\n",
        "        range=[x_min, x_max],\n",
        "        showticklabels=False,\n",
        "        ticklen=0\n",
        "    )\n",
        "\n",
        "    # set yaxes range and hide ticks and ticklabels\n",
        "    p_fig.update_yaxes(\n",
        "        range=[y_min, y_max],\n",
        "        scaleanchor=\"x\",\n",
        "        scaleratio=1,\n",
        "        showticklabels=False,\n",
        "        ticklen=0\n",
        "    )\n",
        "\n",
        "    # set figure properties and add shapes and annotations\n",
        "    p_fig.update_layout(\n",
        "        plot_bgcolor='white',\n",
        "        margin = dict(b = 0, l = 10, pad = 0, r = 10, t = 40),\n",
        "        width=800,\n",
        "        height=400,\n",
        "        shapes= shapes,\n",
        "        annotations = annotation,\n",
        "        title = dict(text = title, x=0.5, xanchor = 'center')\n",
        "    )\n",
        "\n",
        "    p_fig.show()"
      ],
      "metadata": {
        "id": "Rz4IdVbHBxWt"
      },
      "execution_count": 14,
      "outputs": []
    },
    {
      "cell_type": "code",
      "source": [
        "def vocab_comparison(filepath1, filepath2, name1, name2):\n",
        "  vocab1 = get_vocab(filepath1)\n",
        "  vocab2 = get_vocab(filepath2)\n",
        "  if vocab1 and vocab2:\n",
        "    venn2_to_plotly([set(vocab1), set(vocab2)], [name1, name2], \"Vocabulary Overlap Between Bacteria Trained Tokenizer and DNABERT2\")\n",
        "  else:\n",
        "    return \"json file error\""
      ],
      "metadata": {
        "id": "g_nJHyec4Yyt"
      },
      "execution_count": 15,
      "outputs": []
    },
    {
      "cell_type": "markdown",
      "source": [
        "#**Figures**\n"
      ],
      "metadata": {
        "id": "5TbhmWYSAGJZ"
      }
    },
    {
      "cell_type": "markdown",
      "source": [
        "###**Vocabulary Size 4096**"
      ],
      "metadata": {
        "id": "DyjVwAYABh7E"
      }
    },
    {
      "cell_type": "code",
      "source": [
        "corpus_stats(vocab4096)\n",
        "vocab_comparison(vocab4096, dnabert2, \"Bacteria\", \"DNABERT2\")"
      ],
      "metadata": {
        "colab": {
          "base_uri": "https://localhost:8080/",
          "height": 942
        },
        "id": "orSjLGYR11Sg",
        "outputId": "77011413-553e-480b-fab1-f1eccac6d70e"
      },
      "execution_count": 16,
      "outputs": [
        {
          "output_type": "display_data",
          "data": {
            "text/html": [
              "<html>\n",
              "<head><meta charset=\"utf-8\" /></head>\n",
              "<body>\n",
              "    <div>            <script src=\"https://cdnjs.cloudflare.com/ajax/libs/mathjax/2.7.5/MathJax.js?config=TeX-AMS-MML_SVG\"></script><script type=\"text/javascript\">if (window.MathJax && window.MathJax.Hub && window.MathJax.Hub.Config) {window.MathJax.Hub.Config({SVG: {font: \"STIX-Web\"}});}</script>                <script type=\"text/javascript\">window.PlotlyConfig = {MathJaxConfig: 'local'};</script>\n",
              "        <script charset=\"utf-8\" src=\"https://cdn.plot.ly/plotly-2.24.1.min.js\"></script>                <div id=\"ec71ce81-bb84-4162-8956-5b375c0b48ac\" class=\"plotly-graph-div\" style=\"height:525px; width:100%;\"></div>            <script type=\"text/javascript\">                                    window.PLOTLYENV=window.PLOTLYENV || {};                                    if (document.getElementById(\"ec71ce81-bb84-4162-8956-5b375c0b48ac\")) {                    Plotly.newPlot(                        \"ec71ce81-bb84-4162-8956-5b375c0b48ac\",                        [{\"alignmentgroup\":\"True\",\"bingroup\":\"x\",\"hovertemplate\":\"Word Length=%{x}\\u003cbr\\u003ecount=%{y}\\u003cextra\\u003e\\u003c\\u002fextra\\u003e\",\"legendgroup\":\"\",\"marker\":{\"color\":\"#636efa\",\"pattern\":{\"shape\":\"\"}},\"name\":\"\",\"nbinsx\":30,\"offsetgroup\":\"\",\"orientation\":\"v\",\"showlegend\":false,\"x\":[1,1,1,1,1,1,1,1,1,1,1,1,1,1,1,2,2,2,2,2,2,2,2,2,2,3,3,3,3,3,3,3,3,3,3,3,3,3,3,3,3,3,4,3,3,3,3,4,3,4,4,3,4,4,4,4,4,4,4,4,4,4,4,4,4,4,4,4,4,4,4,4,4,4,4,3,4,4,4,4,4,4,4,4,4,4,4,4,4,4,4,4,4,4,4,4,4,4,4,4,4,4,4,5,4,4,4,4,4,4,4,4,4,4,4,4,4,5,4,4,4,5,4,5,4,4,5,5,5,4,5,5,5,4,4,5,5,5,5,5,5,4,5,5,5,5,5,5,4,5,5,5,4,4,4,4,5,5,5,5,5,5,4,5,5,5,5,5,5,5,5,5,5,5,5,5,5,5,5,5,5,5,5,5,5,5,5,5,5,5,5,5,5,5,4,5,5,5,6,5,5,6,5,5,5,5,5,6,5,4,5,5,5,5,5,6,5,5,6,5,5,5,4,5,5,5,5,4,5,5,5,5,4,5,5,5,6,5,6,5,4,5,4,4,5,5,5,5,5,5,5,5,5,5,4,6,5,5,5,5,5,5,5,5,5,5,5,5,5,5,5,5,5,5,5,5,5,5,5,5,6,6,5,5,5,5,5,5,5,5,5,5,5,5,5,5,5,5,5,5,5,5,5,5,6,5,5,6,5,5,5,5,5,5,5,5,5,5,5,5,5,5,5,5,5,5,5,5,5,5,4,5,6,5,5,6,6,5,5,6,6,5,5,6,6,5,6,5,5,6,5,6,5,6,5,5,6,5,4,5,5,6,6,5,6,6,5,5,5,6,5,6,5,5,6,6,5,5,6,6,5,6,5,6,5,6,5,6,5,6,5,6,6,5,5,5,5,6,6,4,6,5,5,6,6,6,7,6,5,6,5,6,5,6,5,6,6,6,6,6,5,6,5,6,5,4,6,6,6,6,6,5,6,6,6,5,6,6,6,6,5,6,6,5,6,6,6,6,5,6,6,5,6,6,6,6,6,5,6,6,6,6,5,5,5,5,6,5,6,6,5,6,6,6,6,6,6,6,6,6,5,5,6,5,5,6,6,5,6,6,5,6,6,6,6,6,6,7,5,6,6,5,6,6,6,7,6,6,5,6,5,6,6,6,6,6,5,6,6,6,6,6,6,6,6,6,6,5,6,5,5,6,5,6,6,5,6,6,6,6,6,6,5,6,6,5,6,6,6,6,6,6,5,6,6,6,6,5,6,6,6,7,7,6,6,6,6,6,6,5,6,6,6,6,6,6,5,6,5,6,6,5,6,6,5,6,6,5,5,6,6,6,6,6,6,6,5,5,6,6,6,6,6,6,6,6,5,6,6,6,6,6,6,6,6,6,6,6,6,6,6,6,6,5,6,7,6,7,5,5,6,6,6,6,6,5,6,5,6,6,6,6,5,6,5,6,5,6,6,6,6,6,6,6,5,6,6,6,6,6,6,6,6,6,6,6,5,6,6,6,6,5,6,6,6,6,6,6,6,6,5,6,5,6,6,6,5,6,5,6,6,6,7,6,6,5,7,6,6,6,6,6,7,6,6,6,6,6,5,6,6,5,6,5,6,6,7,6,6,6,6,6,6,6,6,6,6,6,6,6,6,6,5,6,6,5,6,6,6,6,6,6,6,6,6,6,6,6,6,6,6,6,6,6,6,6,6,6,6,6,6,6,6,6,6,6,6,6,5,6,6,6,5,6,6,6,7,6,6,6,7,6,6,6,6,6,6,6,6,6,6,6,6,6,6,6,6,6,6,6,6,6,6,6,6,6,6,6,6,6,6,6,6,6,6,6,5,6,6,6,5,6,6,6,6,6,6,7,7,6,6,6,7,6,6,6,6,6,6,6,6,6,6,7,6,7,6,7,7,7,6,6,6,5,6,6,6,7,6,6,6,6,6,6,6,6,7,6,5,6,6,6,6,6,6,6,6,6,7,6,6,6,6,6,6,6,6,6,6,7,6,6,6,6,7,6,6,6,6,6,6,6,6,6,7,6,6,6,6,6,7,6,6,6,6,6,6,6,6,7,6,6,6,7,6,7,6,6,6,6,6,6,6,6,6,7,6,6,8,7,6,5,6,7,6,8,7,6,6,6,6,6,6,6,6,6,6,6,6,6,7,6,6,6,6,6,7,7,6,6,6,6,6,6,6,6,6,6,6,6,6,6,6,6,7,6,6,6,6,6,6,6,6,5,6,6,6,6,7,6,7,6,6,6,6,6,7,6,7,6,7,6,6,6,6,6,6,6,6,7,6,6,6,6,6,7,6,6,7,7,7,6,6,6,6,7,6,6,6,6,6,7,6,5,6,6,7,7,6,6,6,7,6,6,6,6,6,7,6,6,6,6,6,6,6,6,6,6,6,6,6,6,6,6,6,7,6,6,7,7,6,7,6,7,6,6,6,7,6,7,7,6,6,6,6,7,7,6,7,6,6,6,6,6,6,6,6,6,6,7,6,6,7,6,6,6,6,7,6,7,6,7,7,6,7,6,6,7,6,6,6,6,7,6,6,6,7,7,7,6,6,6,6,6,6,6,6,7,7,7,6,6,5,7,6,6,7,7,6,7,6,6,7,7,7,7,6,7,6,6,6,7,7,6,7,6,7,6,7,6,6,6,6,6,7,6,6,6,6,7,6,6,6,7,6,7,7,7,7,7,7,7,6,6,6,7,5,7,7,7,6,7,6,6,6,6,6,7,6,6,6,6,7,6,6,7,6,6,7,7,6,6,7,6,7,6,7,7,7,6,7,5,6,6,5,7,6,5,6,6,7,6,6,7,6,7,6,6,6,6,6,6,6,7,6,7,7,6,6,6,7,6,7,7,7,6,7,7,6,7,6,6,6,7,7,6,6,6,7,6,7,7,7,6,6,7,7,6,7,6,6,7,6,6,5,6,7,6,6,6,6,6,7,7,7,7,6,6,7,6,6,7,7,6,6,6,6,7,7,6,6,6,7,7,7,7,7,7,7,7,6,6,6,6,7,7,7,6,6,6,7,7,7,6,6,7,7,6,6,6,6,6,7,7,7,7,6,6,7,7,7,7,7,7,6,6,7,6,7,7,6,7,7,5,6,7,7,6,6,7,7,6,6,7,6,6,7,7,7,7,6,6,7,7,7,7,6,7,5,6,7,6,6,6,7,7,7,7,7,7,6,7,7,6,7,7,7,7,6,7,7,7,7,7,7,7,7,7,7,6,6,7,7,7,7,6,6,6,6,7,7,6,7,7,6,7,7,6,7,6,7,7,7,6,6,7,7,7,7,6,7,7,6,6,7,7,6,7,7,7,6,7,7,7,7,6,7,7,6,6,6,7,7,6,6,7,7,7,7,6,7,6,7,6,7,6,6,6,7,7,6,8,6,6,7,7,6,6,7,7,7,7,6,7,6,7,7,7,7,6,7,6,7,7,7,7,7,7,7,6,7,7,7,7,7,7,7,7,7,7,7,7,7,7,7,7,7,7,7,7,7,7,7,7,6,6,7,7,7,6,7,7,6,7,7,7,7,7,7,7,7,7,6,6,7,6,7,6,7,7,8,6,7,6,7,7,6,7,6,6,7,7,7,6,7,6,7,6,6,7,6,7,7,6,7,7,2,7,7,7,6,7,7,7,7,7,7,7,6,7,6,7,7,8,7,7,7,7,7,7,7,7,6,7,7,7,7,7,6,7,7,7,7,7,7,7,7,7,7,7,7,7,7,7,7,6,7,7,6,6,7,7,5,7,7,7,7,7,7,7,8,7,7,7,6,6,6,7,6,6,6,8,2,7,7,7,7,7,7,7,7,7,7,7,7,7,7,7,5,7,7,7,7,7,7,7,5,7,7,7,6,6,6,8,7,6,7,7,7,6,7,8,7,6,7,8,8,7,7,7,7,7,7,7,7,7,7,6,7,7,7,8,7,6,7,8,7,7,7,6,7,7,7,7,6,7,7,7,7,6,7,7,6,7,7,7,6,7,7,7,7,8,5,7,7,6,7,7,7,7,7,7,7,7,6,7,7,7,7,7,7,7,7,6,6,5,6,7,7,7,7,7,8,7,7,7,6,7,7,7,6,7,7,6,7,7,7,7,7,6,7,6,7,7,7,7,7,7,7,7,6,6,7,7,7,7,7,7,6,7,7,6,7,7,7,7,7,6,7,7,7,6,7,6,7,7,7,7,7,7,7,7,7,7,7,7,6,7,7,7,7,7,7,7,7,6,6,6,7,7,7,7,6,7,7,7,7,7,7,7,7,7,7,7,7,7,7,7,7,7,8,7,7,7,7,7,7,7,7,7,7,7,7,7,7,7,7,6,7,7,7,7,8,7,7,7,7,7,7,7,7,7,7,6,7,7,7,7,7,6,7,7,7,7,6,7,7,6,7,6,8,7,7,7,7,7,7,7,7,7,7,7,6,7,7,8,7,7,7,7,7,7,7,7,7,7,7,7,7,7,7,7,7,7,7,7,7,7,7,7,7,7,7,7,7,7,7,7,7,7,6,7,7,7,7,7,7,7,7,7,7,7,7,8,7,7,7,7,7,7,7,7,6,6,7,7,7,7,7,7,7,7,7,7,6,7,7,7,7,5,7,7,8,7,7,8,7,7,7,7,7,7,7,7,7,7,7,7,7,7,7,7,7,7,7,7,7,7,7,7,5,8,6,7,5,7,6,7,7,7,7,7,8,7,7,7,6,7,7,7,7,7,7,7,7,7,6,7,7,7,7,7,7,7,6,8,7,6,7,7,7,6,7,7,7,7,7,7,6,8,7,7,6,8,7,7,8,7,6,7,6,7,7,7,6,7,7,6,7,7,7,6,6,7,7,7,7,7,7,7,7,8,6,7,7,7,7,7,7,6,7,7,7,7,7,7,7,7,7,7,6,7,7,7,7,7,7,7,7,7,7,7,7,7,8,7,7,7,6,7,5,5,8,7,7,7,8,7,7,7,7,7,7,7,7,7,7,7,7,7,6,7,7,7,7,7,7,7,7,7,7,7,8,7,7,7,7,6,7,7,7,7,7,7,6,7,7,7,7,7,7,7,7,7,7,7,7,6,7,7,7,7,7,7,7,6,7,7,7,7,8,7,7,6,7,6,7,7,7,7,7,7,7,8,7,7,7,7,7,7,7,6,7,6,7,7,7,7,7,5,8,7,7,6,7,7,7,7,7,6,6,7,7,7,7,7,8,7,7,5,7,7,7,8,7,7,7,7,7,7,8,7,7,7,7,7,7,7,7,8,7,7,7,7,6,7,6,7,8,7,7,7,7,7,8,5,7,7,7,7,7,6,7,7,7,8,7,7,7,7,7,7,7,7,7,7,7,6,7,7,7,7,7,7,7,7,7,7,7,7,7,7,7,7,7,7,7,7,7,8,7,7,7,7,7,7,7,7,7,5,7,7,7,6,7,8,8,7,7,7,7,7,7,7,8,7,7,7,7,7,6,7,7,8,7,7,7,7,7,7,7,7,7,7,6,7,7,7,7,7,7,7,7,7,7,7,7,7,7,7,8,7,7,7,7,7,8,7,7,7,7,7,7,6,7,6,7,7,7,5,8,7,7,7,7,8,6,8,8,7,7,7,7,7,7,7,7,7,7,7,7,7,7,7,7,7,7,7,7,7,7,7,8,7,7,7,7,7,7,6,7,7,7,8,7,7,7,7,7,7,8,7,7,7,7,7,7,7,7,7,7,7,7,7,7,7,7,7,7,7,7,7,7,7,8,6,6,7,7,7,8,7,7,7,7,7,7,7,7,7,7,7,7,7,7,7,7,7,7,8,7,7,7,7,7,8,8,7,7,8,8,7,7,7,6,7,7,7,7,7,7,8,7,7,7,7,7,7,7,8,7,7,7,7,7,7,7,7,7,7,7,8,7,8,7,7,7,7,8,8,7,7,7,6,8,7,7,7,7,7,7,7,5,7,7,7,7,7,7,7,7,7,7,7,7,7,7,7,7,8,7,7,7,7,7,8,7,8,7,8,7,8,7,8,8,7,7,8,7,7,7,7,8,8,6,7,7,6,7,7,7,7,8,7,7,7,7,7,7,7,8,7,7,7,7,7,6,7,7,7,7,5,7,7,7,7,7,8,6,7,7,7,7,8,7,8,8,7,7,7,7,7,8,7,7,7,8,7,7,7,7,8,6,7,8,7,7,7,8,7,7,7,8,7,7,7,7,7,8,7,8,7,6,8,7,6,7,7,7,6,7,7,7,7,8,7,8,7,7,7,7,7,7,7,8,8,7,8,7,6,7,7,6,7,7,7,6,8,7,7,7,7,7,7,8,6,7,7,7,7,8,7,7,7,7,7,7,7,7,7,7,7,8,7,6,7,7,7,7,7,6,7,7,7,7,7,8,7,7,7,6,7,7,7,7,7,7,7,7,8,7,7,7,7,7,7,8,7,7,6,7,7,6,7,7,6,7,6,7,7,7,7,7,8,7,7,8,7,7,7,7,7,7,7,7,7,7,7,7,7,7,6,8,8,7,7,7,7,7,7,8,8,8,7,7,6,7,7,7,7,7,7,7,7,7,8,7,6,7,7,7,7,7,7,7,7,7,8,6,7,7,7,7,7,8,7,7,7,7,7,7,8,7,8,7,7,7,7,7,7,7,7,8,7,7,7,7,6,8,7,7,6,7,7,7,7,7,7,7,9,8,7,7,7,7,7,7,7,7,6,7,7,7,7,7,8,7,7,8,7,7,7,8,7,7,6,8,7,7,7,7,8,7,7,7,7,7,7,8,7,8,6,7,6,7,8,8,6,7,7,8,7,6,7,7,8,7,7,7,7,7,7,7,7,7,7,7,8,7,7,7,8,7,7,7,8,7,7,8,7,8,7,7,8,7,7,7,7,7,7,7,7,8,7,7,7,7,7,8,7,7,7,7,8,7,7,7,7,7,7,7,8,8,7,9,7,7,7,7,7,7,7,7,7,6,7,8,7,7,6,7,7,7,8,7,7,7,8,7,7,7,7,7,7,8,7,7,7,7,7,7,7,7,7,7,7,6,7,8,7,7,7,7,7,7,6,7,7,7,8,8,7,7,7,7,8,8,6,7,7,7,8,7,7,7,7,7,7,7,7,8,7,7,7,7,7,7,7,8,8,7,7,8,7,7,8,7,7,7,7,6,7,7,7,7,7,7,7,7,7,7,7,7,9,7,7,6,8,7,8,7,7,7,7,7,7,8,7,7,7,7,7,7,7,7,7,7,8,8,7,7,7,7,7,7,7,7,7,7,7,8,7,7,7,7,7,8,7,8,7,8,7,7,7,7,8,8,8,7,7,7,8,6,7,8,8,7,7,7,8,8,7,8,6,7,7,8,6,7,8,7,8,7,7,7,7,7,7,8,8,8,7,7,7,7,7,8,8,8,7,7,8,7,7,7,7,7,7,7,7,8,7,7,7,8,7,7,7,7,6,7,7,7,7,8,7,8,7,7,8,8,7,7,8,7,8,7,7,7,7,7,8,6,7,7,7,7,7,6,7,7,7,7,7,7,7,7,7,7,7,7,7,7,7,8,7,6,7,8,8,7,7,7,7,7,7,7,7,7,8,8,8,7,7,8,7,7,7,7,7,8,6,7,6,7,7,7,8,7,7,7,8,7,8,6,7,8,8,6,8,8,7,7,7,8,7,7,7,8,7,7,8,7,6,8,7,8,6,7,7,7,7,7,7,7,7,7,7,6,7,7,7,7,7,7,7,8,7,8,7,8,7,8,7,7,6,8,7,6,8,8,8,6,7,6,7,7,6,7,8,7,7,7,7,7,7,7,7,7,7,8,9,8,7,7,6,7,7,8,9,7,8,6,8,7,8,7,7,7,7,7,7,7,6,8,6,8,7,7,7,7,7,7,7,8,7,7,7,7,8,8,8,8,7,7,6,7,8,7,8,7,7,7,7,8,7,7,7,8,7,7,7,7,8,7,7,7,7,8,7,8,7,7,7,7,7,8,8,8,7,7,7,8,7,8,7,6,6,6,7,7,7,7,8,7,8,7,7,7,8,8,7,7,8,8,7,7,7,7,7,8,8,8,7,7,8,8,8,8,7,7,6,7,7,8,7,7,7,7,7,6,7,7,5,7,7,7,7,8,8,7,7,7,7,7,8,8,7,8,8,6,7,7,7,8,6,7,7,7,6,7,8,7,7,7,7,7,8,7,7,9,8,7,7,7,7,8,7,8,7,7,7,6,7,7,7,7,8,8,8,7,7,8,7,8,7,7,8,7,8,7,7,7,7,7,7,8,7,8,8,7,8,7,8,7,7,8,8,7,8,7,7,8,7,7,8,7,8,7,7,7,7,7,7,3,7,7,8,7,8,7,7,7,7,7,7,7,7,6,7,7,7,7,7,7,7,7,8,7,8,7,7,7,7,7,7,7,7,8,7,7,8,8,7,7,7,8,7,7,8,7,8,8,8,7,8,7,7,7,8,8,7,6,7,7,8,7,8,7,7,7,8,8,7,7,8,8,7,7,7,7,7,8,8,6,8,7,7,8,7,6,8,7,7,8,7,7,7,8,7,7,7,7,7,8,8,7,7,8,7,7,7,7,7,6,7,7,7,7,7,8,7,7,7,7,8,7,7,7,8,7,7,8,8,7,7,8,8,7,7,7,8,7,7,8,7,7,7,7,8,6,7,7,8,8,7,7,7,7,7,7,7,7,7,8,7,7,7,8,7,8,7,8,7,8,7,7,6,8,7,8,7,7,8,7,7,8,7,8,7,8,8,8,7,7,8,7,7,8,7,9,7,7,7,7,7,7,8,7,7,8,8,7,7,7,8,8,8,7,7,7,7,7,7,8,7,8,7,7,7,7,8,6,7,7,7,8,6,7,7,7,7,6,7,7,7,7,7,7,8,8,8,6,7,7,8,8,7,8,7,8,7,7,8,7,8,7,7,7,8,7,7,7,7,7,7,7,7,7,8,7,8,6,7,7,7,6,7,8,8,8,7,8,7,7,8,8,7,8,7,8,8,7,8,8,7,7,7,9,8,8,7,7,8,7,8,7,7,7,7,8,7,8,8,7,8,8,7,7,8,7,7,7,7,8,7,7,9,8,7,8,6,8,7,8,7,8,7,8,7,7,7,7,7,7,8,7,7,7,7,7,7,8,8,8,7,7,8,7,7,7,7,7,7,8,8,7,8,8,8,7,8,7,7,7,8,7,7,8,7,7,7,7,7,7,7],\"xaxis\":\"x\",\"yaxis\":\"y\",\"type\":\"histogram\"}],                        {\"template\":{\"data\":{\"histogram2dcontour\":[{\"type\":\"histogram2dcontour\",\"colorbar\":{\"outlinewidth\":0,\"ticks\":\"\"},\"colorscale\":[[0.0,\"#0d0887\"],[0.1111111111111111,\"#46039f\"],[0.2222222222222222,\"#7201a8\"],[0.3333333333333333,\"#9c179e\"],[0.4444444444444444,\"#bd3786\"],[0.5555555555555556,\"#d8576b\"],[0.6666666666666666,\"#ed7953\"],[0.7777777777777778,\"#fb9f3a\"],[0.8888888888888888,\"#fdca26\"],[1.0,\"#f0f921\"]]}],\"choropleth\":[{\"type\":\"choropleth\",\"colorbar\":{\"outlinewidth\":0,\"ticks\":\"\"}}],\"histogram2d\":[{\"type\":\"histogram2d\",\"colorbar\":{\"outlinewidth\":0,\"ticks\":\"\"},\"colorscale\":[[0.0,\"#0d0887\"],[0.1111111111111111,\"#46039f\"],[0.2222222222222222,\"#7201a8\"],[0.3333333333333333,\"#9c179e\"],[0.4444444444444444,\"#bd3786\"],[0.5555555555555556,\"#d8576b\"],[0.6666666666666666,\"#ed7953\"],[0.7777777777777778,\"#fb9f3a\"],[0.8888888888888888,\"#fdca26\"],[1.0,\"#f0f921\"]]}],\"heatmap\":[{\"type\":\"heatmap\",\"colorbar\":{\"outlinewidth\":0,\"ticks\":\"\"},\"colorscale\":[[0.0,\"#0d0887\"],[0.1111111111111111,\"#46039f\"],[0.2222222222222222,\"#7201a8\"],[0.3333333333333333,\"#9c179e\"],[0.4444444444444444,\"#bd3786\"],[0.5555555555555556,\"#d8576b\"],[0.6666666666666666,\"#ed7953\"],[0.7777777777777778,\"#fb9f3a\"],[0.8888888888888888,\"#fdca26\"],[1.0,\"#f0f921\"]]}],\"heatmapgl\":[{\"type\":\"heatmapgl\",\"colorbar\":{\"outlinewidth\":0,\"ticks\":\"\"},\"colorscale\":[[0.0,\"#0d0887\"],[0.1111111111111111,\"#46039f\"],[0.2222222222222222,\"#7201a8\"],[0.3333333333333333,\"#9c179e\"],[0.4444444444444444,\"#bd3786\"],[0.5555555555555556,\"#d8576b\"],[0.6666666666666666,\"#ed7953\"],[0.7777777777777778,\"#fb9f3a\"],[0.8888888888888888,\"#fdca26\"],[1.0,\"#f0f921\"]]}],\"contourcarpet\":[{\"type\":\"contourcarpet\",\"colorbar\":{\"outlinewidth\":0,\"ticks\":\"\"}}],\"contour\":[{\"type\":\"contour\",\"colorbar\":{\"outlinewidth\":0,\"ticks\":\"\"},\"colorscale\":[[0.0,\"#0d0887\"],[0.1111111111111111,\"#46039f\"],[0.2222222222222222,\"#7201a8\"],[0.3333333333333333,\"#9c179e\"],[0.4444444444444444,\"#bd3786\"],[0.5555555555555556,\"#d8576b\"],[0.6666666666666666,\"#ed7953\"],[0.7777777777777778,\"#fb9f3a\"],[0.8888888888888888,\"#fdca26\"],[1.0,\"#f0f921\"]]}],\"surface\":[{\"type\":\"surface\",\"colorbar\":{\"outlinewidth\":0,\"ticks\":\"\"},\"colorscale\":[[0.0,\"#0d0887\"],[0.1111111111111111,\"#46039f\"],[0.2222222222222222,\"#7201a8\"],[0.3333333333333333,\"#9c179e\"],[0.4444444444444444,\"#bd3786\"],[0.5555555555555556,\"#d8576b\"],[0.6666666666666666,\"#ed7953\"],[0.7777777777777778,\"#fb9f3a\"],[0.8888888888888888,\"#fdca26\"],[1.0,\"#f0f921\"]]}],\"mesh3d\":[{\"type\":\"mesh3d\",\"colorbar\":{\"outlinewidth\":0,\"ticks\":\"\"}}],\"scatter\":[{\"fillpattern\":{\"fillmode\":\"overlay\",\"size\":10,\"solidity\":0.2},\"type\":\"scatter\"}],\"parcoords\":[{\"type\":\"parcoords\",\"line\":{\"colorbar\":{\"outlinewidth\":0,\"ticks\":\"\"}}}],\"scatterpolargl\":[{\"type\":\"scatterpolargl\",\"marker\":{\"colorbar\":{\"outlinewidth\":0,\"ticks\":\"\"}}}],\"bar\":[{\"error_x\":{\"color\":\"#2a3f5f\"},\"error_y\":{\"color\":\"#2a3f5f\"},\"marker\":{\"line\":{\"color\":\"#E5ECF6\",\"width\":0.5},\"pattern\":{\"fillmode\":\"overlay\",\"size\":10,\"solidity\":0.2}},\"type\":\"bar\"}],\"scattergeo\":[{\"type\":\"scattergeo\",\"marker\":{\"colorbar\":{\"outlinewidth\":0,\"ticks\":\"\"}}}],\"scatterpolar\":[{\"type\":\"scatterpolar\",\"marker\":{\"colorbar\":{\"outlinewidth\":0,\"ticks\":\"\"}}}],\"histogram\":[{\"marker\":{\"pattern\":{\"fillmode\":\"overlay\",\"size\":10,\"solidity\":0.2}},\"type\":\"histogram\"}],\"scattergl\":[{\"type\":\"scattergl\",\"marker\":{\"colorbar\":{\"outlinewidth\":0,\"ticks\":\"\"}}}],\"scatter3d\":[{\"type\":\"scatter3d\",\"line\":{\"colorbar\":{\"outlinewidth\":0,\"ticks\":\"\"}},\"marker\":{\"colorbar\":{\"outlinewidth\":0,\"ticks\":\"\"}}}],\"scattermapbox\":[{\"type\":\"scattermapbox\",\"marker\":{\"colorbar\":{\"outlinewidth\":0,\"ticks\":\"\"}}}],\"scatterternary\":[{\"type\":\"scatterternary\",\"marker\":{\"colorbar\":{\"outlinewidth\":0,\"ticks\":\"\"}}}],\"scattercarpet\":[{\"type\":\"scattercarpet\",\"marker\":{\"colorbar\":{\"outlinewidth\":0,\"ticks\":\"\"}}}],\"carpet\":[{\"aaxis\":{\"endlinecolor\":\"#2a3f5f\",\"gridcolor\":\"white\",\"linecolor\":\"white\",\"minorgridcolor\":\"white\",\"startlinecolor\":\"#2a3f5f\"},\"baxis\":{\"endlinecolor\":\"#2a3f5f\",\"gridcolor\":\"white\",\"linecolor\":\"white\",\"minorgridcolor\":\"white\",\"startlinecolor\":\"#2a3f5f\"},\"type\":\"carpet\"}],\"table\":[{\"cells\":{\"fill\":{\"color\":\"#EBF0F8\"},\"line\":{\"color\":\"white\"}},\"header\":{\"fill\":{\"color\":\"#C8D4E3\"},\"line\":{\"color\":\"white\"}},\"type\":\"table\"}],\"barpolar\":[{\"marker\":{\"line\":{\"color\":\"#E5ECF6\",\"width\":0.5},\"pattern\":{\"fillmode\":\"overlay\",\"size\":10,\"solidity\":0.2}},\"type\":\"barpolar\"}],\"pie\":[{\"automargin\":true,\"type\":\"pie\"}]},\"layout\":{\"autotypenumbers\":\"strict\",\"colorway\":[\"#636efa\",\"#EF553B\",\"#00cc96\",\"#ab63fa\",\"#FFA15A\",\"#19d3f3\",\"#FF6692\",\"#B6E880\",\"#FF97FF\",\"#FECB52\"],\"font\":{\"color\":\"#2a3f5f\"},\"hovermode\":\"closest\",\"hoverlabel\":{\"align\":\"left\"},\"paper_bgcolor\":\"white\",\"plot_bgcolor\":\"#E5ECF6\",\"polar\":{\"bgcolor\":\"#E5ECF6\",\"angularaxis\":{\"gridcolor\":\"white\",\"linecolor\":\"white\",\"ticks\":\"\"},\"radialaxis\":{\"gridcolor\":\"white\",\"linecolor\":\"white\",\"ticks\":\"\"}},\"ternary\":{\"bgcolor\":\"#E5ECF6\",\"aaxis\":{\"gridcolor\":\"white\",\"linecolor\":\"white\",\"ticks\":\"\"},\"baxis\":{\"gridcolor\":\"white\",\"linecolor\":\"white\",\"ticks\":\"\"},\"caxis\":{\"gridcolor\":\"white\",\"linecolor\":\"white\",\"ticks\":\"\"}},\"coloraxis\":{\"colorbar\":{\"outlinewidth\":0,\"ticks\":\"\"}},\"colorscale\":{\"sequential\":[[0.0,\"#0d0887\"],[0.1111111111111111,\"#46039f\"],[0.2222222222222222,\"#7201a8\"],[0.3333333333333333,\"#9c179e\"],[0.4444444444444444,\"#bd3786\"],[0.5555555555555556,\"#d8576b\"],[0.6666666666666666,\"#ed7953\"],[0.7777777777777778,\"#fb9f3a\"],[0.8888888888888888,\"#fdca26\"],[1.0,\"#f0f921\"]],\"sequentialminus\":[[0.0,\"#0d0887\"],[0.1111111111111111,\"#46039f\"],[0.2222222222222222,\"#7201a8\"],[0.3333333333333333,\"#9c179e\"],[0.4444444444444444,\"#bd3786\"],[0.5555555555555556,\"#d8576b\"],[0.6666666666666666,\"#ed7953\"],[0.7777777777777778,\"#fb9f3a\"],[0.8888888888888888,\"#fdca26\"],[1.0,\"#f0f921\"]],\"diverging\":[[0,\"#8e0152\"],[0.1,\"#c51b7d\"],[0.2,\"#de77ae\"],[0.3,\"#f1b6da\"],[0.4,\"#fde0ef\"],[0.5,\"#f7f7f7\"],[0.6,\"#e6f5d0\"],[0.7,\"#b8e186\"],[0.8,\"#7fbc41\"],[0.9,\"#4d9221\"],[1,\"#276419\"]]},\"xaxis\":{\"gridcolor\":\"white\",\"linecolor\":\"white\",\"ticks\":\"\",\"title\":{\"standoff\":15},\"zerolinecolor\":\"white\",\"automargin\":true,\"zerolinewidth\":2},\"yaxis\":{\"gridcolor\":\"white\",\"linecolor\":\"white\",\"ticks\":\"\",\"title\":{\"standoff\":15},\"zerolinecolor\":\"white\",\"automargin\":true,\"zerolinewidth\":2},\"scene\":{\"xaxis\":{\"backgroundcolor\":\"#E5ECF6\",\"gridcolor\":\"white\",\"linecolor\":\"white\",\"showbackground\":true,\"ticks\":\"\",\"zerolinecolor\":\"white\",\"gridwidth\":2},\"yaxis\":{\"backgroundcolor\":\"#E5ECF6\",\"gridcolor\":\"white\",\"linecolor\":\"white\",\"showbackground\":true,\"ticks\":\"\",\"zerolinecolor\":\"white\",\"gridwidth\":2},\"zaxis\":{\"backgroundcolor\":\"#E5ECF6\",\"gridcolor\":\"white\",\"linecolor\":\"white\",\"showbackground\":true,\"ticks\":\"\",\"zerolinecolor\":\"white\",\"gridwidth\":2}},\"shapedefaults\":{\"line\":{\"color\":\"#2a3f5f\"}},\"annotationdefaults\":{\"arrowcolor\":\"#2a3f5f\",\"arrowhead\":0,\"arrowwidth\":1},\"geo\":{\"bgcolor\":\"white\",\"landcolor\":\"#E5ECF6\",\"subunitcolor\":\"white\",\"showland\":true,\"showlakes\":true,\"lakecolor\":\"white\"},\"title\":{\"x\":0.05},\"mapbox\":{\"style\":\"light\"}}},\"xaxis\":{\"anchor\":\"y\",\"domain\":[0.0,1.0],\"title\":{\"text\":\"Word Length\"}},\"yaxis\":{\"anchor\":\"x\",\"domain\":[0.0,1.0],\"title\":{\"text\":\"count\"}},\"legend\":{\"tracegroupgap\":0},\"title\":{\"text\":\"Histogram of Word Lengths\"},\"barmode\":\"relative\",\"showlegend\":false},                        {\"responsive\": true}                    ).then(function(){\n",
              "                            \n",
              "var gd = document.getElementById('ec71ce81-bb84-4162-8956-5b375c0b48ac');\n",
              "var x = new MutationObserver(function (mutations, observer) {{\n",
              "        var display = window.getComputedStyle(gd).display;\n",
              "        if (!display || display === 'none') {{\n",
              "            console.log([gd, 'removed!']);\n",
              "            Plotly.purge(gd);\n",
              "            observer.disconnect();\n",
              "        }}\n",
              "}});\n",
              "\n",
              "// Listen for the removal of the full notebook cells\n",
              "var notebookContainer = gd.closest('#notebook-container');\n",
              "if (notebookContainer) {{\n",
              "    x.observe(notebookContainer, {childList: true});\n",
              "}}\n",
              "\n",
              "// Listen for the clearing of the current output cell\n",
              "var outputEl = gd.closest('.output');\n",
              "if (outputEl) {{\n",
              "    x.observe(outputEl, {childList: true});\n",
              "}}\n",
              "\n",
              "                        })                };                            </script>        </div>\n",
              "</body>\n",
              "</html>"
            ]
          },
          "metadata": {}
        },
        {
          "output_type": "display_data",
          "data": {
            "text/html": [
              "<html>\n",
              "<head><meta charset=\"utf-8\" /></head>\n",
              "<body>\n",
              "    <div>            <script src=\"https://cdnjs.cloudflare.com/ajax/libs/mathjax/2.7.5/MathJax.js?config=TeX-AMS-MML_SVG\"></script><script type=\"text/javascript\">if (window.MathJax && window.MathJax.Hub && window.MathJax.Hub.Config) {window.MathJax.Hub.Config({SVG: {font: \"STIX-Web\"}});}</script>                <script type=\"text/javascript\">window.PlotlyConfig = {MathJaxConfig: 'local'};</script>\n",
              "        <script charset=\"utf-8\" src=\"https://cdn.plot.ly/plotly-2.24.1.min.js\"></script>                <div id=\"e934b62a-17bb-4d0d-89db-75674da4349a\" class=\"plotly-graph-div\" style=\"height:400px; width:800px;\"></div>            <script type=\"text/javascript\">                                    window.PLOTLYENV=window.PLOTLYENV || {};                                    if (document.getElementById(\"e934b62a-17bb-4d0d-89db-75674da4349a\")) {                    Plotly.newPlot(                        \"e934b62a-17bb-4d0d-89db-75674da4349a\",                        [],                        {\"template\":{\"data\":{\"histogram2dcontour\":[{\"type\":\"histogram2dcontour\",\"colorbar\":{\"outlinewidth\":0,\"ticks\":\"\"},\"colorscale\":[[0.0,\"#0d0887\"],[0.1111111111111111,\"#46039f\"],[0.2222222222222222,\"#7201a8\"],[0.3333333333333333,\"#9c179e\"],[0.4444444444444444,\"#bd3786\"],[0.5555555555555556,\"#d8576b\"],[0.6666666666666666,\"#ed7953\"],[0.7777777777777778,\"#fb9f3a\"],[0.8888888888888888,\"#fdca26\"],[1.0,\"#f0f921\"]]}],\"choropleth\":[{\"type\":\"choropleth\",\"colorbar\":{\"outlinewidth\":0,\"ticks\":\"\"}}],\"histogram2d\":[{\"type\":\"histogram2d\",\"colorbar\":{\"outlinewidth\":0,\"ticks\":\"\"},\"colorscale\":[[0.0,\"#0d0887\"],[0.1111111111111111,\"#46039f\"],[0.2222222222222222,\"#7201a8\"],[0.3333333333333333,\"#9c179e\"],[0.4444444444444444,\"#bd3786\"],[0.5555555555555556,\"#d8576b\"],[0.6666666666666666,\"#ed7953\"],[0.7777777777777778,\"#fb9f3a\"],[0.8888888888888888,\"#fdca26\"],[1.0,\"#f0f921\"]]}],\"heatmap\":[{\"type\":\"heatmap\",\"colorbar\":{\"outlinewidth\":0,\"ticks\":\"\"},\"colorscale\":[[0.0,\"#0d0887\"],[0.1111111111111111,\"#46039f\"],[0.2222222222222222,\"#7201a8\"],[0.3333333333333333,\"#9c179e\"],[0.4444444444444444,\"#bd3786\"],[0.5555555555555556,\"#d8576b\"],[0.6666666666666666,\"#ed7953\"],[0.7777777777777778,\"#fb9f3a\"],[0.8888888888888888,\"#fdca26\"],[1.0,\"#f0f921\"]]}],\"heatmapgl\":[{\"type\":\"heatmapgl\",\"colorbar\":{\"outlinewidth\":0,\"ticks\":\"\"},\"colorscale\":[[0.0,\"#0d0887\"],[0.1111111111111111,\"#46039f\"],[0.2222222222222222,\"#7201a8\"],[0.3333333333333333,\"#9c179e\"],[0.4444444444444444,\"#bd3786\"],[0.5555555555555556,\"#d8576b\"],[0.6666666666666666,\"#ed7953\"],[0.7777777777777778,\"#fb9f3a\"],[0.8888888888888888,\"#fdca26\"],[1.0,\"#f0f921\"]]}],\"contourcarpet\":[{\"type\":\"contourcarpet\",\"colorbar\":{\"outlinewidth\":0,\"ticks\":\"\"}}],\"contour\":[{\"type\":\"contour\",\"colorbar\":{\"outlinewidth\":0,\"ticks\":\"\"},\"colorscale\":[[0.0,\"#0d0887\"],[0.1111111111111111,\"#46039f\"],[0.2222222222222222,\"#7201a8\"],[0.3333333333333333,\"#9c179e\"],[0.4444444444444444,\"#bd3786\"],[0.5555555555555556,\"#d8576b\"],[0.6666666666666666,\"#ed7953\"],[0.7777777777777778,\"#fb9f3a\"],[0.8888888888888888,\"#fdca26\"],[1.0,\"#f0f921\"]]}],\"surface\":[{\"type\":\"surface\",\"colorbar\":{\"outlinewidth\":0,\"ticks\":\"\"},\"colorscale\":[[0.0,\"#0d0887\"],[0.1111111111111111,\"#46039f\"],[0.2222222222222222,\"#7201a8\"],[0.3333333333333333,\"#9c179e\"],[0.4444444444444444,\"#bd3786\"],[0.5555555555555556,\"#d8576b\"],[0.6666666666666666,\"#ed7953\"],[0.7777777777777778,\"#fb9f3a\"],[0.8888888888888888,\"#fdca26\"],[1.0,\"#f0f921\"]]}],\"mesh3d\":[{\"type\":\"mesh3d\",\"colorbar\":{\"outlinewidth\":0,\"ticks\":\"\"}}],\"scatter\":[{\"fillpattern\":{\"fillmode\":\"overlay\",\"size\":10,\"solidity\":0.2},\"type\":\"scatter\"}],\"parcoords\":[{\"type\":\"parcoords\",\"line\":{\"colorbar\":{\"outlinewidth\":0,\"ticks\":\"\"}}}],\"scatterpolargl\":[{\"type\":\"scatterpolargl\",\"marker\":{\"colorbar\":{\"outlinewidth\":0,\"ticks\":\"\"}}}],\"bar\":[{\"error_x\":{\"color\":\"#2a3f5f\"},\"error_y\":{\"color\":\"#2a3f5f\"},\"marker\":{\"line\":{\"color\":\"#E5ECF6\",\"width\":0.5},\"pattern\":{\"fillmode\":\"overlay\",\"size\":10,\"solidity\":0.2}},\"type\":\"bar\"}],\"scattergeo\":[{\"type\":\"scattergeo\",\"marker\":{\"colorbar\":{\"outlinewidth\":0,\"ticks\":\"\"}}}],\"scatterpolar\":[{\"type\":\"scatterpolar\",\"marker\":{\"colorbar\":{\"outlinewidth\":0,\"ticks\":\"\"}}}],\"histogram\":[{\"marker\":{\"pattern\":{\"fillmode\":\"overlay\",\"size\":10,\"solidity\":0.2}},\"type\":\"histogram\"}],\"scattergl\":[{\"type\":\"scattergl\",\"marker\":{\"colorbar\":{\"outlinewidth\":0,\"ticks\":\"\"}}}],\"scatter3d\":[{\"type\":\"scatter3d\",\"line\":{\"colorbar\":{\"outlinewidth\":0,\"ticks\":\"\"}},\"marker\":{\"colorbar\":{\"outlinewidth\":0,\"ticks\":\"\"}}}],\"scattermapbox\":[{\"type\":\"scattermapbox\",\"marker\":{\"colorbar\":{\"outlinewidth\":0,\"ticks\":\"\"}}}],\"scatterternary\":[{\"type\":\"scatterternary\",\"marker\":{\"colorbar\":{\"outlinewidth\":0,\"ticks\":\"\"}}}],\"scattercarpet\":[{\"type\":\"scattercarpet\",\"marker\":{\"colorbar\":{\"outlinewidth\":0,\"ticks\":\"\"}}}],\"carpet\":[{\"aaxis\":{\"endlinecolor\":\"#2a3f5f\",\"gridcolor\":\"white\",\"linecolor\":\"white\",\"minorgridcolor\":\"white\",\"startlinecolor\":\"#2a3f5f\"},\"baxis\":{\"endlinecolor\":\"#2a3f5f\",\"gridcolor\":\"white\",\"linecolor\":\"white\",\"minorgridcolor\":\"white\",\"startlinecolor\":\"#2a3f5f\"},\"type\":\"carpet\"}],\"table\":[{\"cells\":{\"fill\":{\"color\":\"#EBF0F8\"},\"line\":{\"color\":\"white\"}},\"header\":{\"fill\":{\"color\":\"#C8D4E3\"},\"line\":{\"color\":\"white\"}},\"type\":\"table\"}],\"barpolar\":[{\"marker\":{\"line\":{\"color\":\"#E5ECF6\",\"width\":0.5},\"pattern\":{\"fillmode\":\"overlay\",\"size\":10,\"solidity\":0.2}},\"type\":\"barpolar\"}],\"pie\":[{\"automargin\":true,\"type\":\"pie\"}]},\"layout\":{\"autotypenumbers\":\"strict\",\"colorway\":[\"#636efa\",\"#EF553B\",\"#00cc96\",\"#ab63fa\",\"#FFA15A\",\"#19d3f3\",\"#FF6692\",\"#B6E880\",\"#FF97FF\",\"#FECB52\"],\"font\":{\"color\":\"#2a3f5f\"},\"hovermode\":\"closest\",\"hoverlabel\":{\"align\":\"left\"},\"paper_bgcolor\":\"white\",\"plot_bgcolor\":\"#E5ECF6\",\"polar\":{\"bgcolor\":\"#E5ECF6\",\"angularaxis\":{\"gridcolor\":\"white\",\"linecolor\":\"white\",\"ticks\":\"\"},\"radialaxis\":{\"gridcolor\":\"white\",\"linecolor\":\"white\",\"ticks\":\"\"}},\"ternary\":{\"bgcolor\":\"#E5ECF6\",\"aaxis\":{\"gridcolor\":\"white\",\"linecolor\":\"white\",\"ticks\":\"\"},\"baxis\":{\"gridcolor\":\"white\",\"linecolor\":\"white\",\"ticks\":\"\"},\"caxis\":{\"gridcolor\":\"white\",\"linecolor\":\"white\",\"ticks\":\"\"}},\"coloraxis\":{\"colorbar\":{\"outlinewidth\":0,\"ticks\":\"\"}},\"colorscale\":{\"sequential\":[[0.0,\"#0d0887\"],[0.1111111111111111,\"#46039f\"],[0.2222222222222222,\"#7201a8\"],[0.3333333333333333,\"#9c179e\"],[0.4444444444444444,\"#bd3786\"],[0.5555555555555556,\"#d8576b\"],[0.6666666666666666,\"#ed7953\"],[0.7777777777777778,\"#fb9f3a\"],[0.8888888888888888,\"#fdca26\"],[1.0,\"#f0f921\"]],\"sequentialminus\":[[0.0,\"#0d0887\"],[0.1111111111111111,\"#46039f\"],[0.2222222222222222,\"#7201a8\"],[0.3333333333333333,\"#9c179e\"],[0.4444444444444444,\"#bd3786\"],[0.5555555555555556,\"#d8576b\"],[0.6666666666666666,\"#ed7953\"],[0.7777777777777778,\"#fb9f3a\"],[0.8888888888888888,\"#fdca26\"],[1.0,\"#f0f921\"]],\"diverging\":[[0,\"#8e0152\"],[0.1,\"#c51b7d\"],[0.2,\"#de77ae\"],[0.3,\"#f1b6da\"],[0.4,\"#fde0ef\"],[0.5,\"#f7f7f7\"],[0.6,\"#e6f5d0\"],[0.7,\"#b8e186\"],[0.8,\"#7fbc41\"],[0.9,\"#4d9221\"],[1,\"#276419\"]]},\"xaxis\":{\"gridcolor\":\"white\",\"linecolor\":\"white\",\"ticks\":\"\",\"title\":{\"standoff\":15},\"zerolinecolor\":\"white\",\"automargin\":true,\"zerolinewidth\":2},\"yaxis\":{\"gridcolor\":\"white\",\"linecolor\":\"white\",\"ticks\":\"\",\"title\":{\"standoff\":15},\"zerolinecolor\":\"white\",\"automargin\":true,\"zerolinewidth\":2},\"scene\":{\"xaxis\":{\"backgroundcolor\":\"#E5ECF6\",\"gridcolor\":\"white\",\"linecolor\":\"white\",\"showbackground\":true,\"ticks\":\"\",\"zerolinecolor\":\"white\",\"gridwidth\":2},\"yaxis\":{\"backgroundcolor\":\"#E5ECF6\",\"gridcolor\":\"white\",\"linecolor\":\"white\",\"showbackground\":true,\"ticks\":\"\",\"zerolinecolor\":\"white\",\"gridwidth\":2},\"zaxis\":{\"backgroundcolor\":\"#E5ECF6\",\"gridcolor\":\"white\",\"linecolor\":\"white\",\"showbackground\":true,\"ticks\":\"\",\"zerolinecolor\":\"white\",\"gridwidth\":2}},\"shapedefaults\":{\"line\":{\"color\":\"#2a3f5f\"}},\"annotationdefaults\":{\"arrowcolor\":\"#2a3f5f\",\"arrowhead\":0,\"arrowwidth\":1},\"geo\":{\"bgcolor\":\"white\",\"landcolor\":\"#E5ECF6\",\"subunitcolor\":\"white\",\"showland\":true,\"showlakes\":true,\"lakecolor\":\"white\"},\"title\":{\"x\":0.05},\"mapbox\":{\"style\":\"light\"}}},\"xaxis\":{\"range\":[-0.8685440434210041,0.8685440434210041],\"showticklabels\":false,\"ticklen\":0},\"yaxis\":{\"range\":[-0.6438220213960263,0.6438220213960263],\"scaleanchor\":\"x\",\"scaleratio\":1,\"showticklabels\":false,\"ticklen\":0},\"margin\":{\"b\":0,\"l\":10,\"pad\":0,\"r\":10,\"t\":40},\"title\":{\"text\":\"Vocabulary Overlap Between Bacteria Trained Tokenizer and DNABERT2\",\"x\":0.5,\"xanchor\":\"center\"},\"plot_bgcolor\":\"white\",\"width\":800,\"height\":400,\"shapes\":[{\"fillcolor\":\"FireBrick\",\"line\":{\"color\":\"FireBrick\"},\"opacity\":0.75,\"type\":\"circle\",\"x0\":-0.6685440434210042,\"x1\":0.21909999937104838,\"xref\":\"x\",\"y0\":-0.4438220213960263,\"y1\":0.4438220213960263,\"yref\":\"y\"},{\"fillcolor\":\"DodgerBlue\",\"line\":{\"color\":\"DodgerBlue\"},\"opacity\":0.75,\"type\":\"circle\",\"x0\":-0.21909999937104838,\"x1\":0.6685440434210042,\"xref\":\"x\",\"y0\":-0.4438220213960263,\"y1\":0.4438220213960263,\"yref\":\"y\"}],\"annotations\":[{\"showarrow\":false,\"text\":\"Bacteria\",\"x\":-0.2247220220249779,\"xref\":\"x\",\"y\":-0.4882042235356289,\"yref\":\"y\"},{\"showarrow\":false,\"text\":\"DNABERT2\",\"x\":0.2247220220249779,\"xref\":\"x\",\"y\":-0.4882042235356289,\"yref\":\"y\"},{\"showarrow\":false,\"text\":\"2523\",\"x\":-0.4438220213960263,\"xref\":\"x\",\"y\":0.0,\"yref\":\"y\"},{\"showarrow\":false,\"text\":\"2523\",\"x\":0.4438220213960263,\"xref\":\"x\",\"y\":0.0,\"yref\":\"y\"},{\"showarrow\":false,\"text\":\"1573\",\"x\":0.0,\"xref\":\"x\",\"y\":2.7176260894687585e-17,\"yref\":\"y\"}]},                        {\"responsive\": true}                    ).then(function(){\n",
              "                            \n",
              "var gd = document.getElementById('e934b62a-17bb-4d0d-89db-75674da4349a');\n",
              "var x = new MutationObserver(function (mutations, observer) {{\n",
              "        var display = window.getComputedStyle(gd).display;\n",
              "        if (!display || display === 'none') {{\n",
              "            console.log([gd, 'removed!']);\n",
              "            Plotly.purge(gd);\n",
              "            observer.disconnect();\n",
              "        }}\n",
              "}});\n",
              "\n",
              "// Listen for the removal of the full notebook cells\n",
              "var notebookContainer = gd.closest('#notebook-container');\n",
              "if (notebookContainer) {{\n",
              "    x.observe(notebookContainer, {childList: true});\n",
              "}}\n",
              "\n",
              "// Listen for the clearing of the current output cell\n",
              "var outputEl = gd.closest('.output');\n",
              "if (outputEl) {{\n",
              "    x.observe(outputEl, {childList: true});\n",
              "}}\n",
              "\n",
              "                        })                };                            </script>        </div>\n",
              "</body>\n",
              "</html>"
            ]
          },
          "metadata": {}
        }
      ]
    },
    {
      "cell_type": "markdown",
      "source": [
        "###**Vocabulary Size 8192**"
      ],
      "metadata": {
        "id": "GE6aqrhLBpS9"
      }
    },
    {
      "cell_type": "code",
      "source": [
        "corpus_stats(vocab8192)\n",
        "vocab_comparison(vocab8192, dnabert2, \"Bacteria\", \"DNABERT2\")"
      ],
      "metadata": {
        "colab": {
          "base_uri": "https://localhost:8080/",
          "height": 942
        },
        "id": "yKwsylb4Bd00",
        "outputId": "2a2412b1-11d5-4797-ec17-0f5c03fda365"
      },
      "execution_count": 17,
      "outputs": [
        {
          "output_type": "display_data",
          "data": {
            "text/html": [
              "<html>\n",
              "<head><meta charset=\"utf-8\" /></head>\n",
              "<body>\n",
              "    <div>            <script src=\"https://cdnjs.cloudflare.com/ajax/libs/mathjax/2.7.5/MathJax.js?config=TeX-AMS-MML_SVG\"></script><script type=\"text/javascript\">if (window.MathJax && window.MathJax.Hub && window.MathJax.Hub.Config) {window.MathJax.Hub.Config({SVG: {font: \"STIX-Web\"}});}</script>                <script type=\"text/javascript\">window.PlotlyConfig = {MathJaxConfig: 'local'};</script>\n",
              "        <script charset=\"utf-8\" src=\"https://cdn.plot.ly/plotly-2.24.1.min.js\"></script>                <div id=\"665b8b1d-f67c-41ab-b811-19308e89e452\" class=\"plotly-graph-div\" style=\"height:525px; width:100%;\"></div>            <script type=\"text/javascript\">                                    window.PLOTLYENV=window.PLOTLYENV || {};                                    if (document.getElementById(\"665b8b1d-f67c-41ab-b811-19308e89e452\")) {                    Plotly.newPlot(                        \"665b8b1d-f67c-41ab-b811-19308e89e452\",                        [{\"alignmentgroup\":\"True\",\"bingroup\":\"x\",\"hovertemplate\":\"Word Length=%{x}\\u003cbr\\u003ecount=%{y}\\u003cextra\\u003e\\u003c\\u002fextra\\u003e\",\"legendgroup\":\"\",\"marker\":{\"color\":\"#636efa\",\"pattern\":{\"shape\":\"\"}},\"name\":\"\",\"nbinsx\":30,\"offsetgroup\":\"\",\"orientation\":\"v\",\"showlegend\":false,\"x\":[1,1,1,1,1,1,1,1,1,1,1,1,1,1,1,2,2,2,2,2,2,2,2,2,2,3,3,3,3,3,3,3,3,3,3,3,3,3,3,3,3,3,4,3,3,3,3,4,3,4,4,3,4,4,4,4,4,4,4,4,4,4,4,4,4,4,4,4,4,4,4,4,4,4,4,3,4,4,4,4,4,4,4,4,4,4,4,4,4,4,4,4,4,4,4,4,4,4,4,4,4,4,4,5,4,4,4,4,4,4,4,4,4,4,4,4,4,5,4,4,4,5,4,5,4,4,5,5,5,4,5,5,5,4,4,5,5,5,5,5,5,4,5,5,5,5,5,5,4,5,5,5,4,4,4,4,5,5,5,5,5,5,4,5,5,5,5,5,5,5,5,5,5,5,5,5,5,5,5,5,5,5,5,5,5,5,5,5,5,5,5,5,5,5,4,5,5,5,6,5,5,6,5,5,5,5,5,6,5,4,5,5,5,5,5,6,5,5,6,5,5,5,4,5,5,5,5,4,5,5,5,5,4,5,5,5,6,5,6,5,4,5,4,4,5,5,5,5,5,5,5,5,5,5,4,6,5,5,5,5,5,5,5,5,5,5,5,5,5,5,5,5,5,5,5,5,5,5,5,5,6,6,5,5,5,5,5,5,5,5,5,5,5,5,5,5,5,5,5,5,5,5,5,5,6,5,5,6,5,5,5,5,5,5,5,5,5,5,5,5,5,5,5,5,5,5,5,5,5,5,4,5,6,5,5,6,6,5,5,6,6,5,5,6,6,5,6,5,5,6,5,6,5,6,5,5,6,5,4,5,5,6,6,5,6,6,5,5,5,6,5,6,5,5,6,6,5,5,6,6,5,6,5,6,5,6,5,6,5,6,5,6,6,5,5,5,5,6,6,4,6,5,5,6,6,6,7,6,5,6,5,6,5,6,5,6,6,6,6,6,5,6,5,6,5,4,6,6,6,6,6,5,6,6,6,5,6,6,6,6,5,6,6,5,6,6,6,6,5,6,6,5,6,6,6,6,6,5,6,6,6,6,5,5,5,5,6,5,6,6,5,6,6,6,6,6,6,6,6,6,5,5,6,5,5,6,6,5,6,6,5,6,6,6,6,6,6,7,5,6,6,5,6,6,6,7,6,6,5,6,5,6,6,6,6,6,5,6,6,6,6,6,6,6,6,6,6,5,6,5,5,6,5,6,6,5,6,6,6,6,6,6,5,6,6,5,6,6,6,6,6,6,5,6,6,6,6,5,6,6,6,7,7,6,6,6,6,6,6,5,6,6,6,6,6,6,5,6,5,6,6,5,6,6,5,6,6,5,5,6,6,6,6,6,6,6,5,5,6,6,6,6,6,6,6,6,5,6,6,6,6,6,6,6,6,6,6,6,6,6,6,6,6,5,6,7,6,7,5,5,6,6,6,6,6,5,6,5,6,6,6,6,5,6,5,6,5,6,6,6,6,6,6,6,5,6,6,6,6,6,6,6,6,6,6,6,5,6,6,6,6,5,6,6,6,6,6,6,6,6,5,6,5,6,6,6,5,6,5,6,6,6,7,6,6,5,7,6,6,6,6,6,7,6,6,6,6,6,5,6,6,5,6,5,6,6,7,6,6,6,6,6,6,6,6,6,6,6,6,6,6,6,5,6,6,5,6,6,6,6,6,6,6,6,6,6,6,6,6,6,6,6,6,6,6,6,6,6,6,6,6,6,6,6,6,6,6,6,5,6,6,6,5,6,6,6,7,6,6,6,7,6,6,6,6,6,6,6,6,6,6,6,6,6,6,6,6,6,6,6,6,6,6,6,6,6,6,6,6,6,6,6,6,6,6,6,5,6,6,6,5,6,6,6,6,6,6,7,7,6,6,6,7,6,6,6,6,6,6,6,6,6,6,7,6,7,6,7,7,7,6,6,6,5,6,6,6,7,6,6,6,6,6,6,6,6,7,6,5,6,6,6,6,6,6,6,6,6,7,6,6,6,6,6,6,6,6,6,6,7,6,6,6,6,7,6,6,6,6,6,6,6,6,6,7,6,6,6,6,6,7,6,6,6,6,6,6,6,6,7,6,6,6,7,6,7,6,6,6,6,6,6,6,6,6,7,6,6,8,7,6,5,6,7,6,8,7,6,6,6,6,6,6,6,6,6,6,6,6,6,7,6,6,6,6,6,7,7,6,6,6,6,6,6,6,6,6,6,6,6,6,6,6,6,7,6,6,6,6,6,6,6,6,5,6,6,6,6,7,6,7,6,6,6,6,6,7,6,7,6,7,6,6,6,6,6,6,6,6,7,6,6,6,6,6,7,6,6,7,7,7,6,6,6,6,7,6,6,6,6,6,7,6,5,6,6,7,7,6,6,6,7,6,6,6,6,6,7,6,6,6,6,6,6,6,6,6,6,6,6,6,6,6,6,6,7,6,6,7,7,6,7,6,7,6,6,6,7,6,7,7,6,6,6,6,7,7,6,7,6,6,6,6,6,6,6,6,6,6,7,6,6,7,6,6,6,6,7,6,7,6,7,7,6,7,6,6,7,6,6,6,6,7,6,6,6,7,7,7,6,6,6,6,6,6,6,6,7,7,7,6,6,5,7,6,6,7,7,6,7,6,6,7,7,7,7,6,7,6,6,6,7,7,6,7,6,7,6,7,6,6,6,6,6,7,6,6,6,6,7,6,6,6,7,6,7,7,7,7,7,7,7,6,6,6,7,5,7,7,7,6,7,6,6,6,6,6,7,6,6,6,6,7,6,6,7,6,6,7,7,6,6,7,6,7,6,7,7,7,6,7,5,6,6,5,7,6,5,6,6,7,6,6,7,6,7,6,6,6,6,6,6,6,7,6,7,7,6,6,6,7,6,7,7,7,6,7,7,6,7,6,6,6,7,7,6,6,6,7,6,7,7,7,6,6,7,7,6,7,6,6,7,6,6,5,6,7,6,6,6,6,6,7,7,7,7,6,6,7,6,6,7,7,6,6,6,6,7,7,6,6,6,7,7,7,7,7,7,7,7,6,6,6,6,7,7,7,6,6,6,7,7,7,6,6,7,7,6,6,6,6,6,7,7,7,7,6,6,7,7,7,7,7,7,6,6,7,6,7,7,6,7,7,5,6,7,7,6,6,7,7,6,6,7,6,6,7,7,7,7,6,6,7,7,7,7,6,7,5,6,7,6,6,6,7,7,7,7,7,7,6,7,7,6,7,7,7,7,6,7,7,7,7,7,7,7,7,7,7,6,6,7,7,7,7,6,6,6,6,7,7,6,7,7,6,7,7,6,7,6,7,7,7,6,6,7,7,7,7,6,7,7,6,6,7,7,6,7,7,7,6,7,7,7,7,6,7,7,6,6,6,7,7,6,6,7,7,7,7,6,7,6,7,6,7,6,6,6,7,7,6,8,6,6,7,7,6,6,7,7,7,7,6,7,6,7,7,7,7,6,7,6,7,7,7,7,7,7,7,6,7,7,7,7,7,7,7,7,7,7,7,7,7,7,7,7,7,7,7,7,7,7,7,7,6,6,7,7,7,6,7,7,6,7,7,7,7,7,7,7,7,7,6,6,7,6,7,6,7,7,8,6,7,6,7,7,6,7,6,6,7,7,7,6,7,6,7,6,6,7,6,7,7,6,7,7,2,7,7,7,6,7,7,7,7,7,7,7,6,7,6,7,7,8,7,7,7,7,7,7,7,7,6,7,7,7,7,7,6,7,7,7,7,7,7,7,7,7,7,7,7,7,7,7,7,6,7,7,6,6,7,7,5,7,7,7,7,7,7,7,8,7,7,7,6,6,6,7,6,6,6,8,2,7,7,7,7,7,7,7,7,7,7,7,7,7,7,7,5,7,7,7,7,7,7,7,5,7,7,7,6,6,6,8,7,6,7,7,7,6,7,8,7,6,7,8,8,7,7,7,7,7,7,7,7,7,7,6,7,7,7,8,7,6,7,8,7,7,7,6,7,7,7,7,6,7,7,7,7,6,7,7,6,7,7,7,6,7,7,7,7,8,5,7,7,6,7,7,7,7,7,7,7,7,6,7,7,7,7,7,7,7,7,6,6,5,6,7,7,7,7,7,8,7,7,7,6,7,7,7,6,7,7,6,7,7,7,7,7,6,7,6,7,7,7,7,7,7,7,7,6,6,7,7,7,7,7,7,6,7,7,6,7,7,7,7,7,6,7,7,7,6,7,6,7,7,7,7,7,7,7,7,7,7,7,7,6,7,7,7,7,7,7,7,7,6,6,6,7,7,7,7,6,7,7,7,7,7,7,7,7,7,7,7,7,7,7,7,7,7,8,7,7,7,7,7,7,7,7,7,7,7,7,7,7,7,7,6,7,7,7,7,8,7,7,7,7,7,7,7,7,7,7,6,7,7,7,7,7,6,7,7,7,7,6,7,7,6,7,6,8,7,7,7,7,7,7,7,7,7,7,7,6,7,7,8,7,7,7,7,7,7,7,7,7,7,7,7,7,7,7,7,7,7,7,7,7,7,7,7,7,7,7,7,7,7,7,7,7,7,6,7,7,7,7,7,7,7,7,7,7,7,7,8,7,7,7,7,7,7,7,7,6,6,7,7,7,7,7,7,7,7,7,7,6,7,7,7,7,5,7,7,8,7,7,8,7,7,7,7,7,7,7,7,7,7,7,7,7,7,7,7,7,7,7,7,7,7,7,7,5,8,6,7,5,7,6,7,7,7,7,7,8,7,7,7,6,7,7,7,7,7,7,7,7,7,6,7,7,7,7,7,7,7,6,8,7,6,7,7,7,6,7,7,7,7,7,7,6,8,7,7,6,8,7,7,8,7,6,7,6,7,7,7,6,7,7,6,7,7,7,6,6,7,7,7,7,7,7,7,7,8,6,7,7,7,7,7,7,6,7,7,7,7,7,7,7,7,7,7,6,7,7,7,7,7,7,7,7,7,7,7,7,7,8,7,7,7,6,7,5,5,8,7,7,7,8,7,7,7,7,7,7,7,7,7,7,7,7,7,6,7,7,7,7,7,7,7,7,7,7,7,8,7,7,7,7,6,7,7,7,7,7,7,6,7,7,7,7,7,7,7,7,7,7,7,7,6,7,7,7,7,7,7,7,6,7,7,7,7,8,7,7,6,7,6,7,7,7,7,7,7,7,8,7,7,7,7,7,7,7,6,7,6,7,7,7,7,7,5,8,7,7,6,7,7,7,7,7,6,6,7,7,7,7,7,8,7,7,5,7,7,7,8,7,7,7,7,7,7,8,7,7,7,7,7,7,7,7,8,7,7,7,7,6,7,6,7,8,7,7,7,7,7,8,5,7,7,7,7,7,6,7,7,7,8,7,7,7,7,7,7,7,7,7,7,7,6,7,7,7,7,7,7,7,7,7,7,7,7,7,7,7,7,7,7,7,7,7,8,7,7,7,7,7,7,7,7,7,5,7,7,7,6,7,8,8,7,7,7,7,7,7,7,8,7,7,7,7,7,6,7,7,8,7,7,7,7,7,7,7,7,7,7,6,7,7,7,7,7,7,7,7,7,7,7,7,7,7,7,8,7,7,7,7,7,8,7,7,7,7,7,7,6,7,6,7,7,7,5,8,7,7,7,7,8,6,8,8,7,7,7,7,7,7,7,7,7,7,7,7,7,7,7,7,7,7,7,7,7,7,7,8,7,7,7,7,7,7,6,7,7,7,8,7,7,7,7,7,7,8,7,7,7,7,7,7,7,7,7,7,7,7,7,7,7,7,7,7,7,7,7,7,7,8,6,6,7,7,7,8,7,7,7,7,7,7,7,7,7,7,7,7,7,7,7,7,7,7,8,7,7,7,7,7,8,8,7,7,8,8,7,7,7,6,7,7,7,7,7,7,8,7,7,7,7,7,7,7,8,7,7,7,7,7,7,7,7,7,7,7,8,7,8,7,7,7,7,8,8,7,7,7,6,8,7,7,7,7,7,7,7,5,7,7,7,7,7,7,7,7,7,7,7,7,7,7,7,7,8,7,7,7,7,7,8,7,8,7,8,7,8,7,8,8,7,7,8,7,7,7,7,8,8,6,7,7,6,7,7,7,7,8,7,7,7,7,7,7,7,8,7,7,7,7,7,6,7,7,7,7,5,7,7,7,7,7,8,6,7,7,7,7,8,7,8,8,7,7,7,7,7,8,7,7,7,8,7,7,7,7,8,6,7,8,7,7,7,8,7,7,7,8,7,7,7,7,7,8,7,8,7,6,8,7,6,7,7,7,6,7,7,7,7,8,7,8,7,7,7,7,7,7,7,8,8,7,8,7,6,7,7,6,7,7,7,6,8,7,7,7,7,7,7,8,6,7,7,7,7,8,7,7,7,7,7,7,7,7,7,7,7,8,7,6,7,7,7,7,7,6,7,7,7,7,7,8,7,7,7,6,7,7,7,7,7,7,7,7,8,7,7,7,7,7,7,8,7,7,6,7,7,6,7,7,6,7,6,7,7,7,7,7,8,7,7,8,7,7,7,7,7,7,7,7,7,7,7,7,7,7,6,8,8,7,7,7,7,7,7,8,8,8,7,7,6,7,7,7,7,7,7,7,7,7,8,7,6,7,7,7,7,7,7,7,7,7,8,6,7,7,7,7,7,8,7,7,7,7,7,7,8,7,8,7,7,7,7,7,7,7,7,8,7,7,7,7,6,8,7,7,6,7,7,7,7,7,7,7,9,8,7,7,7,7,7,7,7,7,6,7,7,7,7,7,8,7,7,8,7,7,7,8,7,7,6,8,7,7,7,7,8,7,7,7,7,7,7,8,7,8,6,7,6,7,8,8,6,7,7,8,7,6,7,7,8,7,7,7,7,7,7,7,7,7,7,7,8,7,7,7,8,7,7,7,8,7,7,8,7,8,7,7,8,7,7,7,7,7,7,7,7,8,7,7,7,7,7,8,7,7,7,7,8,7,7,7,7,7,7,7,8,8,7,9,7,7,7,7,7,7,7,7,7,6,7,8,7,7,6,7,7,7,8,7,7,7,8,7,7,7,7,7,7,8,7,7,7,7,7,7,7,7,7,7,7,6,7,8,7,7,7,7,7,7,6,7,7,7,8,8,7,7,7,7,8,8,6,7,7,7,8,7,7,7,7,7,7,7,7,8,7,7,7,7,7,7,7,8,8,7,7,8,7,7,8,7,7,7,7,6,7,7,7,7,7,7,7,7,7,7,7,7,9,7,7,6,8,7,8,7,7,7,7,7,7,8,7,7,7,7,7,7,7,7,7,7,8,8,7,7,7,7,7,7,7,7,7,7,7,8,7,7,7,7,7,8,7,8,7,8,7,7,7,7,8,8,8,7,7,7,8,6,7,8,8,7,7,7,8,8,7,8,6,7,7,8,6,7,8,7,8,7,7,7,7,7,7,8,8,8,7,7,7,7,7,8,8,8,7,7,8,7,7,7,7,7,7,7,7,8,7,7,7,8,7,7,7,7,6,7,7,7,7,8,7,8,7,7,8,8,7,7,8,7,8,7,7,7,7,7,8,6,7,7,7,7,7,6,7,7,7,7,7,7,7,7,7,7,7,7,7,7,7,8,7,6,7,8,8,7,7,7,7,7,7,7,7,7,8,8,8,7,7,8,7,7,7,7,7,8,6,7,6,7,7,7,8,7,7,7,8,7,8,6,7,8,8,6,8,8,7,7,7,8,7,7,7,8,7,7,8,7,6,8,7,8,6,7,7,7,7,7,7,7,7,7,7,6,7,7,7,7,7,7,7,8,7,8,7,8,7,8,7,7,6,8,7,6,8,8,8,6,7,6,7,7,6,7,8,7,7,7,7,7,7,7,7,7,7,8,9,8,7,7,6,7,7,8,9,7,8,6,8,7,8,7,7,7,7,7,7,7,6,8,6,8,7,7,7,7,7,7,7,8,7,7,7,7,8,8,8,8,7,7,6,7,8,7,8,7,7,7,7,8,7,7,7,8,7,7,7,7,8,7,7,7,7,8,7,8,7,7,7,7,7,8,8,8,7,7,7,8,7,8,7,6,6,6,7,7,7,7,8,7,8,7,7,7,8,8,7,7,8,8,7,7,7,7,7,8,8,8,7,7,8,8,8,8,7,7,6,7,7,8,7,7,7,7,7,6,7,7,5,7,7,7,7,8,8,7,7,7,7,7,8,8,7,8,8,6,7,7,7,8,6,7,7,7,6,7,8,7,7,7,7,7,8,7,7,9,8,7,7,7,7,8,7,8,7,7,7,6,7,7,7,7,8,8,8,7,7,8,7,8,7,7,8,7,8,7,7,7,7,7,7,8,7,8,8,7,8,7,8,7,7,8,8,7,8,7,7,8,7,7,8,7,8,7,7,7,7,7,7,3,7,7,8,7,8,7,7,7,7,7,7,7,7,6,7,7,7,7,7,7,7,7,8,7,8,7,7,7,7,7,7,7,7,8,7,7,8,8,7,7,7,8,7,7,8,7,8,8,8,7,8,7,7,7,8,8,7,6,7,7,8,7,8,7,7,7,8,8,7,7,8,8,7,7,7,7,7,8,8,6,8,7,7,8,7,6,8,7,7,8,7,7,7,8,7,7,7,7,7,8,8,7,7,8,7,7,7,7,7,6,7,7,7,7,7,8,7,7,7,7,8,7,7,7,8,7,7,8,8,7,7,8,8,7,7,7,8,7,7,8,7,7,7,7,8,6,7,7,8,8,7,7,7,7,7,7,7,7,7,8,7,7,7,8,7,8,7,8,7,8,7,7,6,8,7,8,7,7,8,7,7,8,7,8,7,8,8,8,7,7,8,7,7,8,7,9,7,7,7,7,7,7,8,7,7,8,8,7,7,7,8,8,8,7,7,7,7,7,7,8,7,8,7,7,7,7,8,6,7,7,7,8,6,7,7,7,7,6,7,7,7,7,7,7,8,8,8,6,7,7,8,8,7,8,7,8,7,7,8,7,8,7,7,7,8,7,7,7,7,7,7,7,7,7,8,7,8,6,7,7,7,6,7,8,8,8,7,8,7,7,8,8,7,8,7,8,8,7,8,8,7,7,7,9,8,8,7,7,8,7,8,7,7,7,7,8,7,8,8,7,8,8,7,7,8,7,7,7,7,8,7,7,9,8,7,8,6,8,7,8,7,8,7,8,7,7,7,7,7,7,8,7,7,7,7,7,7,8,8,8,7,7,8,7,7,7,7,7,7,8,8,7,8,8,8,7,8,7,7,7,8,7,7,8,7,7,7,7,7,7,7,7,8,7,8,7,7,7,7,8,7,7,8,8,8,7,7,7,8,8,7,7,8,7,7,7,7,7,7,8,7,8,8,7,8,7,6,7,8,8,8,7,7,8,7,8,8,7,6,8,8,7,7,6,7,8,7,7,7,7,8,7,7,7,7,7,8,8,8,8,8,7,7,7,7,7,7,8,7,8,8,8,7,8,8,7,7,8,8,8,8,8,7,7,7,7,8,7,8,7,8,8,7,8,6,8,7,7,8,7,7,7,7,7,8,8,7,7,7,7,8,8,8,7,8,7,8,8,8,7,7,8,8,8,7,8,8,7,7,7,8,7,7,7,8,8,7,8,8,7,8,7,7,8,7,8,7,7,7,8,8,7,8,7,7,8,7,7,8,8,8,8,7,7,7,7,8,8,7,7,7,8,8,8,7,7,8,7,7,8,7,8,7,7,7,8,8,7,8,7,8,7,7,7,7,8,8,8,7,7,8,7,8,7,8,7,8,7,8,7,8,7,7,7,8,7,7,7,7,7,7,7,8,8,7,8,7,8,8,8,7,7,8,7,7,8,8,7,7,8,7,7,7,8,7,8,7,7,8,8,7,7,7,8,8,8,8,8,8,8,7,7,7,7,7,7,7,7,8,7,7,8,8,8,8,8,8,7,7,8,6,8,7,8,8,7,7,8,8,8,8,8,8,7,7,8,7,8,7,6,8,8,9,7,7,7,7,7,7,7,7,8,8,7,7,7,8,7,8,7,8,8,7,8,7,7,8,8,8,8,8,7,8,7,8,8,8,7,7,7,7,7,8,8,8,7,8,7,8,7,8,8,7,6,7,6,7,6,7,8,8,7,7,8,8,8,7,7,7,7,7,7,8,8,7,8,8,8,8,8,7,8,7,7,8,7,8,8,8,8,8,7,8,8,7,7,7,8,7,8,8,7,7,8,8,8,7,7,8,7,7,7,7,8,8,7,7,7,7,8,8,7,7,8,8,7,7,8,7,8,8,7,7,7,7,8,7,8,7,7,6,7,7,6,7,8,8,7,8,8,7,8,8,7,7,7,8,8,7,7,8,7,8,8,7,8,8,7,8,8,7,8,7,7,8,7,8,7,8,7,8,8,7,7,8,7,7,8,7,8,8,7,8,7,7,7,7,8,8,8,7,7,7,7,7,7,8,7,8,7,7,7,8,8,7,7,7,8,8,8,7,7,8,7,7,7,7,8,8,7,6,8,7,7,8,7,7,8,8,8,8,7,8,7,8,8,9,7,7,7,8,7,7,7,7,7,8,8,8,8,7,7,7,7,7,7,8,8,8,7,8,7,7,8,6,7,7,8,8,8,7,7,8,7,8,8,8,7,7,8,8,7,7,8,7,8,9,8,8,7,8,8,7,7,7,7,8,8,7,7,7,8,8,8,7,8,8,8,8,7,7,8,7,7,7,7,8,8,8,7,7,8,7,7,7,7,6,7,8,8,8,7,8,7,7,8,8,8,7,8,8,7,8,8,8,7,8,7,7,8,7,7,8,7,8,7,9,8,8,7,7,8,7,8,8,8,7,8,7,8,8,8,8,7,7,8,8,7,8,7,8,6,7,7,8,8,7,8,7,7,8,8,8,8,8,7,8,7,7,7,8,8,7,7,8,8,7,8,6,7,8,8,8,8,7,8,8,7,7,8,8,7,8,8,8,8,8,7,7,7,8,7,7,7,7,8,8,7,8,7,7,8,6,8,3,8,8,8,8,8,8,8,8,7,8,7,9,7,7,8,7,7,8,8,8,8,7,9,8,8,7,7,7,7,7,8,7,7,8,8,7,7,7,8,7,7,7,7,7,8,6,8,8,6,7,8,8,3,7,8,7,8,7,8,7,7,8,7,7,7,8,8,6,8,8,8,7,8,8,8,8,8,8,7,8,8,8,8,8,7,7,7,8,8,7,7,8,7,8,7,8,8,7,8,8,8,7,7,8,7,8,8,7,8,8,7,8,7,7,8,7,8,7,9,7,7,7,7,8,7,9,8,9,7,7,8,8,7,8,7,7,7,7,9,8,8,8,7,7,8,7,8,8,7,8,8,6,8,8,8,7,7,7,8,7,7,8,8,7,7,7,8,7,9,8,8,8,7,8,9,7,7,8,7,8,8,7,7,7,8,8,8,7,7,8,8,7,9,7,8,8,8,8,8,7,7,8,7,7,8,7,7,6,7,8,6,7,8,8,8,7,7,8,8,7,8,8,8,8,7,7,7,7,8,7,7,8,8,7,8,7,7,8,8,7,7,8,7,8,8,7,7,7,8,8,7,6,7,7,8,8,8,7,8,7,7,7,8,7,8,7,8,8,7,8,8,7,8,8,7,7,8,8,8,7,7,8,8,7,7,8,7,8,8,8,8,8,7,8,7,8,7,8,6,8,8,8,7,8,8,7,8,8,7,8,8,7,8,7,8,8,8,8,7,8,6,7,7,7,8,8,7,8,7,8,7,7,8,8,7,8,8,7,7,7,8,8,7,8,9,7,7,8,7,7,8,7,8,8,8,8,8,8,7,8,8,7,7,7,8,8,8,8,8,7,6,7,7,7,7,8,8,8,7,7,7,7,8,8,7,8,8,7,7,8,7,8,7,8,8,7,7,8,7,8,9,8,8,8,8,8,7,7,8,8,8,7,8,8,8,8,8,7,8,8,7,7,8,8,8,7,8,7,8,8,8,8,8,7,9,8,8,8,8,7,8,8,8,8,9,8,7,8,7,8,8,7,8,8,8,8,9,8,7,7,9,8,7,8,7,8,8,8,8,8,8,8,7,7,7,8,8,8,8,7,8,7,8,8,8,8,8,7,8,8,7,7,8,7,8,7,7,7,7,8,6,7,8,9,8,8,8,8,8,7,7,8,7,8,8,8,8,7,8,7,8,8,7,7,8,8,8,8,7,7,8,8,8,8,7,7,7,8,7,8,8,8,8,8,8,7,8,8,7,7,8,8,7,7,7,8,8,8,8,9,8,8,8,8,8,7,8,8,8,8,8,8,7,8,7,8,8,7,8,8,8,8,8,7,8,9,7,8,8,8,7,8,8,8,8,7,8,8,7,8,7,8,7,8,7,7,7,8,7,7,8,9,7,8,7,7,8,8,7,7,7,8,7,8,8,7,8,9,7,7,8,8,7,8,8,7,8,8,7,7,8,8,8,8,7,7,8,8,7,8,7,8,7,8,8,8,7,8,8,8,9,7,8,8,8,8,8,8,8,8,8,7,7,8,7,8,7,8,7,8,8,8,7,9,8,7,8,8,8,8,7,7,8,8,8,8,7,7,8,8,8,7,7,8,7,7,7,8,7,7,8,8,8,8,8,7,7,8,8,7,8,9,9,7,8,7,9,7,7,8,7,7,7,8,7,8,8,8,7,7,8,8,7,7,8,7,8,8,8,7,7,7,7,8,8,8,8,7,7,8,7,7,8,8,7,7,8,8,8,7,8,8,8,8,8,7,7,8,7,7,7,8,7,8,8,7,8,8,8,8,7,8,8,8,8,7,7,7,8,6,8,7,8,8,8,8,7,9,8,7,8,8,8,7,8,7,8,8,8,8,7,7,9,7,7,8,7,8,7,7,8,7,7,8,8,8,8,7,7,7,7,7,8,8,7,8,7,9,8,7,7,8,8,7,8,8,8,8,8,7,7,7,8,8,8,8,8,8,7,8,8,8,8,8,7,8,8,8,8,7,8,7,8,8,8,7,8,7,8,9,8,8,7,9,8,7,8,8,8,7,8,7,7,9,7,8,7,8,8,8,9,8,7,8,8,8,8,9,8,8,9,8,8,7,8,8,7,8,8,7,8,7,6,7,8,7,8,7,7,9,8,8,8,7,7,8,8,8,7,7,8,8,8,8,7,6,7,8,8,8,8,7,8,8,7,8,8,7,8,8,7,8,7,8,8,7,8,7,8,8,8,8,8,8,8,8,7,8,8,8,7,7,7,8,7,8,8,8,8,8,8,8,7,8,7,7,8,7,8,7,8,8,9,7,7,7,8,7,8,8,7,8,9,8,8,7,8,7,8,9,8,8,7,7,8,9,8,7,8,8,6,7,8,8,8,8,8,8,8,9,8,8,8,7,7,8,9,8,7,8,8,7,8,8,7,9,8,7,7,8,7,7,8,8,8,8,8,7,8,7,7,8,8,8,8,8,8,8,7,8,8,9,8,8,8,8,8,9,7,7,8,8,7,8,8,7,7,8,7,8,8,8,8,8,8,8,8,8,7,8,8,8,7,8,7,8,7,9,7,8,9,8,8,8,8,8,8,8,8,8,8,8,7,8,8,8,7,8,8,8,7,8,8,8,7,7,8,8,7,8,8,8,7,7,7,8,8,7,7,8,8,8,8,7,7,8,7,8,7,8,7,6,8,8,8,8,7,8,8,8,9,8,7,8,8,8,7,8,8,8,7,7,8,8,8,7,8,8,8,8,8,8,7,7,7,8,8,8,7,8,8,7,8,8,8,9,9,8,8,7,8,7,8,7,7,7,8,7,9,8,7,8,9,8,8,7,7,7,8,8,7,8,8,8,8,8,8,8,9,8,8,8,8,8,8,7,8,8,8,8,7,7,7,8,8,8,8,8,8,7,7,8,7,8,8,8,7,8,8,7,8,8,7,3,7,8,8,7,8,7,8,7,7,7,9,8,7,8,8,8,7,8,8,7,9,8,7,8,8,8,8,8,7,8,7,9,8,8,8,7,7,8,8,7,9,8,8,7,8,7,7,8,8,8,8,9,8,8,8,8,8,8,7,8,8,8,7,7,7,7,7,7,7,8,8,7,8,8,8,8,8,8,7,8,9,8,7,8,7,8,7,8,7,7,8,7,7,8,8,8,7,8,7,8,8,9,8,7,8,8,8,8,7,8,8,8,8,8,8,7,8,8,8,8,7,7,8,7,7,8,8,7,7,8,8,8,8,8,7,8,7,8,8,7,7,8,8,8,8,8,7,8,8,8,9,8,8,9,8,7,8,8,8,8,8,8,8,8,8,8,8,8,8,8,8,8,8,7,8,8,8,8,8,8,8,8,7,8,8,8,8,8,8,8,7,8,8,8,9,8,8,8,8,8,8,7,6,8,8,8,8,8,8,8,8,7,8,8,8,8,8,8,8,7,8,8,8,8,8,7,8,8,8,8,8,8,8,8,7,8,8,8,7,8,7,7,8,8,7,8,7,8,8,8,7,8,9,8,7,8,8,8,8,8,7,8,8,8,8,7,6,7,8,8,8,7,8,8,7,8,8,8,8,8,8,8,8,8,8,8,9,8,8,8,8,8,9,8,8,8,8,7,8,8,7,8,8,8,8,8,8,8,7,8,8,7,9,9,8,8,7,9,8,8,8,7,7,7,8,8,8,8,7,8,7,7,7,8,8,9,8,7,7,7,8,8,8,8,8,8,8,7,8,7,8,8,7,7,8,7,7,7,7,9,8,8,7,7,8,8,8,3,8,8,8,8,8,8,7,8,8,8,8,7,8,7,8,8,6,7,10,7,8,7,7,8,8,7,8,8,8,8,7,8,8,8,7,8,7,8,8,8,8,8,8,7,9,8,7,8,7,8,8,8,8,8,8,8,7,8,8,9,8,8,9,8,7,8,8,8,8,7,8,7,8,8,8,7,8,8,7,8,8,8,8,8,8,7,8,8,7,8,8,8,9,8,8,7,7,8,8,8,8,8,8,8,8,8,8,8,8,8,8,8,8,8,8,8,8,8,8,8,7,8,7,8,8,8,8,8,8,8,8,8,7,8,8,7,7,7,8,8,8,8,8,8,8,8,7,8,8,7,8,7,7,8,8,8,8,8,7,7,8,8,8,8,8,8,9,7,8,9,8,8,8,8,8,7,8,8,8,7,8,7,8,7,7,7,9,8,8,9,8,7,9,8,6,8,8,7,7,8,8,8,7,8,8,8,7,8,8,8,9,8,8,8,8,7,8,7,7,8,8,8,8,8,8,8,8,9,8,8,8,8,8,8,8,8,8,8,8,8,8,8,7,3,8,8,8,8,7,9,8,8,8,7,8,7,8,8,8,8,8,8,9,8,8,9,8,7,8,7,8,8,8,8,8,7,7,8,8,8,8,8,8,8,9,7,8,8,8,7,7,8,7,8,8,8,7,7,8,7,7,8,8,7,7,8,8,7,8,8,7,7,8,8,7,8,8,8,8,8,7,8,9,8,8,8,8,7,7,8,7,8,8,10,9,8,9,7,8,9,8,8,7,9,7,8,8,8,8,7,8,8,8,8,8,7,8,8,8,8,7,8,8,8,7,8,8,8,8,8,7,8,7,8,8,7,9,8,7,8,8,8,8,8,8,8,8,8,8,7,8,8,8,7,9,8,8,8,8,8,8,7,7,8,8,7,8,8,9,8,8,7,7,7,8,9,8,8,8,8,8,8,8,8,8,8,8,9,8,7,8,8,8,8,8,8,8,8,7,8,8,8,8,7,8,7,8,8,8,8,9,8,8,7,7,8,9,8,8,8,8,7,7,7,8,8,8,8,8,7,8,9,7,8,8,7,8,8,8,8,8,8,7,7,8,8,8,8,7,7,8,8,8,8,8,7,8,8,7,8,8,8,7,8,8,8,8,8,8,8,7,8,8,8,8,9,8,8,8,8,7,8,7,7,8,8,8,9,8,8,8,8,8,7,7,8,8,8,8,8,8,7,8,7,7,7,7,8,8,8,8,8,8,7,7,8,8,7,7,8,8,8,8,8,9,8,7,8,9,8,7,8,8,7,8,8,8,9,8,8,8,8,8,8,8,8,8,8,8,8,8,8,8,8,7,8,8,8,8,8,8,8,8,8,7,8,8,8,7,7,8,7,8,8,9,7,9,7,7,7,9,8,8,9,8,7,8,7,8,7,8,8,3,7,7,8,8,9,8,8,8,9,7,8,8,8,8,9,7,8,8,8,7,8,8,8,7,8,7,7,7,8,8,7,8,8,7,7,8,8,8,8,8,8,8,7,8,7,8,7,8,8,7,8,8,8,8,7,8,8,8,8,8,8,8,8,8,8,8,8,8,8,8,7,8,7,8,8,8,8,8,8,8,9,8,8,8,7,8,8,8,9,8,8,7,8,8,8,8,7,3,8,8,8,8,8,8,8,8,8,7,9,8,8,8,9,8,8,8,8,8,8,8,8,6,8,8,8,8,8,8,8,8,7,8,9,8,8,7,8,8,8,8,8,8,7,7,8,9,8,7,8,8,7,8,8,8,8,7,8,8,8,8,8,7,8,8,7,9,8,8,8,8,7,8,8,8,8,8,8,8,8,5,8,8,8,8,8,8,8,8,8,8,8,8,8,8,8,7,8,8,9,7,7,8,8,8,8,7,7,7,7,8,8,9,8,8,9,9,8,8,7,8,8,9,8,8,8,8,8,7,7,8,8,8,8,8,7,8,8,8,8,9,8,7,8,7,8,8,8,8,9,8,7,7,8,8,3,8,8,8,8,8,7,8,8,7,8,8,8,8,7,8,7,8,7,8,7,8,8,8,8,8,8,7,7,7,8,7,7,9,6,8,7,8,8,8,9,7,8,8,9,8,7,8,7,8,8,8,8,8,7,9,8,7,8,8,8,8,8,8,7,8,8,7,8,9,8,8,8,6,7,8,7,8,8,8,8,8,8,8,8,8,8,7,7,8,9,8,8,8,9,8,8,8,7,8,8,8,8,8,8,8,9,7,7,8,8,8,7,8,9,8,8,7,8,8,8,8,8,8,8,8,9,7,8,8,7,8,8,8,8,9,8,7,8,8,8,8,8,8,7,8,9,9,8,8,8,8,8,8,9,7,8,8,8,8,7,8,8,8,7,7,7,7,7,7,8,9,7,8,9,8,8,7,8,8,8,8,8,8,8,8,8,8,7,8,8,7,8,8,8,9,8,8,8,8,7,8,8,8,7,8,8,7,8,8,7,9,7,8,7,8,8,9,8,8,8,8,8,8,9,9,9,7,7,7,7,7,7,8,9,8,8,8,7,8,7,9,8,8,8,8,8,8,8,7,8,8,8,8,7,8,8,8,7,8,8,8,8,8,8,8,8,8,8,8,8,8,8,8,8,8,8,8,7,8,8,8,7,9,8,8,8,8,9,8,8,8,9,8,8,8,8,8,8,7,8,8,8,9,8,9,7,8,8,8,8,8,8,8,8,8,8,8,7,8,8,8,8,8,8,8,7,8,8,8,7,8,8,7,8,8,8,8,8,7,8,8,8,8,9,7,8,8,8,8,8,8,8,8,8,8,8,8,8,9,8,8,8,8,8,8,7,8,7,8,8,8,7,7,9,9,8,8,8,8,7,7,8,7,8,8,8,8,8,7,8,8,9,9,8,8,8,8,8,8,8,7,8,7,8,8,8,8,7,8,7,8,8,7,8,9,8,8,8,8,8,8,8,8,8,8,7,8,8,8,8,8,7,7,8,8,9,7,9,8,7,7,8,8,8,8,8,8,8,8,8,8,8,8,8,8,8,9,8,8,8,8,8,7,9,8,7,8,8,8,9,9,8,7,8,8,8,8,8,8,8,8,8,8,8,7,8,8,7,8,8,8,8,8,9,8,8,8,8,9,8,8,8,7,8,8,8,8,7,8,7,8,7,9,8,9,8,8,8,8,8,8,9,9,8,8,8,7,9,7,7,8,8,9,9,8,9,8,8,8,8,9,8,8,8,8,8,9,8,7,8,8,7,8,8,8,8,8,7,8,8,8,9,7,8,8,8,7,8,8,8,8,8,7,8,8,8,8,9,7,7,7,8,8,7,9,8,8,7,9,8,8,7,8,8,8,8,7,8,8,8,7,8,8,8,9,8,8,8,8,8,8,8,8,8,8,8,8,7,8,9,8,8,7,8,9,8,7,8,8,8,8,8,8,8,8,7,8,8,8,8,8,8,7,7,9,8,8,7,8,8,8,9,9,8,8,8,8,8,8,8,8,9,8,8,7,8,8,8,8,8,8,8,9,7,7,8,8,8,8,8,8,8,8,8,8,8,7,8,8,8,8,8,8,7,8,8,8,9,8,8,8,8,8,8,7,8,8,8,8,7,7,7,8,7,7,8,8,7,9,7,8,8,8,8,8,8,8,8,8,7,8,7,8,6,7,8,8,8,8,8,8,8,7,8,8,8,8,8,8,7,8,8,8,8,8,8,8,7,8,8,8,8,8,8,8,8,8,9,7,7,8,9,7,9,8,8,8,8,9,7,8,8],\"xaxis\":\"x\",\"yaxis\":\"y\",\"type\":\"histogram\"}],                        {\"template\":{\"data\":{\"histogram2dcontour\":[{\"type\":\"histogram2dcontour\",\"colorbar\":{\"outlinewidth\":0,\"ticks\":\"\"},\"colorscale\":[[0.0,\"#0d0887\"],[0.1111111111111111,\"#46039f\"],[0.2222222222222222,\"#7201a8\"],[0.3333333333333333,\"#9c179e\"],[0.4444444444444444,\"#bd3786\"],[0.5555555555555556,\"#d8576b\"],[0.6666666666666666,\"#ed7953\"],[0.7777777777777778,\"#fb9f3a\"],[0.8888888888888888,\"#fdca26\"],[1.0,\"#f0f921\"]]}],\"choropleth\":[{\"type\":\"choropleth\",\"colorbar\":{\"outlinewidth\":0,\"ticks\":\"\"}}],\"histogram2d\":[{\"type\":\"histogram2d\",\"colorbar\":{\"outlinewidth\":0,\"ticks\":\"\"},\"colorscale\":[[0.0,\"#0d0887\"],[0.1111111111111111,\"#46039f\"],[0.2222222222222222,\"#7201a8\"],[0.3333333333333333,\"#9c179e\"],[0.4444444444444444,\"#bd3786\"],[0.5555555555555556,\"#d8576b\"],[0.6666666666666666,\"#ed7953\"],[0.7777777777777778,\"#fb9f3a\"],[0.8888888888888888,\"#fdca26\"],[1.0,\"#f0f921\"]]}],\"heatmap\":[{\"type\":\"heatmap\",\"colorbar\":{\"outlinewidth\":0,\"ticks\":\"\"},\"colorscale\":[[0.0,\"#0d0887\"],[0.1111111111111111,\"#46039f\"],[0.2222222222222222,\"#7201a8\"],[0.3333333333333333,\"#9c179e\"],[0.4444444444444444,\"#bd3786\"],[0.5555555555555556,\"#d8576b\"],[0.6666666666666666,\"#ed7953\"],[0.7777777777777778,\"#fb9f3a\"],[0.8888888888888888,\"#fdca26\"],[1.0,\"#f0f921\"]]}],\"heatmapgl\":[{\"type\":\"heatmapgl\",\"colorbar\":{\"outlinewidth\":0,\"ticks\":\"\"},\"colorscale\":[[0.0,\"#0d0887\"],[0.1111111111111111,\"#46039f\"],[0.2222222222222222,\"#7201a8\"],[0.3333333333333333,\"#9c179e\"],[0.4444444444444444,\"#bd3786\"],[0.5555555555555556,\"#d8576b\"],[0.6666666666666666,\"#ed7953\"],[0.7777777777777778,\"#fb9f3a\"],[0.8888888888888888,\"#fdca26\"],[1.0,\"#f0f921\"]]}],\"contourcarpet\":[{\"type\":\"contourcarpet\",\"colorbar\":{\"outlinewidth\":0,\"ticks\":\"\"}}],\"contour\":[{\"type\":\"contour\",\"colorbar\":{\"outlinewidth\":0,\"ticks\":\"\"},\"colorscale\":[[0.0,\"#0d0887\"],[0.1111111111111111,\"#46039f\"],[0.2222222222222222,\"#7201a8\"],[0.3333333333333333,\"#9c179e\"],[0.4444444444444444,\"#bd3786\"],[0.5555555555555556,\"#d8576b\"],[0.6666666666666666,\"#ed7953\"],[0.7777777777777778,\"#fb9f3a\"],[0.8888888888888888,\"#fdca26\"],[1.0,\"#f0f921\"]]}],\"surface\":[{\"type\":\"surface\",\"colorbar\":{\"outlinewidth\":0,\"ticks\":\"\"},\"colorscale\":[[0.0,\"#0d0887\"],[0.1111111111111111,\"#46039f\"],[0.2222222222222222,\"#7201a8\"],[0.3333333333333333,\"#9c179e\"],[0.4444444444444444,\"#bd3786\"],[0.5555555555555556,\"#d8576b\"],[0.6666666666666666,\"#ed7953\"],[0.7777777777777778,\"#fb9f3a\"],[0.8888888888888888,\"#fdca26\"],[1.0,\"#f0f921\"]]}],\"mesh3d\":[{\"type\":\"mesh3d\",\"colorbar\":{\"outlinewidth\":0,\"ticks\":\"\"}}],\"scatter\":[{\"fillpattern\":{\"fillmode\":\"overlay\",\"size\":10,\"solidity\":0.2},\"type\":\"scatter\"}],\"parcoords\":[{\"type\":\"parcoords\",\"line\":{\"colorbar\":{\"outlinewidth\":0,\"ticks\":\"\"}}}],\"scatterpolargl\":[{\"type\":\"scatterpolargl\",\"marker\":{\"colorbar\":{\"outlinewidth\":0,\"ticks\":\"\"}}}],\"bar\":[{\"error_x\":{\"color\":\"#2a3f5f\"},\"error_y\":{\"color\":\"#2a3f5f\"},\"marker\":{\"line\":{\"color\":\"#E5ECF6\",\"width\":0.5},\"pattern\":{\"fillmode\":\"overlay\",\"size\":10,\"solidity\":0.2}},\"type\":\"bar\"}],\"scattergeo\":[{\"type\":\"scattergeo\",\"marker\":{\"colorbar\":{\"outlinewidth\":0,\"ticks\":\"\"}}}],\"scatterpolar\":[{\"type\":\"scatterpolar\",\"marker\":{\"colorbar\":{\"outlinewidth\":0,\"ticks\":\"\"}}}],\"histogram\":[{\"marker\":{\"pattern\":{\"fillmode\":\"overlay\",\"size\":10,\"solidity\":0.2}},\"type\":\"histogram\"}],\"scattergl\":[{\"type\":\"scattergl\",\"marker\":{\"colorbar\":{\"outlinewidth\":0,\"ticks\":\"\"}}}],\"scatter3d\":[{\"type\":\"scatter3d\",\"line\":{\"colorbar\":{\"outlinewidth\":0,\"ticks\":\"\"}},\"marker\":{\"colorbar\":{\"outlinewidth\":0,\"ticks\":\"\"}}}],\"scattermapbox\":[{\"type\":\"scattermapbox\",\"marker\":{\"colorbar\":{\"outlinewidth\":0,\"ticks\":\"\"}}}],\"scatterternary\":[{\"type\":\"scatterternary\",\"marker\":{\"colorbar\":{\"outlinewidth\":0,\"ticks\":\"\"}}}],\"scattercarpet\":[{\"type\":\"scattercarpet\",\"marker\":{\"colorbar\":{\"outlinewidth\":0,\"ticks\":\"\"}}}],\"carpet\":[{\"aaxis\":{\"endlinecolor\":\"#2a3f5f\",\"gridcolor\":\"white\",\"linecolor\":\"white\",\"minorgridcolor\":\"white\",\"startlinecolor\":\"#2a3f5f\"},\"baxis\":{\"endlinecolor\":\"#2a3f5f\",\"gridcolor\":\"white\",\"linecolor\":\"white\",\"minorgridcolor\":\"white\",\"startlinecolor\":\"#2a3f5f\"},\"type\":\"carpet\"}],\"table\":[{\"cells\":{\"fill\":{\"color\":\"#EBF0F8\"},\"line\":{\"color\":\"white\"}},\"header\":{\"fill\":{\"color\":\"#C8D4E3\"},\"line\":{\"color\":\"white\"}},\"type\":\"table\"}],\"barpolar\":[{\"marker\":{\"line\":{\"color\":\"#E5ECF6\",\"width\":0.5},\"pattern\":{\"fillmode\":\"overlay\",\"size\":10,\"solidity\":0.2}},\"type\":\"barpolar\"}],\"pie\":[{\"automargin\":true,\"type\":\"pie\"}]},\"layout\":{\"autotypenumbers\":\"strict\",\"colorway\":[\"#636efa\",\"#EF553B\",\"#00cc96\",\"#ab63fa\",\"#FFA15A\",\"#19d3f3\",\"#FF6692\",\"#B6E880\",\"#FF97FF\",\"#FECB52\"],\"font\":{\"color\":\"#2a3f5f\"},\"hovermode\":\"closest\",\"hoverlabel\":{\"align\":\"left\"},\"paper_bgcolor\":\"white\",\"plot_bgcolor\":\"#E5ECF6\",\"polar\":{\"bgcolor\":\"#E5ECF6\",\"angularaxis\":{\"gridcolor\":\"white\",\"linecolor\":\"white\",\"ticks\":\"\"},\"radialaxis\":{\"gridcolor\":\"white\",\"linecolor\":\"white\",\"ticks\":\"\"}},\"ternary\":{\"bgcolor\":\"#E5ECF6\",\"aaxis\":{\"gridcolor\":\"white\",\"linecolor\":\"white\",\"ticks\":\"\"},\"baxis\":{\"gridcolor\":\"white\",\"linecolor\":\"white\",\"ticks\":\"\"},\"caxis\":{\"gridcolor\":\"white\",\"linecolor\":\"white\",\"ticks\":\"\"}},\"coloraxis\":{\"colorbar\":{\"outlinewidth\":0,\"ticks\":\"\"}},\"colorscale\":{\"sequential\":[[0.0,\"#0d0887\"],[0.1111111111111111,\"#46039f\"],[0.2222222222222222,\"#7201a8\"],[0.3333333333333333,\"#9c179e\"],[0.4444444444444444,\"#bd3786\"],[0.5555555555555556,\"#d8576b\"],[0.6666666666666666,\"#ed7953\"],[0.7777777777777778,\"#fb9f3a\"],[0.8888888888888888,\"#fdca26\"],[1.0,\"#f0f921\"]],\"sequentialminus\":[[0.0,\"#0d0887\"],[0.1111111111111111,\"#46039f\"],[0.2222222222222222,\"#7201a8\"],[0.3333333333333333,\"#9c179e\"],[0.4444444444444444,\"#bd3786\"],[0.5555555555555556,\"#d8576b\"],[0.6666666666666666,\"#ed7953\"],[0.7777777777777778,\"#fb9f3a\"],[0.8888888888888888,\"#fdca26\"],[1.0,\"#f0f921\"]],\"diverging\":[[0,\"#8e0152\"],[0.1,\"#c51b7d\"],[0.2,\"#de77ae\"],[0.3,\"#f1b6da\"],[0.4,\"#fde0ef\"],[0.5,\"#f7f7f7\"],[0.6,\"#e6f5d0\"],[0.7,\"#b8e186\"],[0.8,\"#7fbc41\"],[0.9,\"#4d9221\"],[1,\"#276419\"]]},\"xaxis\":{\"gridcolor\":\"white\",\"linecolor\":\"white\",\"ticks\":\"\",\"title\":{\"standoff\":15},\"zerolinecolor\":\"white\",\"automargin\":true,\"zerolinewidth\":2},\"yaxis\":{\"gridcolor\":\"white\",\"linecolor\":\"white\",\"ticks\":\"\",\"title\":{\"standoff\":15},\"zerolinecolor\":\"white\",\"automargin\":true,\"zerolinewidth\":2},\"scene\":{\"xaxis\":{\"backgroundcolor\":\"#E5ECF6\",\"gridcolor\":\"white\",\"linecolor\":\"white\",\"showbackground\":true,\"ticks\":\"\",\"zerolinecolor\":\"white\",\"gridwidth\":2},\"yaxis\":{\"backgroundcolor\":\"#E5ECF6\",\"gridcolor\":\"white\",\"linecolor\":\"white\",\"showbackground\":true,\"ticks\":\"\",\"zerolinecolor\":\"white\",\"gridwidth\":2},\"zaxis\":{\"backgroundcolor\":\"#E5ECF6\",\"gridcolor\":\"white\",\"linecolor\":\"white\",\"showbackground\":true,\"ticks\":\"\",\"zerolinecolor\":\"white\",\"gridwidth\":2}},\"shapedefaults\":{\"line\":{\"color\":\"#2a3f5f\"}},\"annotationdefaults\":{\"arrowcolor\":\"#2a3f5f\",\"arrowhead\":0,\"arrowwidth\":1},\"geo\":{\"bgcolor\":\"white\",\"landcolor\":\"#E5ECF6\",\"subunitcolor\":\"white\",\"showland\":true,\"showlakes\":true,\"lakecolor\":\"white\"},\"title\":{\"x\":0.05},\"mapbox\":{\"style\":\"light\"}}},\"xaxis\":{\"anchor\":\"y\",\"domain\":[0.0,1.0],\"title\":{\"text\":\"Word Length\"}},\"yaxis\":{\"anchor\":\"x\",\"domain\":[0.0,1.0],\"title\":{\"text\":\"count\"}},\"legend\":{\"tracegroupgap\":0},\"title\":{\"text\":\"Histogram of Word Lengths\"},\"barmode\":\"relative\",\"showlegend\":false},                        {\"responsive\": true}                    ).then(function(){\n",
              "                            \n",
              "var gd = document.getElementById('665b8b1d-f67c-41ab-b811-19308e89e452');\n",
              "var x = new MutationObserver(function (mutations, observer) {{\n",
              "        var display = window.getComputedStyle(gd).display;\n",
              "        if (!display || display === 'none') {{\n",
              "            console.log([gd, 'removed!']);\n",
              "            Plotly.purge(gd);\n",
              "            observer.disconnect();\n",
              "        }}\n",
              "}});\n",
              "\n",
              "// Listen for the removal of the full notebook cells\n",
              "var notebookContainer = gd.closest('#notebook-container');\n",
              "if (notebookContainer) {{\n",
              "    x.observe(notebookContainer, {childList: true});\n",
              "}}\n",
              "\n",
              "// Listen for the clearing of the current output cell\n",
              "var outputEl = gd.closest('.output');\n",
              "if (outputEl) {{\n",
              "    x.observe(outputEl, {childList: true});\n",
              "}}\n",
              "\n",
              "                        })                };                            </script>        </div>\n",
              "</body>\n",
              "</html>"
            ]
          },
          "metadata": {}
        },
        {
          "output_type": "display_data",
          "data": {
            "text/html": [
              "<html>\n",
              "<head><meta charset=\"utf-8\" /></head>\n",
              "<body>\n",
              "    <div>            <script src=\"https://cdnjs.cloudflare.com/ajax/libs/mathjax/2.7.5/MathJax.js?config=TeX-AMS-MML_SVG\"></script><script type=\"text/javascript\">if (window.MathJax && window.MathJax.Hub && window.MathJax.Hub.Config) {window.MathJax.Hub.Config({SVG: {font: \"STIX-Web\"}});}</script>                <script type=\"text/javascript\">window.PlotlyConfig = {MathJaxConfig: 'local'};</script>\n",
              "        <script charset=\"utf-8\" src=\"https://cdn.plot.ly/plotly-2.24.1.min.js\"></script>                <div id=\"0a3684f3-b94a-42d2-a5c1-7826ce57e65d\" class=\"plotly-graph-div\" style=\"height:400px; width:800px;\"></div>            <script type=\"text/javascript\">                                    window.PLOTLYENV=window.PLOTLYENV || {};                                    if (document.getElementById(\"0a3684f3-b94a-42d2-a5c1-7826ce57e65d\")) {                    Plotly.newPlot(                        \"0a3684f3-b94a-42d2-a5c1-7826ce57e65d\",                        [],                        {\"template\":{\"data\":{\"histogram2dcontour\":[{\"type\":\"histogram2dcontour\",\"colorbar\":{\"outlinewidth\":0,\"ticks\":\"\"},\"colorscale\":[[0.0,\"#0d0887\"],[0.1111111111111111,\"#46039f\"],[0.2222222222222222,\"#7201a8\"],[0.3333333333333333,\"#9c179e\"],[0.4444444444444444,\"#bd3786\"],[0.5555555555555556,\"#d8576b\"],[0.6666666666666666,\"#ed7953\"],[0.7777777777777778,\"#fb9f3a\"],[0.8888888888888888,\"#fdca26\"],[1.0,\"#f0f921\"]]}],\"choropleth\":[{\"type\":\"choropleth\",\"colorbar\":{\"outlinewidth\":0,\"ticks\":\"\"}}],\"histogram2d\":[{\"type\":\"histogram2d\",\"colorbar\":{\"outlinewidth\":0,\"ticks\":\"\"},\"colorscale\":[[0.0,\"#0d0887\"],[0.1111111111111111,\"#46039f\"],[0.2222222222222222,\"#7201a8\"],[0.3333333333333333,\"#9c179e\"],[0.4444444444444444,\"#bd3786\"],[0.5555555555555556,\"#d8576b\"],[0.6666666666666666,\"#ed7953\"],[0.7777777777777778,\"#fb9f3a\"],[0.8888888888888888,\"#fdca26\"],[1.0,\"#f0f921\"]]}],\"heatmap\":[{\"type\":\"heatmap\",\"colorbar\":{\"outlinewidth\":0,\"ticks\":\"\"},\"colorscale\":[[0.0,\"#0d0887\"],[0.1111111111111111,\"#46039f\"],[0.2222222222222222,\"#7201a8\"],[0.3333333333333333,\"#9c179e\"],[0.4444444444444444,\"#bd3786\"],[0.5555555555555556,\"#d8576b\"],[0.6666666666666666,\"#ed7953\"],[0.7777777777777778,\"#fb9f3a\"],[0.8888888888888888,\"#fdca26\"],[1.0,\"#f0f921\"]]}],\"heatmapgl\":[{\"type\":\"heatmapgl\",\"colorbar\":{\"outlinewidth\":0,\"ticks\":\"\"},\"colorscale\":[[0.0,\"#0d0887\"],[0.1111111111111111,\"#46039f\"],[0.2222222222222222,\"#7201a8\"],[0.3333333333333333,\"#9c179e\"],[0.4444444444444444,\"#bd3786\"],[0.5555555555555556,\"#d8576b\"],[0.6666666666666666,\"#ed7953\"],[0.7777777777777778,\"#fb9f3a\"],[0.8888888888888888,\"#fdca26\"],[1.0,\"#f0f921\"]]}],\"contourcarpet\":[{\"type\":\"contourcarpet\",\"colorbar\":{\"outlinewidth\":0,\"ticks\":\"\"}}],\"contour\":[{\"type\":\"contour\",\"colorbar\":{\"outlinewidth\":0,\"ticks\":\"\"},\"colorscale\":[[0.0,\"#0d0887\"],[0.1111111111111111,\"#46039f\"],[0.2222222222222222,\"#7201a8\"],[0.3333333333333333,\"#9c179e\"],[0.4444444444444444,\"#bd3786\"],[0.5555555555555556,\"#d8576b\"],[0.6666666666666666,\"#ed7953\"],[0.7777777777777778,\"#fb9f3a\"],[0.8888888888888888,\"#fdca26\"],[1.0,\"#f0f921\"]]}],\"surface\":[{\"type\":\"surface\",\"colorbar\":{\"outlinewidth\":0,\"ticks\":\"\"},\"colorscale\":[[0.0,\"#0d0887\"],[0.1111111111111111,\"#46039f\"],[0.2222222222222222,\"#7201a8\"],[0.3333333333333333,\"#9c179e\"],[0.4444444444444444,\"#bd3786\"],[0.5555555555555556,\"#d8576b\"],[0.6666666666666666,\"#ed7953\"],[0.7777777777777778,\"#fb9f3a\"],[0.8888888888888888,\"#fdca26\"],[1.0,\"#f0f921\"]]}],\"mesh3d\":[{\"type\":\"mesh3d\",\"colorbar\":{\"outlinewidth\":0,\"ticks\":\"\"}}],\"scatter\":[{\"fillpattern\":{\"fillmode\":\"overlay\",\"size\":10,\"solidity\":0.2},\"type\":\"scatter\"}],\"parcoords\":[{\"type\":\"parcoords\",\"line\":{\"colorbar\":{\"outlinewidth\":0,\"ticks\":\"\"}}}],\"scatterpolargl\":[{\"type\":\"scatterpolargl\",\"marker\":{\"colorbar\":{\"outlinewidth\":0,\"ticks\":\"\"}}}],\"bar\":[{\"error_x\":{\"color\":\"#2a3f5f\"},\"error_y\":{\"color\":\"#2a3f5f\"},\"marker\":{\"line\":{\"color\":\"#E5ECF6\",\"width\":0.5},\"pattern\":{\"fillmode\":\"overlay\",\"size\":10,\"solidity\":0.2}},\"type\":\"bar\"}],\"scattergeo\":[{\"type\":\"scattergeo\",\"marker\":{\"colorbar\":{\"outlinewidth\":0,\"ticks\":\"\"}}}],\"scatterpolar\":[{\"type\":\"scatterpolar\",\"marker\":{\"colorbar\":{\"outlinewidth\":0,\"ticks\":\"\"}}}],\"histogram\":[{\"marker\":{\"pattern\":{\"fillmode\":\"overlay\",\"size\":10,\"solidity\":0.2}},\"type\":\"histogram\"}],\"scattergl\":[{\"type\":\"scattergl\",\"marker\":{\"colorbar\":{\"outlinewidth\":0,\"ticks\":\"\"}}}],\"scatter3d\":[{\"type\":\"scatter3d\",\"line\":{\"colorbar\":{\"outlinewidth\":0,\"ticks\":\"\"}},\"marker\":{\"colorbar\":{\"outlinewidth\":0,\"ticks\":\"\"}}}],\"scattermapbox\":[{\"type\":\"scattermapbox\",\"marker\":{\"colorbar\":{\"outlinewidth\":0,\"ticks\":\"\"}}}],\"scatterternary\":[{\"type\":\"scatterternary\",\"marker\":{\"colorbar\":{\"outlinewidth\":0,\"ticks\":\"\"}}}],\"scattercarpet\":[{\"type\":\"scattercarpet\",\"marker\":{\"colorbar\":{\"outlinewidth\":0,\"ticks\":\"\"}}}],\"carpet\":[{\"aaxis\":{\"endlinecolor\":\"#2a3f5f\",\"gridcolor\":\"white\",\"linecolor\":\"white\",\"minorgridcolor\":\"white\",\"startlinecolor\":\"#2a3f5f\"},\"baxis\":{\"endlinecolor\":\"#2a3f5f\",\"gridcolor\":\"white\",\"linecolor\":\"white\",\"minorgridcolor\":\"white\",\"startlinecolor\":\"#2a3f5f\"},\"type\":\"carpet\"}],\"table\":[{\"cells\":{\"fill\":{\"color\":\"#EBF0F8\"},\"line\":{\"color\":\"white\"}},\"header\":{\"fill\":{\"color\":\"#C8D4E3\"},\"line\":{\"color\":\"white\"}},\"type\":\"table\"}],\"barpolar\":[{\"marker\":{\"line\":{\"color\":\"#E5ECF6\",\"width\":0.5},\"pattern\":{\"fillmode\":\"overlay\",\"size\":10,\"solidity\":0.2}},\"type\":\"barpolar\"}],\"pie\":[{\"automargin\":true,\"type\":\"pie\"}]},\"layout\":{\"autotypenumbers\":\"strict\",\"colorway\":[\"#636efa\",\"#EF553B\",\"#00cc96\",\"#ab63fa\",\"#FFA15A\",\"#19d3f3\",\"#FF6692\",\"#B6E880\",\"#FF97FF\",\"#FECB52\"],\"font\":{\"color\":\"#2a3f5f\"},\"hovermode\":\"closest\",\"hoverlabel\":{\"align\":\"left\"},\"paper_bgcolor\":\"white\",\"plot_bgcolor\":\"#E5ECF6\",\"polar\":{\"bgcolor\":\"#E5ECF6\",\"angularaxis\":{\"gridcolor\":\"white\",\"linecolor\":\"white\",\"ticks\":\"\"},\"radialaxis\":{\"gridcolor\":\"white\",\"linecolor\":\"white\",\"ticks\":\"\"}},\"ternary\":{\"bgcolor\":\"#E5ECF6\",\"aaxis\":{\"gridcolor\":\"white\",\"linecolor\":\"white\",\"ticks\":\"\"},\"baxis\":{\"gridcolor\":\"white\",\"linecolor\":\"white\",\"ticks\":\"\"},\"caxis\":{\"gridcolor\":\"white\",\"linecolor\":\"white\",\"ticks\":\"\"}},\"coloraxis\":{\"colorbar\":{\"outlinewidth\":0,\"ticks\":\"\"}},\"colorscale\":{\"sequential\":[[0.0,\"#0d0887\"],[0.1111111111111111,\"#46039f\"],[0.2222222222222222,\"#7201a8\"],[0.3333333333333333,\"#9c179e\"],[0.4444444444444444,\"#bd3786\"],[0.5555555555555556,\"#d8576b\"],[0.6666666666666666,\"#ed7953\"],[0.7777777777777778,\"#fb9f3a\"],[0.8888888888888888,\"#fdca26\"],[1.0,\"#f0f921\"]],\"sequentialminus\":[[0.0,\"#0d0887\"],[0.1111111111111111,\"#46039f\"],[0.2222222222222222,\"#7201a8\"],[0.3333333333333333,\"#9c179e\"],[0.4444444444444444,\"#bd3786\"],[0.5555555555555556,\"#d8576b\"],[0.6666666666666666,\"#ed7953\"],[0.7777777777777778,\"#fb9f3a\"],[0.8888888888888888,\"#fdca26\"],[1.0,\"#f0f921\"]],\"diverging\":[[0,\"#8e0152\"],[0.1,\"#c51b7d\"],[0.2,\"#de77ae\"],[0.3,\"#f1b6da\"],[0.4,\"#fde0ef\"],[0.5,\"#f7f7f7\"],[0.6,\"#e6f5d0\"],[0.7,\"#b8e186\"],[0.8,\"#7fbc41\"],[0.9,\"#4d9221\"],[1,\"#276419\"]]},\"xaxis\":{\"gridcolor\":\"white\",\"linecolor\":\"white\",\"ticks\":\"\",\"title\":{\"standoff\":15},\"zerolinecolor\":\"white\",\"automargin\":true,\"zerolinewidth\":2},\"yaxis\":{\"gridcolor\":\"white\",\"linecolor\":\"white\",\"ticks\":\"\",\"title\":{\"standoff\":15},\"zerolinecolor\":\"white\",\"automargin\":true,\"zerolinewidth\":2},\"scene\":{\"xaxis\":{\"backgroundcolor\":\"#E5ECF6\",\"gridcolor\":\"white\",\"linecolor\":\"white\",\"showbackground\":true,\"ticks\":\"\",\"zerolinecolor\":\"white\",\"gridwidth\":2},\"yaxis\":{\"backgroundcolor\":\"#E5ECF6\",\"gridcolor\":\"white\",\"linecolor\":\"white\",\"showbackground\":true,\"ticks\":\"\",\"zerolinecolor\":\"white\",\"gridwidth\":2},\"zaxis\":{\"backgroundcolor\":\"#E5ECF6\",\"gridcolor\":\"white\",\"linecolor\":\"white\",\"showbackground\":true,\"ticks\":\"\",\"zerolinecolor\":\"white\",\"gridwidth\":2}},\"shapedefaults\":{\"line\":{\"color\":\"#2a3f5f\"}},\"annotationdefaults\":{\"arrowcolor\":\"#2a3f5f\",\"arrowhead\":0,\"arrowwidth\":1},\"geo\":{\"bgcolor\":\"white\",\"landcolor\":\"#E5ECF6\",\"subunitcolor\":\"white\",\"showland\":true,\"showlakes\":true,\"lakecolor\":\"white\"},\"title\":{\"x\":0.05},\"mapbox\":{\"style\":\"light\"}}},\"xaxis\":{\"range\":[-0.8584449949974542,0.8655739438596173],\"showticklabels\":false,\"ticklen\":0},\"yaxis\":{\"range\":[-0.7037663100538449,0.7037663100538449],\"scaleanchor\":\"x\",\"scaleratio\":1,\"showticklabels\":false,\"ticklen\":0},\"margin\":{\"b\":0,\"l\":10,\"pad\":0,\"r\":10,\"t\":40},\"title\":{\"text\":\"Vocabulary Overlap Between Bacteria Trained Tokenizer and DNABERT2\",\"x\":0.5,\"xanchor\":\"center\"},\"plot_bgcolor\":\"white\",\"width\":800,\"height\":400,\"shapes\":[{\"fillcolor\":\"FireBrick\",\"line\":{\"color\":\"FireBrick\"},\"opacity\":0.75,\"type\":\"circle\",\"x0\":-0.6584449949974542,\"x1\":0.3490876251102355,\"xref\":\"x\",\"y0\":-0.5037663100538449,\"y1\":0.5037663100538449,\"yref\":\"y\"},{\"fillcolor\":\"DodgerBlue\",\"line\":{\"color\":\"DodgerBlue\"},\"opacity\":0.75,\"type\":\"circle\",\"x0\":-0.046859204085179795,\"x1\":0.6655739438596173,\"xref\":\"x\",\"y0\":-0.35621657397239853,\"y1\":0.35621657397239853,\"yref\":\"y\"}],\"annotations\":[{\"showarrow\":false,\"text\":\"Bacteria\",\"x\":-0.15467868494360934,\"xref\":\"x\",\"y\":-0.546765454255157,\"yref\":\"y\"},{\"showarrow\":false,\"text\":\"DNABERT2\",\"x\":0.30935736988721874,\"xref\":\"x\",\"y\":-0.3992157181737107,\"yref\":\"y\"},{\"showarrow\":false,\"text\":\"6179\",\"x\":-0.35265209954131704,\"xref\":\"x\",\"y\":9.034815600359003e-18,\"yref\":\"y\"},{\"showarrow\":false,\"text\":\"2083\",\"x\":0.5073307844849264,\"xref\":\"x\",\"y\":0.0,\"yref\":\"y\"},{\"showarrow\":false,\"text\":\"2013\",\"x\":0.15111421051252785,\"xref\":\"x\",\"y\":2.181197435592671e-17,\"yref\":\"y\"}]},                        {\"responsive\": true}                    ).then(function(){\n",
              "                            \n",
              "var gd = document.getElementById('0a3684f3-b94a-42d2-a5c1-7826ce57e65d');\n",
              "var x = new MutationObserver(function (mutations, observer) {{\n",
              "        var display = window.getComputedStyle(gd).display;\n",
              "        if (!display || display === 'none') {{\n",
              "            console.log([gd, 'removed!']);\n",
              "            Plotly.purge(gd);\n",
              "            observer.disconnect();\n",
              "        }}\n",
              "}});\n",
              "\n",
              "// Listen for the removal of the full notebook cells\n",
              "var notebookContainer = gd.closest('#notebook-container');\n",
              "if (notebookContainer) {{\n",
              "    x.observe(notebookContainer, {childList: true});\n",
              "}}\n",
              "\n",
              "// Listen for the clearing of the current output cell\n",
              "var outputEl = gd.closest('.output');\n",
              "if (outputEl) {{\n",
              "    x.observe(outputEl, {childList: true});\n",
              "}}\n",
              "\n",
              "                        })                };                            </script>        </div>\n",
              "</body>\n",
              "</html>"
            ]
          },
          "metadata": {}
        }
      ]
    },
    {
      "cell_type": "markdown",
      "source": [
        "###**Vocabulary Size 16384**"
      ],
      "metadata": {
        "id": "ur_oc_oZBwBU"
      }
    },
    {
      "cell_type": "code",
      "source": [
        "corpus_stats(vocab16384)\n",
        "vocab_comparison(vocab16384, dnabert2, \"Bacteria\", \"DNABERT2\")"
      ],
      "metadata": {
        "colab": {
          "base_uri": "https://localhost:8080/",
          "height": 942
        },
        "id": "bDeR0oRcBvcG",
        "outputId": "a415fc01-c6bf-4057-a1dc-1a2909a9eb93"
      },
      "execution_count": 19,
      "outputs": [
        {
          "output_type": "display_data",
          "data": {
            "text/html": [
              "<html>\n",
              "<head><meta charset=\"utf-8\" /></head>\n",
              "<body>\n",
              "    <div>            <script src=\"https://cdnjs.cloudflare.com/ajax/libs/mathjax/2.7.5/MathJax.js?config=TeX-AMS-MML_SVG\"></script><script type=\"text/javascript\">if (window.MathJax && window.MathJax.Hub && window.MathJax.Hub.Config) {window.MathJax.Hub.Config({SVG: {font: \"STIX-Web\"}});}</script>                <script type=\"text/javascript\">window.PlotlyConfig = {MathJaxConfig: 'local'};</script>\n",
              "        <script charset=\"utf-8\" src=\"https://cdn.plot.ly/plotly-2.24.1.min.js\"></script>                <div id=\"985e612c-c7c2-481d-b363-cf9bfc026d20\" class=\"plotly-graph-div\" style=\"height:525px; width:100%;\"></div>            <script type=\"text/javascript\">                                    window.PLOTLYENV=window.PLOTLYENV || {};                                    if (document.getElementById(\"985e612c-c7c2-481d-b363-cf9bfc026d20\")) {                    Plotly.newPlot(                        \"985e612c-c7c2-481d-b363-cf9bfc026d20\",                        [{\"alignmentgroup\":\"True\",\"bingroup\":\"x\",\"hovertemplate\":\"Word Length=%{x}\\u003cbr\\u003ecount=%{y}\\u003cextra\\u003e\\u003c\\u002fextra\\u003e\",\"legendgroup\":\"\",\"marker\":{\"color\":\"#636efa\",\"pattern\":{\"shape\":\"\"}},\"name\":\"\",\"nbinsx\":30,\"offsetgroup\":\"\",\"orientation\":\"v\",\"showlegend\":false,\"x\":[1,1,1,1,1,1,1,1,1,1,1,1,1,1,1,2,2,2,2,2,2,2,2,2,2,3,3,3,3,3,3,3,3,3,3,3,3,3,3,3,3,3,4,3,3,3,3,4,3,4,4,3,4,4,4,4,4,4,4,4,4,4,4,4,4,4,4,4,4,4,4,4,4,4,4,3,4,4,4,4,4,4,4,4,4,4,4,4,4,4,4,4,4,4,4,4,4,4,4,4,4,4,4,5,4,4,4,4,4,4,4,4,4,4,4,4,4,5,4,4,4,5,4,5,4,4,5,5,5,4,5,5,5,4,4,5,5,5,5,5,5,4,5,5,5,5,5,5,4,5,5,5,4,4,4,4,5,5,5,5,5,5,4,5,5,5,5,5,5,5,5,5,5,5,5,5,5,5,5,5,5,5,5,5,5,5,5,5,5,5,5,5,5,5,4,5,5,5,6,5,5,6,5,5,5,5,5,6,5,4,5,5,5,5,5,6,5,5,6,5,5,5,4,5,5,5,5,4,5,5,5,5,4,5,5,5,6,5,6,5,4,5,4,4,5,5,5,5,5,5,5,5,5,5,4,6,5,5,5,5,5,5,5,5,5,5,5,5,5,5,5,5,5,5,5,5,5,5,5,5,6,6,5,5,5,5,5,5,5,5,5,5,5,5,5,5,5,5,5,5,5,5,5,5,6,5,5,6,5,5,5,5,5,5,5,5,5,5,5,5,5,5,5,5,5,5,5,5,5,5,4,5,6,5,5,6,6,5,5,6,6,5,5,6,6,5,6,5,5,6,5,6,5,6,5,5,6,5,4,5,5,6,6,5,6,6,5,5,5,6,5,6,5,5,6,6,5,5,6,6,5,6,5,6,5,6,5,6,5,6,5,6,6,5,5,5,5,6,6,4,6,5,5,6,6,6,7,6,5,6,5,6,5,6,5,6,6,6,6,6,5,6,5,6,5,4,6,6,6,6,6,5,6,6,6,5,6,6,6,6,5,6,6,5,6,6,6,6,5,6,6,5,6,6,6,6,6,5,6,6,6,6,5,5,5,5,6,5,6,6,5,6,6,6,6,6,6,6,6,6,5,5,6,5,5,6,6,5,6,6,5,6,6,6,6,6,6,7,5,6,6,5,6,6,6,7,6,6,5,6,5,6,6,6,6,6,5,6,6,6,6,6,6,6,6,6,6,5,6,5,5,6,5,6,6,5,6,6,6,6,6,6,5,6,6,5,6,6,6,6,6,6,5,6,6,6,6,5,6,6,6,7,7,6,6,6,6,6,6,5,6,6,6,6,6,6,5,6,5,6,6,5,6,6,5,6,6,5,5,6,6,6,6,6,6,6,5,5,6,6,6,6,6,6,6,6,5,6,6,6,6,6,6,6,6,6,6,6,6,6,6,6,6,5,6,7,6,7,5,5,6,6,6,6,6,5,6,5,6,6,6,6,5,6,5,6,5,6,6,6,6,6,6,6,5,6,6,6,6,6,6,6,6,6,6,6,5,6,6,6,6,5,6,6,6,6,6,6,6,6,5,6,5,6,6,6,5,6,5,6,6,6,7,6,6,5,7,6,6,6,6,6,7,6,6,6,6,6,5,6,6,5,6,5,6,6,7,6,6,6,6,6,6,6,6,6,6,6,6,6,6,6,5,6,6,5,6,6,6,6,6,6,6,6,6,6,6,6,6,6,6,6,6,6,6,6,6,6,6,6,6,6,6,6,6,6,6,6,5,6,6,6,5,6,6,6,7,6,6,6,7,6,6,6,6,6,6,6,6,6,6,6,6,6,6,6,6,6,6,6,6,6,6,6,6,6,6,6,6,6,6,6,6,6,6,6,5,6,6,6,5,6,6,6,6,6,6,7,7,6,6,6,7,6,6,6,6,6,6,6,6,6,6,7,6,7,6,7,7,7,6,6,6,5,6,6,6,7,6,6,6,6,6,6,6,6,7,6,5,6,6,6,6,6,6,6,6,6,7,6,6,6,6,6,6,6,6,6,6,7,6,6,6,6,7,6,6,6,6,6,6,6,6,6,7,6,6,6,6,6,7,6,6,6,6,6,6,6,6,7,6,6,6,7,6,7,6,6,6,6,6,6,6,6,6,7,6,6,8,7,6,5,6,7,6,8,7,6,6,6,6,6,6,6,6,6,6,6,6,6,7,6,6,6,6,6,7,7,6,6,6,6,6,6,6,6,6,6,6,6,6,6,6,6,7,6,6,6,6,6,6,6,6,5,6,6,6,6,7,6,7,6,6,6,6,6,7,6,7,6,7,6,6,6,6,6,6,6,6,7,6,6,6,6,6,7,6,6,7,7,7,6,6,6,6,7,6,6,6,6,6,7,6,5,6,6,7,7,6,6,6,7,6,6,6,6,6,7,6,6,6,6,6,6,6,6,6,6,6,6,6,6,6,6,6,7,6,6,7,7,6,7,6,7,6,6,6,7,6,7,7,6,6,6,6,7,7,6,7,6,6,6,6,6,6,6,6,6,6,7,6,6,7,6,6,6,6,7,6,7,6,7,7,6,7,6,6,7,6,6,6,6,7,6,6,6,7,7,7,6,6,6,6,6,6,6,6,7,7,7,6,6,5,7,6,6,7,7,6,7,6,6,7,7,7,7,6,7,6,6,6,7,7,6,7,6,7,6,7,6,6,6,6,6,7,6,6,6,6,7,6,6,6,7,6,7,7,7,7,7,7,7,6,6,6,7,5,7,7,7,6,7,6,6,6,6,6,7,6,6,6,6,7,6,6,7,6,6,7,7,6,6,7,6,7,6,7,7,7,6,7,5,6,6,5,7,6,5,6,6,7,6,6,7,6,7,6,6,6,6,6,6,6,7,6,7,7,6,6,6,7,6,7,7,7,6,7,7,6,7,6,6,6,7,7,6,6,6,7,6,7,7,7,6,6,7,7,6,7,6,6,7,6,6,5,6,7,6,6,6,6,6,7,7,7,7,6,6,7,6,6,7,7,6,6,6,6,7,7,6,6,6,7,7,7,7,7,7,7,7,6,6,6,6,7,7,7,6,6,6,7,7,7,6,6,7,7,6,6,6,6,6,7,7,7,7,6,6,7,7,7,7,7,7,6,6,7,6,7,7,6,7,7,5,6,7,7,6,6,7,7,6,6,7,6,6,7,7,7,7,6,6,7,7,7,7,6,7,5,6,7,6,6,6,7,7,7,7,7,7,6,7,7,6,7,7,7,7,6,7,7,7,7,7,7,7,7,7,7,6,6,7,7,7,7,6,6,6,6,7,7,6,7,7,6,7,7,6,7,6,7,7,7,6,6,7,7,7,7,6,7,7,6,6,7,7,6,7,7,7,6,7,7,7,7,6,7,7,6,6,6,7,7,6,6,7,7,7,7,6,7,6,7,6,7,6,6,6,7,7,6,8,6,6,7,7,6,6,7,7,7,7,6,7,6,7,7,7,7,6,7,6,7,7,7,7,7,7,7,6,7,7,7,7,7,7,7,7,7,7,7,7,7,7,7,7,7,7,7,7,7,7,7,7,6,6,7,7,7,6,7,7,6,7,7,7,7,7,7,7,7,7,6,6,7,6,7,6,7,7,8,6,7,6,7,7,6,7,6,6,7,7,7,6,7,6,7,6,6,7,6,7,7,6,7,7,2,7,7,7,6,7,7,7,7,7,7,7,6,7,6,7,7,8,7,7,7,7,7,7,7,7,6,7,7,7,7,7,6,7,7,7,7,7,7,7,7,7,7,7,7,7,7,7,7,6,7,7,6,6,7,7,5,7,7,7,7,7,7,7,8,7,7,7,6,6,6,7,6,6,6,8,2,7,7,7,7,7,7,7,7,7,7,7,7,7,7,7,5,7,7,7,7,7,7,7,5,7,7,7,6,6,6,8,7,6,7,7,7,6,7,8,7,6,7,8,8,7,7,7,7,7,7,7,7,7,7,6,7,7,7,8,7,6,7,8,7,7,7,6,7,7,7,7,6,7,7,7,7,6,7,7,6,7,7,7,6,7,7,7,7,8,5,7,7,6,7,7,7,7,7,7,7,7,6,7,7,7,7,7,7,7,7,6,6,5,6,7,7,7,7,7,8,7,7,7,6,7,7,7,6,7,7,6,7,7,7,7,7,6,7,6,7,7,7,7,7,7,7,7,6,6,7,7,7,7,7,7,6,7,7,6,7,7,7,7,7,6,7,7,7,6,7,6,7,7,7,7,7,7,7,7,7,7,7,7,6,7,7,7,7,7,7,7,7,6,6,6,7,7,7,7,6,7,7,7,7,7,7,7,7,7,7,7,7,7,7,7,7,7,8,7,7,7,7,7,7,7,7,7,7,7,7,7,7,7,7,6,7,7,7,7,8,7,7,7,7,7,7,7,7,7,7,6,7,7,7,7,7,6,7,7,7,7,6,7,7,6,7,6,8,7,7,7,7,7,7,7,7,7,7,7,6,7,7,8,7,7,7,7,7,7,7,7,7,7,7,7,7,7,7,7,7,7,7,7,7,7,7,7,7,7,7,7,7,7,7,7,7,7,6,7,7,7,7,7,7,7,7,7,7,7,7,8,7,7,7,7,7,7,7,7,6,6,7,7,7,7,7,7,7,7,7,7,6,7,7,7,7,5,7,7,8,7,7,8,7,7,7,7,7,7,7,7,7,7,7,7,7,7,7,7,7,7,7,7,7,7,7,7,5,8,6,7,5,7,6,7,7,7,7,7,8,7,7,7,6,7,7,7,7,7,7,7,7,7,6,7,7,7,7,7,7,7,6,8,7,6,7,7,7,6,7,7,7,7,7,7,6,8,7,7,6,8,7,7,8,7,6,7,6,7,7,7,6,7,7,6,7,7,7,6,6,7,7,7,7,7,7,7,7,8,6,7,7,7,7,7,7,6,7,7,7,7,7,7,7,7,7,7,6,7,7,7,7,7,7,7,7,7,7,7,7,7,8,7,7,7,6,7,5,5,8,7,7,7,8,7,7,7,7,7,7,7,7,7,7,7,7,7,6,7,7,7,7,7,7,7,7,7,7,7,8,7,7,7,7,6,7,7,7,7,7,7,6,7,7,7,7,7,7,7,7,7,7,7,7,6,7,7,7,7,7,7,7,6,7,7,7,7,8,7,7,6,7,6,7,7,7,7,7,7,7,8,7,7,7,7,7,7,7,6,7,6,7,7,7,7,7,5,8,7,7,6,7,7,7,7,7,6,6,7,7,7,7,7,8,7,7,5,7,7,7,8,7,7,7,7,7,7,8,7,7,7,7,7,7,7,7,8,7,7,7,7,6,7,6,7,8,7,7,7,7,7,8,5,7,7,7,7,7,6,7,7,7,8,7,7,7,7,7,7,7,7,7,7,7,6,7,7,7,7,7,7,7,7,7,7,7,7,7,7,7,7,7,7,7,7,7,8,7,7,7,7,7,7,7,7,7,5,7,7,7,6,7,8,8,7,7,7,7,7,7,7,8,7,7,7,7,7,6,7,7,8,7,7,7,7,7,7,7,7,7,7,6,7,7,7,7,7,7,7,7,7,7,7,7,7,7,7,8,7,7,7,7,7,8,7,7,7,7,7,7,6,7,6,7,7,7,5,8,7,7,7,7,8,6,8,8,7,7,7,7,7,7,7,7,7,7,7,7,7,7,7,7,7,7,7,7,7,7,7,8,7,7,7,7,7,7,6,7,7,7,8,7,7,7,7,7,7,8,7,7,7,7,7,7,7,7,7,7,7,7,7,7,7,7,7,7,7,7,7,7,7,8,6,6,7,7,7,8,7,7,7,7,7,7,7,7,7,7,7,7,7,7,7,7,7,7,8,7,7,7,7,7,8,8,7,7,8,8,7,7,7,6,7,7,7,7,7,7,8,7,7,7,7,7,7,7,8,7,7,7,7,7,7,7,7,7,7,7,8,7,8,7,7,7,7,8,8,7,7,7,6,8,7,7,7,7,7,7,7,5,7,7,7,7,7,7,7,7,7,7,7,7,7,7,7,7,8,7,7,7,7,7,8,7,8,7,8,7,8,7,8,8,7,7,8,7,7,7,7,8,8,6,7,7,6,7,7,7,7,8,7,7,7,7,7,7,7,8,7,7,7,7,7,6,7,7,7,7,5,7,7,7,7,7,8,6,7,7,7,7,8,7,8,8,7,7,7,7,7,8,7,7,7,8,7,7,7,7,8,6,7,8,7,7,7,8,7,7,7,8,7,7,7,7,7,8,7,8,7,6,8,7,6,7,7,7,6,7,7,7,7,8,7,8,7,7,7,7,7,7,7,8,8,7,8,7,6,7,7,6,7,7,7,6,8,7,7,7,7,7,7,8,6,7,7,7,7,8,7,7,7,7,7,7,7,7,7,7,7,8,7,6,7,7,7,7,7,6,7,7,7,7,7,8,7,7,7,6,7,7,7,7,7,7,7,7,8,7,7,7,7,7,7,8,7,7,6,7,7,6,7,7,6,7,6,7,7,7,7,7,8,7,7,8,7,7,7,7,7,7,7,7,7,7,7,7,7,7,6,8,8,7,7,7,7,7,7,8,8,8,7,7,6,7,7,7,7,7,7,7,7,7,8,7,6,7,7,7,7,7,7,7,7,7,8,6,7,7,7,7,7,8,7,7,7,7,7,7,8,7,8,7,7,7,7,7,7,7,7,8,7,7,7,7,6,8,7,7,6,7,7,7,7,7,7,7,9,8,7,7,7,7,7,7,7,7,6,7,7,7,7,7,8,7,7,8,7,7,7,8,7,7,6,8,7,7,7,7,8,7,7,7,7,7,7,8,7,8,6,7,6,7,8,8,6,7,7,8,7,6,7,7,8,7,7,7,7,7,7,7,7,7,7,7,8,7,7,7,8,7,7,7,8,7,7,8,7,8,7,7,8,7,7,7,7,7,7,7,7,8,7,7,7,7,7,8,7,7,7,7,8,7,7,7,7,7,7,7,8,8,7,9,7,7,7,7,7,7,7,7,7,6,7,8,7,7,6,7,7,7,8,7,7,7,8,7,7,7,7,7,7,8,7,7,7,7,7,7,7,7,7,7,7,6,7,8,7,7,7,7,7,7,6,7,7,7,8,8,7,7,7,7,8,8,6,7,7,7,8,7,7,7,7,7,7,7,7,8,7,7,7,7,7,7,7,8,8,7,7,8,7,7,8,7,7,7,7,6,7,7,7,7,7,7,7,7,7,7,7,7,9,7,7,6,8,7,8,7,7,7,7,7,7,8,7,7,7,7,7,7,7,7,7,7,8,8,7,7,7,7,7,7,7,7,7,7,7,8,7,7,7,7,7,8,7,8,7,8,7,7,7,7,8,8,8,7,7,7,8,6,7,8,8,7,7,7,8,8,7,8,6,7,7,8,6,7,8,7,8,7,7,7,7,7,7,8,8,8,7,7,7,7,7,8,8,8,7,7,8,7,7,7,7,7,7,7,7,8,7,7,7,8,7,7,7,7,6,7,7,7,7,8,7,8,7,7,8,8,7,7,8,7,8,7,7,7,7,7,8,6,7,7,7,7,7,6,7,7,7,7,7,7,7,7,7,7,7,7,7,7,7,8,7,6,7,8,8,7,7,7,7,7,7,7,7,7,8,8,8,7,7,8,7,7,7,7,7,8,6,7,6,7,7,7,8,7,7,7,8,7,8,6,7,8,8,6,8,8,7,7,7,8,7,7,7,8,7,7,8,7,6,8,7,8,6,7,7,7,7,7,7,7,7,7,7,6,7,7,7,7,7,7,7,8,7,8,7,8,7,8,7,7,6,8,7,6,8,8,8,6,7,6,7,7,6,7,8,7,7,7,7,7,7,7,7,7,7,8,9,8,7,7,6,7,7,8,9,7,8,6,8,7,8,7,7,7,7,7,7,7,6,8,6,8,7,7,7,7,7,7,7,8,7,7,7,7,8,8,8,8,7,7,6,7,8,7,8,7,7,7,7,8,7,7,7,8,7,7,7,7,8,7,7,7,7,8,7,8,7,7,7,7,7,8,8,8,7,7,7,8,7,8,7,6,6,6,7,7,7,7,8,7,8,7,7,7,8,8,7,7,8,8,7,7,7,7,7,8,8,8,7,7,8,8,8,8,7,7,6,7,7,8,7,7,7,7,7,6,7,7,5,7,7,7,7,8,8,7,7,7,7,7,8,8,7,8,8,6,7,7,7,8,6,7,7,7,6,7,8,7,7,7,7,7,8,7,7,9,8,7,7,7,7,8,7,8,7,7,7,6,7,7,7,7,8,8,8,7,7,8,7,8,7,7,8,7,8,7,7,7,7,7,7,8,7,8,8,7,8,7,8,7,7,8,8,7,8,7,7,8,7,7,8,7,8,7,7,7,7,7,7,3,7,7,8,7,8,7,7,7,7,7,7,7,7,6,7,7,7,7,7,7,7,7,8,7,8,7,7,7,7,7,7,7,7,8,7,7,8,8,7,7,7,8,7,7,8,7,8,8,8,7,8,7,7,7,8,8,7,6,7,7,8,7,8,7,7,7,8,8,7,7,8,8,7,7,7,7,7,8,8,6,8,7,7,8,7,6,8,7,7,8,7,7,7,8,7,7,7,7,7,8,8,7,7,8,7,7,7,7,7,6,7,7,7,7,7,8,7,7,7,7,8,7,7,7,8,7,7,8,8,7,7,8,8,7,7,7,8,7,7,8,7,7,7,7,8,6,7,7,8,8,7,7,7,7,7,7,7,7,7,8,7,7,7,8,7,8,7,8,7,8,7,7,6,8,7,8,7,7,8,7,7,8,7,8,7,8,8,8,7,7,8,7,7,8,7,9,7,7,7,7,7,7,8,7,7,8,8,7,7,7,8,8,8,7,7,7,7,7,7,8,7,8,7,7,7,7,8,6,7,7,7,8,6,7,7,7,7,6,7,7,7,7,7,7,8,8,8,6,7,7,8,8,7,8,7,8,7,7,8,7,8,7,7,7,8,7,7,7,7,7,7,7,7,7,8,7,8,6,7,7,7,6,7,8,8,8,7,8,7,7,8,8,7,8,7,8,8,7,8,8,7,7,7,9,8,8,7,7,8,7,8,7,7,7,7,8,7,8,8,7,8,8,7,7,8,7,7,7,7,8,7,7,9,8,7,8,6,8,7,8,7,8,7,8,7,7,7,7,7,7,8,7,7,7,7,7,7,8,8,8,7,7,8,7,7,7,7,7,7,8,8,7,8,8,8,7,8,7,7,7,8,7,7,8,7,7,7,7,7,7,7,7,8,7,8,7,7,7,7,8,7,7,8,8,8,7,7,7,8,8,7,7,8,7,7,7,7,7,7,8,7,8,8,7,8,7,6,7,8,8,8,7,7,8,7,8,8,7,6,8,8,7,7,6,7,8,7,7,7,7,8,7,7,7,7,7,8,8,8,8,8,7,7,7,7,7,7,8,7,8,8,8,7,8,8,7,7,8,8,8,8,8,7,7,7,7,8,7,8,7,8,8,7,8,6,8,7,7,8,7,7,7,7,7,8,8,7,7,7,7,8,8,8,7,8,7,8,8,8,7,7,8,8,8,7,8,8,7,7,7,8,7,7,7,8,8,7,8,8,7,8,7,7,8,7,8,7,7,7,8,8,7,8,7,7,8,7,7,8,8,8,8,7,7,7,7,8,8,7,7,7,8,8,8,7,7,8,7,7,8,7,8,7,7,7,8,8,7,8,7,8,7,7,7,7,8,8,8,7,7,8,7,8,7,8,7,8,7,8,7,8,7,7,7,8,7,7,7,7,7,7,7,8,8,7,8,7,8,8,8,7,7,8,7,7,8,8,7,7,8,7,7,7,8,7,8,7,7,8,8,7,7,7,8,8,8,8,8,8,8,7,7,7,7,7,7,7,7,8,7,7,8,8,8,8,8,8,7,7,8,6,8,7,8,8,7,7,8,8,8,8,8,8,7,7,8,7,8,7,6,8,8,9,7,7,7,7,7,7,7,7,8,8,7,7,7,8,7,8,7,8,8,7,8,7,7,8,8,8,8,8,7,8,7,8,8,8,7,7,7,7,7,8,8,8,7,8,7,8,7,8,8,7,6,7,6,7,6,7,8,8,7,7,8,8,8,7,7,7,7,7,7,8,8,7,8,8,8,8,8,7,8,7,7,8,7,8,8,8,8,8,7,8,8,7,7,7,8,7,8,8,7,7,8,8,8,7,7,8,7,7,7,7,8,8,7,7,7,7,8,8,7,7,8,8,7,7,8,7,8,8,7,7,7,7,8,7,8,7,7,6,7,7,6,7,8,8,7,8,8,7,8,8,7,7,7,8,8,7,7,8,7,8,8,7,8,8,7,8,8,7,8,7,7,8,7,8,7,8,7,8,8,7,7,8,7,7,8,7,8,8,7,8,7,7,7,7,8,8,8,7,7,7,7,7,7,8,7,8,7,7,7,8,8,7,7,7,8,8,8,7,7,8,7,7,7,7,8,8,7,6,8,7,7,8,7,7,8,8,8,8,7,8,7,8,8,9,7,7,7,8,7,7,7,7,7,8,8,8,8,7,7,7,7,7,7,8,8,8,7,8,7,7,8,6,7,7,8,8,8,7,7,8,7,8,8,8,7,7,8,8,7,7,8,7,8,9,8,8,7,8,8,7,7,7,7,8,8,7,7,7,8,8,8,7,8,8,8,8,7,7,8,7,7,7,7,8,8,8,7,7,8,7,7,7,7,6,7,8,8,8,7,8,7,7,8,8,8,7,8,8,7,8,8,8,7,8,7,7,8,7,7,8,7,8,7,9,8,8,7,7,8,7,8,8,8,7,8,7,8,8,8,8,7,7,8,8,7,8,7,8,6,7,7,8,8,7,8,7,7,8,8,8,8,8,7,8,7,7,7,8,8,7,7,8,8,7,8,6,7,8,8,8,8,7,8,8,7,7,8,8,7,8,8,8,8,8,7,7,7,8,7,7,7,7,8,8,7,8,7,7,8,6,8,3,8,8,8,8,8,8,8,8,7,8,7,9,7,7,8,7,7,8,8,8,8,7,9,8,8,7,7,7,7,7,8,7,7,8,8,7,7,7,8,7,7,7,7,7,8,6,8,8,6,7,8,8,3,7,8,7,8,7,8,7,7,8,7,7,7,8,8,6,8,8,8,7,8,8,8,8,8,8,7,8,8,8,8,8,7,7,7,8,8,7,7,8,7,8,7,8,8,7,8,8,8,7,7,8,7,8,8,7,8,8,7,8,7,7,8,7,8,7,9,7,7,7,7,8,7,9,8,9,7,7,8,8,7,8,7,7,7,7,9,8,8,8,7,7,8,7,8,8,7,8,8,6,8,8,8,7,7,7,8,7,7,8,8,7,7,7,8,7,9,8,8,8,7,8,9,7,7,8,7,8,8,7,7,7,8,8,8,7,7,8,8,7,9,7,8,8,8,8,8,7,7,8,7,7,8,7,7,6,7,8,6,7,8,8,8,7,7,8,8,7,8,8,8,8,7,7,7,7,8,7,7,8,8,7,8,7,7,8,8,7,7,8,7,8,8,7,7,7,8,8,7,6,7,7,8,8,8,7,8,7,7,7,8,7,8,7,8,8,7,8,8,7,8,8,7,7,8,8,8,7,7,8,8,7,7,8,7,8,8,8,8,8,7,8,7,8,7,8,6,8,8,8,7,8,8,7,8,8,7,8,8,7,8,7,8,8,8,8,7,8,6,7,7,7,8,8,7,8,7,8,7,7,8,8,7,8,8,7,7,7,8,8,7,8,9,7,7,8,7,7,8,7,8,8,8,8,8,8,7,8,8,7,7,7,8,8,8,8,8,7,6,7,7,7,7,8,8,8,7,7,7,7,8,8,7,8,8,7,7,8,7,8,7,8,8,7,7,8,7,8,9,8,8,8,8,8,7,7,8,8,8,7,8,8,8,8,8,7,8,8,7,7,8,8,8,7,8,7,8,8,8,8,8,7,9,8,8,8,8,7,8,8,8,8,9,8,7,8,7,8,8,7,8,8,8,8,9,8,7,7,9,8,7,8,7,8,8,8,8,8,8,8,7,7,7,8,8,8,8,7,8,7,8,8,8,8,8,7,8,8,7,7,8,7,8,7,7,7,7,8,6,7,8,9,8,8,8,8,8,7,7,8,7,8,8,8,8,7,8,7,8,8,7,7,8,8,8,8,7,7,8,8,8,8,7,7,7,8,7,8,8,8,8,8,8,7,8,8,7,7,8,8,7,7,7,8,8,8,8,9,8,8,8,8,8,7,8,8,8,8,8,8,7,8,7,8,8,7,8,8,8,8,8,7,8,9,7,8,8,8,7,8,8,8,8,7,8,8,7,8,7,8,7,8,7,7,7,8,7,7,8,9,7,8,7,7,8,8,7,7,7,8,7,8,8,7,8,9,7,7,8,8,7,8,8,7,8,8,7,7,8,8,8,8,7,7,8,8,7,8,7,8,7,8,8,8,7,8,8,8,9,7,8,8,8,8,8,8,8,8,8,7,7,8,7,8,7,8,7,8,8,8,7,9,8,7,8,8,8,8,7,7,8,8,8,8,7,7,8,8,8,7,7,8,7,7,7,8,7,7,8,8,8,8,8,7,7,8,8,7,8,9,9,7,8,7,9,7,7,8,7,7,7,8,7,8,8,8,7,7,8,8,7,7,8,7,8,8,8,7,7,7,7,8,8,8,8,7,7,8,7,7,8,8,7,7,8,8,8,7,8,8,8,8,8,7,7,8,7,7,7,8,7,8,8,7,8,8,8,8,7,8,8,8,8,7,7,7,8,6,8,7,8,8,8,8,7,9,8,7,8,8,8,7,8,7,8,8,8,8,7,7,9,7,7,8,7,8,7,7,8,7,7,8,8,8,8,7,7,7,7,7,8,8,7,8,7,9,8,7,7,8,8,7,8,8,8,8,8,7,7,7,8,8,8,8,8,8,7,8,8,8,8,8,7,8,8,8,8,7,8,7,8,8,8,7,8,7,8,9,8,8,7,9,8,7,8,8,8,7,8,7,7,9,7,8,7,8,8,8,9,8,7,8,8,8,8,9,8,8,9,8,8,7,8,8,7,8,8,7,8,7,6,7,8,7,8,7,7,9,8,8,8,7,7,8,8,8,7,7,8,8,8,8,7,6,7,8,8,8,8,7,8,8,7,8,8,7,8,8,7,8,7,8,8,7,8,7,8,8,8,8,8,8,8,8,7,8,8,8,7,7,7,8,7,8,8,8,8,8,8,8,7,8,7,7,8,7,8,7,8,8,9,7,7,7,8,7,8,8,7,8,9,8,8,7,8,7,8,9,8,8,7,7,8,9,8,7,8,8,6,7,8,8,8,8,8,8,8,9,8,8,8,7,7,8,9,8,7,8,8,7,8,8,7,9,8,7,7,8,7,7,8,8,8,8,8,7,8,7,7,8,8,8,8,8,8,8,7,8,8,9,8,8,8,8,8,9,7,7,8,8,7,8,8,7,7,8,7,8,8,8,8,8,8,8,8,8,7,8,8,8,7,8,7,8,7,9,7,8,9,8,8,8,8,8,8,8,8,8,8,8,7,8,8,8,7,8,8,8,7,8,8,8,7,7,8,8,7,8,8,8,7,7,7,8,8,7,7,8,8,8,8,7,7,8,7,8,7,8,7,6,8,8,8,8,7,8,8,8,9,8,7,8,8,8,7,8,8,8,7,7,8,8,8,7,8,8,8,8,8,8,7,7,7,8,8,8,7,8,8,7,8,8,8,9,9,8,8,7,8,7,8,7,7,7,8,7,9,8,7,8,9,8,8,7,7,7,8,8,7,8,8,8,8,8,8,8,9,8,8,8,8,8,8,7,8,8,8,8,7,7,7,8,8,8,8,8,8,7,7,8,7,8,8,8,7,8,8,7,8,8,7,3,7,8,8,7,8,7,8,7,7,7,9,8,7,8,8,8,7,8,8,7,9,8,7,8,8,8,8,8,7,8,7,9,8,8,8,7,7,8,8,7,9,8,8,7,8,7,7,8,8,8,8,9,8,8,8,8,8,8,7,8,8,8,7,7,7,7,7,7,7,8,8,7,8,8,8,8,8,8,7,8,9,8,7,8,7,8,7,8,7,7,8,7,7,8,8,8,7,8,7,8,8,9,8,7,8,8,8,8,7,8,8,8,8,8,8,7,8,8,8,8,7,7,8,7,7,8,8,7,7,8,8,8,8,8,7,8,7,8,8,7,7,8,8,8,8,8,7,8,8,8,9,8,8,9,8,7,8,8,8,8,8,8,8,8,8,8,8,8,8,8,8,8,8,7,8,8,8,8,8,8,8,8,7,8,8,8,8,8,8,8,7,8,8,8,9,8,8,8,8,8,8,7,6,8,8,8,8,8,8,8,8,7,8,8,8,8,8,8,8,7,8,8,8,8,8,7,8,8,8,8,8,8,8,8,7,8,8,8,7,8,7,7,8,8,7,8,7,8,8,8,7,8,9,8,7,8,8,8,8,8,7,8,8,8,8,7,6,7,8,8,8,7,8,8,7,8,8,8,8,8,8,8,8,8,8,8,9,8,8,8,8,8,9,8,8,8,8,7,8,8,7,8,8,8,8,8,8,8,7,8,8,7,9,9,8,8,7,9,8,8,8,7,7,7,8,8,8,8,7,8,7,7,7,8,8,9,8,7,7,7,8,8,8,8,8,8,8,7,8,7,8,8,7,7,8,7,7,7,7,9,8,8,7,7,8,8,8,3,8,8,8,8,8,8,7,8,8,8,8,7,8,7,8,8,6,7,10,7,8,7,7,8,8,7,8,8,8,8,7,8,8,8,7,8,7,8,8,8,8,8,8,7,9,8,7,8,7,8,8,8,8,8,8,8,7,8,8,9,8,8,9,8,7,8,8,8,8,7,8,7,8,8,8,7,8,8,7,8,8,8,8,8,8,7,8,8,7,8,8,8,9,8,8,7,7,8,8,8,8,8,8,8,8,8,8,8,8,8,8,8,8,8,8,8,8,8,8,8,7,8,7,8,8,8,8,8,8,8,8,8,7,8,8,7,7,7,8,8,8,8,8,8,8,8,7,8,8,7,8,7,7,8,8,8,8,8,7,7,8,8,8,8,8,8,9,7,8,9,8,8,8,8,8,7,8,8,8,7,8,7,8,7,7,7,9,8,8,9,8,7,9,8,6,8,8,7,7,8,8,8,7,8,8,8,7,8,8,8,9,8,8,8,8,7,8,7,7,8,8,8,8,8,8,8,8,9,8,8,8,8,8,8,8,8,8,8,8,8,8,8,7,3,8,8,8,8,7,9,8,8,8,7,8,7,8,8,8,8,8,8,9,8,8,9,8,7,8,7,8,8,8,8,8,7,7,8,8,8,8,8,8,8,9,7,8,8,8,7,7,8,7,8,8,8,7,7,8,7,7,8,8,7,7,8,8,7,8,8,7,7,8,8,7,8,8,8,8,8,7,8,9,8,8,8,8,7,7,8,7,8,8,10,9,8,9,7,8,9,8,8,7,9,7,8,8,8,8,7,8,8,8,8,8,7,8,8,8,8,7,8,8,8,7,8,8,8,8,8,7,8,7,8,8,7,9,8,7,8,8,8,8,8,8,8,8,8,8,7,8,8,8,7,9,8,8,8,8,8,8,7,7,8,8,7,8,8,9,8,8,7,7,7,8,9,8,8,8,8,8,8,8,8,8,8,8,9,8,7,8,8,8,8,8,8,8,8,7,8,8,8,8,7,8,7,8,8,8,8,9,8,8,7,7,8,9,8,8,8,8,7,7,7,8,8,8,8,8,7,8,9,7,8,8,7,8,8,8,8,8,8,7,7,8,8,8,8,7,7,8,8,8,8,8,7,8,8,7,8,8,8,7,8,8,8,8,8,8,8,7,8,8,8,8,9,8,8,8,8,7,8,7,7,8,8,8,9,8,8,8,8,8,7,7,8,8,8,8,8,8,7,8,7,7,7,7,8,8,8,8,8,8,7,7,8,8,7,7,8,8,8,8,8,9,8,7,8,9,8,7,8,8,7,8,8,8,9,8,8,8,8,8,8,8,8,8,8,8,8,8,8,8,8,7,8,8,8,8,8,8,8,8,8,7,8,8,8,7,7,8,7,8,8,9,7,9,7,7,7,9,8,8,9,8,7,8,7,8,7,8,8,3,7,7,8,8,9,8,8,8,9,7,8,8,8,8,9,7,8,8,8,7,8,8,8,7,8,7,7,7,8,8,7,8,8,7,7,8,8,8,8,8,8,8,7,8,7,8,7,8,8,7,8,8,8,8,7,8,8,8,8,8,8,8,8,8,8,8,8,8,8,8,7,8,7,8,8,8,8,8,8,8,9,8,8,8,7,8,8,8,9,8,8,7,8,8,8,8,7,3,8,8,8,8,8,8,8,8,8,7,9,8,8,8,9,8,8,8,8,8,8,8,8,6,8,8,8,8,8,8,8,8,7,8,9,8,8,7,8,8,8,8,8,8,7,7,8,9,8,7,8,8,7,8,8,8,8,7,8,8,8,8,8,7,8,8,7,9,8,8,8,8,7,8,8,8,8,8,8,8,8,5,8,8,8,8,8,8,8,8,8,8,8,8,8,8,8,7,8,8,9,7,7,8,8,8,8,7,7,7,7,8,8,9,8,8,9,9,8,8,7,8,8,9,8,8,8,8,8,7,7,8,8,8,8,8,7,8,8,8,8,9,8,7,8,7,8,8,8,8,9,8,7,7,8,8,3,8,8,8,8,8,7,8,8,7,8,8,8,8,7,8,7,8,7,8,7,8,8,8,8,8,8,7,7,7,8,7,7,9,6,8,7,8,8,8,9,7,8,8,9,8,7,8,7,8,8,8,8,8,7,9,8,7,8,8,8,8,8,8,7,8,8,7,8,9,8,8,8,6,7,8,7,8,8,8,8,8,8,8,8,8,8,7,7,8,9,8,8,8,9,8,8,8,7,8,8,8,8,8,8,8,9,7,7,8,8,8,7,8,9,8,8,7,8,8,8,8,8,8,8,8,9,7,8,8,7,8,8,8,8,9,8,7,8,8,8,8,8,8,7,8,9,9,8,8,8,8,8,8,9,7,8,8,8,8,7,8,8,8,7,7,7,7,7,7,8,9,7,8,9,8,8,7,8,8,8,8,8,8,8,8,8,8,7,8,8,7,8,8,8,9,8,8,8,8,7,8,8,8,7,8,8,7,8,8,7,9,7,8,7,8,8,9,8,8,8,8,8,8,9,9,9,7,7,7,7,7,7,8,9,8,8,8,7,8,7,9,8,8,8,8,8,8,8,7,8,8,8,8,7,8,8,8,7,8,8,8,8,8,8,8,8,8,8,8,8,8,8,8,8,8,8,8,7,8,8,8,7,9,8,8,8,8,9,8,8,8,9,8,8,8,8,8,8,7,8,8,8,9,8,9,7,8,8,8,8,8,8,8,8,8,8,8,7,8,8,8,8,8,8,8,7,8,8,8,7,8,8,7,8,8,8,8,8,7,8,8,8,8,9,7,8,8,8,8,8,8,8,8,8,8,8,8,8,9,8,8,8,8,8,8,7,8,7,8,8,8,7,7,9,9,8,8,8,8,7,7,8,7,8,8,8,8,8,7,8,8,9,9,8,8,8,8,8,8,8,7,8,7,8,8,8,8,7,8,7,8,8,7,8,9,8,8,8,8,8,8,8,8,8,8,7,8,8,8,8,8,7,7,8,8,9,7,9,8,7,7,8,8,8,8,8,8,8,8,8,8,8,8,8,8,8,9,8,8,8,8,8,7,9,8,7,8,8,8,9,9,8,7,8,8,8,8,8,8,8,8,8,8,8,7,8,8,7,8,8,8,8,8,9,8,8,8,8,9,8,8,8,7,8,8,8,8,7,8,7,8,7,9,8,9,8,8,8,8,8,8,9,9,8,8,8,7,9,7,7,8,8,9,9,8,9,8,8,8,8,9,8,8,8,8,8,9,8,7,8,8,7,8,8,8,8,8,7,8,8,8,9,7,8,8,8,7,8,8,8,8,8,7,8,8,8,8,9,7,7,7,8,8,7,9,8,8,7,9,8,8,7,8,8,8,8,7,8,8,8,7,8,8,8,9,8,8,8,8,8,8,8,8,8,8,8,8,7,8,9,8,8,7,8,9,8,7,8,8,8,8,8,8,8,8,7,8,8,8,8,8,8,7,7,9,8,8,7,8,8,8,9,9,8,8,8,8,8,8,8,8,9,8,8,7,8,8,8,8,8,8,8,9,7,7,8,8,8,8,8,8,8,8,8,8,8,7,8,8,8,8,8,8,7,8,8,8,9,8,8,8,8,8,8,7,8,8,8,8,7,7,7,8,7,7,8,8,7,9,7,8,8,8,8,8,8,8,8,8,7,8,7,8,6,7,8,8,8,8,8,8,8,7,8,8,8,8,8,8,7,8,8,8,8,8,8,8,7,8,8,8,8,8,8,8,8,8,9,7,7,8,9,7,9,8,8,8,8,9,7,8,8,8,9,8,8,8,7,8,8,8,8,8,8,8,8,8,7,8,8,8,9,8,8,8,8,8,8,8,8,8,8,8,7,7,7,8,8,8,9,8,8,8,7,8,8,8,8,8,6,8,9,7,8,6,8,8,7,8,8,8,7,7,8,8,8,8,7,8,9,7,7,8,7,8,7,9,8,8,8,8,8,8,8,8,8,8,8,9,8,8,7,8,9,8,8,8,9,8,8,8,8,7,8,8,8,8,8,10,8,8,8,7,7,7,8,8,8,8,8,8,7,8,8,8,8,7,8,8,8,8,8,8,8,8,7,8,9,8,8,7,8,8,8,9,8,8,7,8,8,7,8,8,8,9,7,8,8,9,8,8,9,8,8,8,8,8,8,9,8,8,8,8,8,8,8,8,7,8,8,8,8,8,8,9,9,8,8,8,7,8,8,8,7,8,7,7,8,8,8,8,8,8,8,7,9,8,8,7,9,8,7,8,8,8,9,7,8,8,8,8,8,7,8,8,8,8,9,7,8,8,8,8,8,8,8,9,8,8,8,8,8,9,9,8,8,8,8,7,7,8,8,9,8,8,8,8,8,8,7,7,9,8,8,8,7,8,7,8,8,8,8,7,9,8,8,9,8,8,9,8,8,7,8,7,8,8,7,8,8,8,8,8,8,8,8,8,8,8,8,8,8,8,7,8,8,8,9,9,8,8,8,8,8,8,7,7,8,8,7,7,8,8,3,8,8,8,8,8,8,8,8,8,8,7,9,8,8,8,8,8,8,8,8,8,8,7,8,8,8,8,8,8,8,9,8,8,7,8,8,8,8,7,8,8,8,8,8,8,9,8,8,8,8,7,8,7,8,8,8,8,7,8,9,8,8,9,9,8,8,8,8,8,8,7,8,8,8,7,8,8,8,8,8,7,8,9,8,7,8,8,8,8,7,7,8,9,8,9,8,8,8,7,8,8,8,8,8,8,8,8,8,8,8,8,8,8,7,10,8,9,7,8,8,8,8,7,7,8,9,7,8,8,8,8,8,8,8,8,8,8,8,8,8,8,8,8,8,8,8,8,9,7,8,8,7,8,8,8,8,8,8,8,8,9,8,8,8,8,8,8,8,8,8,8,8,7,7,8,8,7,8,9,8,8,8,7,7,8,8,8,8,8,9,8,8,8,8,8,8,8,8,8,8,8,8,8,8,8,8,8,8,8,8,9,8,9,7,8,8,8,8,8,8,8,8,8,8,8,8,8,9,8,8,8,7,8,8,8,8,8,8,8,8,9,8,8,9,8,8,8,8,8,8,9,8,8,7,8,8,7,8,8,7,8,7,6,8,8,8,8,9,7,8,7,9,8,9,7,8,8,8,8,8,8,8,8,8,8,8,7,7,9,8,8,8,8,8,8,8,9,8,8,8,8,7,9,8,8,8,8,8,8,8,8,8,8,8,7,7,8,8,8,8,8,7,8,8,8,8,8,8,9,8,7,8,9,8,8,9,8,8,9,8,8,8,8,8,8,8,8,8,8,8,8,9,8,8,8,9,9,7,8,8,8,8,8,8,8,8,7,8,8,8,9,9,8,9,8,9,9,8,7,8,8,7,8,8,8,8,8,9,7,8,8,8,8,8,8,8,9,8,8,8,8,7,7,8,9,9,9,8,8,8,8,9,7,9,8,8,8,8,9,7,8,8,7,8,8,7,8,8,8,8,7,8,8,8,8,8,8,8,8,8,8,8,7,9,8,8,9,8,7,8,7,8,9,8,8,8,8,8,8,7,8,8,8,8,8,8,8,8,7,8,8,8,8,8,8,8,9,9,8,8,8,8,8,8,9,9,8,8,8,8,8,8,8,7,7,8,8,8,8,8,8,7,8,9,8,8,8,8,9,8,8,8,8,8,8,9,9,8,8,8,8,7,8,8,7,8,8,8,7,8,8,8,8,8,8,8,8,8,8,8,8,8,8,8,8,8,7,8,8,8,7,7,8,8,8,9,8,8,8,8,8,8,7,8,8,7,8,8,9,8,8,8,10,8,8,7,8,8,7,8,8,8,8,8,8,8,8,8,8,8,8,8,8,8,8,8,8,8,8,7,8,8,9,8,8,7,8,8,8,8,8,8,7,8,8,8,8,8,8,7,8,8,8,8,8,8,9,9,8,8,8,9,8,8,9,8,8,8,8,8,8,8,8,8,8,8,8,9,8,8,9,8,8,9,9,8,7,8,9,8,8,8,7,7,8,8,8,8,8,8,7,8,9,8,8,7,8,8,8,8,8,9,8,8,9,8,7,8,8,8,8,9,8,8,8,8,8,8,8,8,8,8,8,8,8,8,8,8,8,8,8,7,9,8,8,9,8,8,8,9,8,8,8,8,8,7,9,8,8,7,8,8,8,8,8,8,8,8,8,8,8,8,7,8,8,8,8,8,8,8,8,9,9,8,8,8,8,8,8,8,8,8,8,8,8,8,8,8,8,8,8,8,8,8,9,8,7,8,8,8,9,8,8,10,8,9,8,8,8,8,8,7,7,8,7,8,8,9,8,9,8,8,8,8,7,8,9,8,8,7,8,6,8,8,8,7,8,8,8,8,8,9,8,8,7,8,8,8,7,8,8,8,8,8,8,9,9,8,8,8,7,9,9,8,8,8,8,8,8,6,8,8,8,8,6,8,8,8,9,8,8,7,7,9,8,7,8,8,8,7,8,8,7,8,8,8,8,8,8,9,8,9,9,7,8,9,7,8,8,7,8,8,9,8,8,7,8,8,7,8,8,8,8,8,8,7,10,9,9,8,8,8,8,8,8,8,9,8,8,8,9,8,8,8,7,8,8,8,8,8,8,7,8,8,8,8,8,8,9,8,9,8,9,8,8,8,7,8,8,8,8,8,8,8,8,8,7,8,8,8,8,7,9,8,8,8,8,8,9,8,8,8,8,8,8,8,10,7,9,8,8,8,9,8,9,8,8,9,8,8,9,8,8,8,8,8,8,8,7,9,8,7,8,8,8,8,8,9,8,8,8,8,7,8,8,8,8,8,8,8,9,8,8,8,8,9,8,9,8,9,8,8,8,8,8,8,8,8,8,8,8,8,8,8,8,7,8,8,9,7,8,8,8,8,8,8,8,7,8,8,8,8,8,9,8,8,8,8,7,9,8,7,8,8,9,7,8,8,7,8,8,9,8,8,8,8,8,9,8,8,8,7,8,8,8,8,8,8,9,8,8,8,8,9,9,8,8,8,8,8,8,8,9,8,8,8,7,8,9,8,8,7,8,8,8,9,8,8,7,8,8,8,8,8,7,8,9,7,8,9,7,8,7,9,8,9,8,7,6,10,8,8,7,8,9,9,7,8,8,9,8,9,7,8,8,8,8,8,8,8,7,8,8,8,6,8,9,8,8,7,8,9,8,9,9,8,8,8,8,7,9,8,8,9,8,9,8,8,8,8,9,8,8,8,8,8,8,8,8,8,10,7,8,8,8,8,8,8,8,8,8,7,9,8,8,8,9,7,8,8,8,8,8,8,9,8,8,8,8,8,8,8,8,8,8,8,8,8,10,8,8,9,7,9,8,8,8,7,8,9,8,8,8,8,7,8,9,8,7,8,8,8,9,8,8,8,9,8,8,8,8,8,7,8,9,8,9,7,8,7,8,8,8,7,8,8,8,8,8,9,8,9,8,8,8,8,8,8,8,7,8,9,8,9,9,9,8,9,8,9,8,7,8,9,9,8,7,8,8,7,8,8,8,8,8,8,8,8,8,8,8,8,8,8,8,10,8,7,9,8,8,8,8,8,8,9,8,9,8,8,9,8,8,7,8,9,7,8,8,8,8,8,8,8,8,8,8,8,8,8,8,8,8,8,8,8,8,8,8,9,8,9,8,8,8,8,8,8,9,8,9,8,8,8,8,8,8,8,8,9,8,8,8,8,8,8,7,8,8,7,10,7,8,8,8,8,8,8,9,9,8,8,7,9,8,8,8,8,8,8,8,9,9,8,8,8,8,9,8,9,7,8,8,7,8,8,7,9,8,9,7,7,8,8,9,8,8,8,8,8,8,8,8,8,8,8,8,8,8,9,8,8,8,9,8,8,8,7,8,8,9,8,8,8,9,8,8,9,8,9,8,8,8,7,8,9,8,8,8,8,8,8,9,8,8,8,9,9,8,8,9,8,8,9,9,8,8,9,7,8,8,7,8,8,8,8,8,8,8,8,8,8,8,8,8,8,8,8,8,8,8,8,8,8,9,7,9,8,8,8,8,9,8,8,7,9,8,8,8,8,9,8,8,8,7,9,7,8,8,8,8,6,9,8,9,9,7,8,8,8,8,9,8,8,8,7,8,8,8,8,8,8,8,8,8,8,8,8,8,8,8,8,8,8,9,9,7,9,8,9,10,9,8,7,7,8,8,9,8,8,9,8,8,8,9,8,8,8,9,8,8,9,8,9,8,8,8,7,8,9,8,9,7,8,8,8,8,8,8,8,7,8,8,8,9,8,8,3,9,9,8,8,8,8,7,9,8,8,7,9,8,9,8,7,8,9,9,8,8,8,9,8,8,8,8,8,7,8,8,8,6,9,8,9,8,8,8,8,8,8,8,8,9,8,8,8,8,8,8,8,9,8,8,8,8,8,8,8,7,8,8,8,8,8,9,8,9,8,8,8,8,8,9,9,8,8,8,8,8,8,8,8,8,9,8,8,8,9,8,8,8,8,8,8,8,9,8,8,8,8,8,8,8,7,8,8,8,8,8,8,9,8,7,8,8,8,8,8,8,8,7,8,8,9,8,8,8,8,8,9,8,8,7,8,8,8,8,9,8,8,8,8,8,8,8,8,8,8,9,7,8,8,8,8,8,7,7,8,8,8,8,8,9,8,8,8,8,8,9,7,9,9,8,8,8,8,8,8,8,9,9,8,8,8,8,8,8,9,8,9,9,9,8,9,8,8,8,7,8,8,8,8,8,9,8,7,9,8,8,8,8,8,8,8,8,8,8,8,9,9,7,8,8,8,8,8,8,8,7,9,8,8,8,9,7,8,8,8,8,8,9,8,9,8,8,8,8,8,9,8,9,8,9,7,8,8,8,9,8,8,8,3,9,8,8,8,8,7,8,8,9,8,8,8,7,8,8,8,8,8,8,9,8,8,9,8,8,8,9,8,8,8,8,8,8,8,9,8,8,8,9,8,9,8,8,8,8,8,8,8,9,8,9,8,7,8,8,8,8,8,8,9,8,8,9,8,7,8,8,8,8,8,9,8,8,8,8,9,9,8,8,8,7,9,9,8,8,10,8,8,8,8,7,7,8,8,8,8,9,9,8,8,9,9,9,8,7,8,8,8,9,8,8,8,8,9,8,8,8,8,8,8,8,8,8,8,8,8,8,8,8,8,9,8,8,8,8,8,8,9,8,8,8,8,8,8,8,7,10,8,8,8,8,9,8,8,9,8,8,9,8,9,8,9,8,7,8,8,8,8,7,8,8,8,8,8,8,9,8,7,8,8,9,8,8,8,8,8,8,8,8,8,8,8,9,8,8,9,9,8,8,8,8,8,8,9,8,9,8,7,8,8,8,9,8,8,8,8,8,8,9,9,7,8,9,8,9,9,8,9,8,9,8,8,8,8,9,7,7,8,9,9,8,8,9,8,8,8,9,8,8,8,8,8,8,8,9,9,9,8,8,9,8,8,8,8,8,8,8,8,8,7,8,8,9,8,9,8,8,9,8,8,8,10,8,8,8,8,8,9,7,8,8,8,8,8,8,8,8,8,8,8,8,9,9,8,8,8,8,9,7,9,8,9,8,8,8,9,8,7,8,9,8,8,9,8,8,8,8,8,7,8,9,9,9,8,9,8,9,8,8,9,8,8,8,9,9,8,7,8,8,8,9,8,8,8,9,8,8,8,8,9,8,8,8,8,8,8,8,8,8,8,8,8,9,9,8,8,9,8,9,8,8,8,9,8,9,8,9,9,8,8,9,8,8,8,8,8,8,8,7,9,8,8,6,8,8,8,9,8,9,8,8,9,8,8,8,8,8,8,7,8,8,8,9,7,8,7,9,7,8,8,8,8,8,9,8,8,8,8,8,9,8,8,8,7,9,9,8,9,9,8,9,8,8,9,8,8,7,9,8,7,8,8,8,8,7,8,9,9,9,8,9,9,8,9,8,7,9,7,8,8,8,8,8,8,7,9,8,9,8,8,8,8,9,9,8,8,8,8,8,8,9,8,8,8,9,8,8,9,7,6,8,8,8,8,8,8,6,8,8,8,8,8,8,8,10,7,8,8,9,9,8,8,8,9,8,8,8,8,8,8,8,8,8,9,7,8,8,8,8,8,8,8,8,8,8,8,9,8,8,9,8,8,8,8,8,9,8,8,9,8,8,8,8,8,8,9,9,8,8,8,8,8,7,8,8,8,8,8,8,8,8,9,9,9,8,8,8,7,8,9,8,9,8,9,8,9,8,8,9,9,9,8,8,9,10,8,7,8,8,8,8,9,7,9,8,8,8,8,7,8,9,8,8,8,9,9,8,8,8,8,9,8,8,9,8,8,9,9,9,8,8,9,9,9,8,8,9,9,8,9,8,8,7,8,6,7,8,8,9,8,8,8,8,8,8,8,8,8,8,8,8,9,8,8,9,8,9,8,8,7,8,9,8,8,8,8,8,8,8,9,9,7,8,9,8,9,7,8,9,8,8,9,8,8,8,9,7,9,8,8,8,8,8,8,8,9,9,8,8,8,8,8,8,8,9,8,8,7,8,8,8,7,8,9,8,7,8,9,8,8,8,8,8,9,8,7,8,8,6,8,9,8,8,9,8,8,9,8,9,8,9,8,8,8,7,9,8,9,8,8,8,8,8,9,8,8,8,8,8,8,8,9,7,8,8,8,8,8,8,8,9,9,9,8,8,8,9,8,8,7,7,8,9,8,9,9,6,8,9,8,8,9,8,8,8,8,9,9,8,8,9,9,7,8,9,7,9,8,8,8,9,8,8,8,7,10,8,8,8,8,8,9,9,8,8,8,7,8,8,9,10,8,8,8,8,8,9,9,9,8,9,8,8,8,8,9,8,8,8,9,9,8,9,8,8,9,8,8,8,9,8,8,8,9,8,9,8,8,9,8,8,9,8,8,8,8,8,8,9,9,8,8,8,9,8,8,8,8,8,8,8,9,8,8,8,8,8,8,8,8,9,8,8,8,9,8,8,6,8,8,8,8,8,8,9,8,7,8,9,8,8,8,8,8,8,8,8,8,8,8,8,8,8,8,7,8,8,9,8,8,9,8,8,9,8,8,8,8,8,8,8,8,9,8,8,8,9,8,8,8,9,8,9,8,8,9,8,9,8,8,8,9,8,9,9,9,9,9,9,7,9,8,8,8,8,8,8,9,7,8,9,8,9,8,8,10,8,9,10,8,9,8,8,8,8,8,9,8,8,8,8,8,8,9,9,8,8,9,9,8,8,8,9,9,7,9,8,9,8,8,7,8,8,8,8,8,8,9,8,8,9,8,8,8,9,9,8,8,8,9,9,8,8,8,8,8,9,9,8,9,9,8,8,9,8,9,8,8,9,9,8,9,8,8,9,8,9,8,8,8,9,8,8,8,8,8,8,8,8,8,8,8,8,8,8,8,8,8,9,8,8,9,8,9,9,7,8,8,8,8,8,8,8,9,8,8,8,8,7,8,9,9,8,9,8,8,10,9,6,9,9,8,9,8,8,9,8,8,7,8,8,8,8,9,8,9,9,9,8,7,8,8,8,9,8,8,8,8,8,8,8,8,8,8,9,8,9,8,8,8,8,8,8,8,8,9,8,8,8,8,8,8,7,8,8,8,8,8,8,8,8,8,8,7,7,7,8,9,8,7,8,9,8,7,8,8,8,8,8,8,9,9,9,8,7,9,8,8,8,8,8,9,8,8,8,9,8,8,9,8,9,8,8,9,9,9,8,8,8,8,8,9,8,8,8,8,8,8,8,8,8,8,8,8,7,10,9,9,8,8,8,8,8,9,8,8,8,9,8,8,8,8,8,8,8,9,8,8,8,9,8,8,9,8,9,8,8,8,8,9,9,8,8,8,8,8,8,8,9,8,8,8,8,8,8,9,8,8,7,8,8,9,8,8,8,8,8,9,9,8,8,8,8,9,8,8,8,8,8,9,8,8,9,8,8,8,8,8,8,7,8,8,8,8,9,7,8,6,9,9,8,9,8,8,8,8,9,8,8,8,8,8,8,8,9,9,8,8,8,8,8,8,8,7,9,9,8,9,9,8,8,8,8,8,8,9,9,8,8,8,8,8,9,8,9,8,8,8,8,9,8,8,8,7,8,8,8,8,8,8,8,8,8,8,8,9,8,8,8,8,7,8,9,8,8,8,8,8,8,9,10,8,9,8,9,9,9,8,8,8,8,8,8,8,9,7,8,8,9,9,8,8,6,8,8,9,9,8,8,9,8,8,8,9,9,9,8,8,8,8,8,9,8,8,8,8,9,8,8,8,8,8,8,8,8,8,7,8,8,8,8,8,8,8,8,8,8,9,8,8,8,8,9,8,8,9,8,8,8,8,8,8,9,8,8,8,8,8,8,9,8,8,8,9,8,8,9,8,8,9,8,8,8,9,8,8,9,8,9,9,8,7,9,9,8,7,9,8,8,9,8,9,7,8,8,8,9,8,8,8,8,9,8,8,9,9,9,8,8,8,8,8,8,10,7,9,9,8,9,8,8,9,8,9,9,8,8,8,9,9,8,9,9,8,9,9,8,9,7,8,9,9,9,8,9,8,8,8,8,8,8,8,8,9,8,8,8,9,8,8,7,8,9,8,8,8,9,8,8,9,8,9,8,8,8,9,9,9,9,8,8,8,9,8,8,9,8,8,8,8,9,8,8,8,8,8,7,8,8,8,8,9,8,8,8,9,9,8,8,8,10,8,9,9,9,8,8,8,8,8,8,9,8,9,8,8,8,8,8,8,9,9,8,8,9,8,8,8,8,9,9,8,8,9,8,8,8,8,9,8,6,8,9,8,8,9,8,8,8,8,8,8,9,8,8,8,8,8,8,8,9,8,9,8,9,9,8,8,9,9,10,9,9,9,8,10,8,8,8,9,8,8,8,7,8,8,8,9,8,7,9,8,8,8,9,8,9,8,9,9,9,8,8,8,9,8,9,9,7,7,8,8,8,9,8,9,8,8,8,8,9,8,8,8,8,8,8,7,8,8,7,8,9,8,8,8,9,8,8,8,9,8,9,9,8,8,7,8,9,8,8,8,9,8,8,9,8,9,8,8,9,8,8,8,8,8,8,8,8,8,8,9,9,8,7,9,8,9,9,7,8,9,8,8,9,8,8,9,9,8,8,8,8,6,8,9,9,8,8,9,8,8,9,8,8,8,8,8,8,8,8,9,8,9,8,9,8,8,8,8,9,8,8,8,8,8,9,10,9,8,8,8,8,8,8,7,8,8,8,8,9,8,9,9,8,8,8,9,8,9,8,9,9,9,8,8,8,8,8,9,8,9,8,8,9,8,8,8,9,8,9,9,7,8,7,8,10,8,7,9,9,8,8,8,8,7,8,8,8,8,8,8,8,8,8,8,9,8,7,8,8,8,9,9,9,8,9,8,8,8,9,8,8,8,8,9,9,8,8,8,8,9,8,8,8,8,7,8,8,9,8,8,8,3,9,8,8,8,8,8,8,8,8,8,8,8,8,8,8,9,8,8,9,8,9,8,8,9,9,9,8,8,9,10,8,9,8,8,7,8,9,8,9,8,7,9,8,9,8,8,8,8,8,9,8,9,8,8,8,7,8,8,8,7,8,8,9,8,8,9,7,8,9,8,8,8,8,8,8,8,8,8,8,8,9,8,9,9,8,8,7,8,8,7,8,9,9,9,10,8,9,8,8,8,9,8,8,8,8,8,7,9,9,8,9,9,8,8,8,8,8,9,9,9,8,9,8,8,8,8,8,8,9,8,9,8,8,8,7,8,9,8,8,8,8,8,8,9,7,8,8,7,8,8,8,8,8,8,8,8,9,9,8,8,8,9,8,10,8,8,8,8,9,8,8,8,8,8,8,8,9,8,9,8,8,8,8,9,9,9,8,8,8,8,8,9,8,8,9,9,8,8,8,8,9,8,9,8,8,8,8,7,9,9,9,8,7,9,9,8,8,8,7,9,8,9,8,9,8,8,9,8,9,7,8,8,8,9,9,8,10,9,9,9,8,8,7,9,10,8,9,8,9,8,9,8,9,8,9,8,8,8,8,8,8,8,9,8,10,8,8,8,8,8,9,8,9,9,8,9,8,8,8,8,8,8,9,9,8,8,7,9,8,9,9,7,9,7,9,8,9,7,7,8,8,7,9,8,8,8,8,9,9,8,9,7,8,8,8,9,8,8,8,8,9,8,8,8,8,8,7,8,8,8,8,9,9,8,8,8,8,9,8,10,8,8,8,8,8,8,9,8,10,8,9,9,8,8,8,8,8,8,9,9,9,8,8,8,8,8,9,9,8,7,8,9,9,8,8,8,8,7,8,8,8,8,9,8,8,8,9,8,8,8,8,8,8,8,8,9,8,9,8,8,7,9,8,7,8,8,9,8,8,8,8,9,8,8,9,8,8,9,8,9,9,8,8,9,9,9,8,8,8,8,8,10,7,9,8,9,9,8,9,8,8,9,8,9,9,8,8,8,9,8,8,9,8,9,8,8,8,9,8,8,8,8,8,8,7,8,8,9,9,9,7,8,9,9,9,9,8,8,8,8,9,8,8,8,8,8,8,7,8,9,8,8,8,8,8,8,8,8,8,8,9,7,8,8,8,9,8,8,8,8,9,8,8,8,8,8,7,8,8,8,8,8,9,7,9,8,7,8,8,9,8,8,8,8,8,9,9,9,8,9,7,8,8,8,8,9,8,8,8,8,8,8,9,8,9,9,7,8,8,8,9,8,8,8,9,8,7,9,8,8,8,8,8,8,9,8,10,9,8,9,8,9,8,8,8,9,9,8,8,9,9,8,9,9,8,9,8,8,9,8,9,8,8,8,9,8,9,9,9,10,9,8,8,8,8,8,8,8,8,8,7,9,8,9,9,9,8,8,8,9,8,8,8,10,8,8,9,8,8,8,8,8,9,8,9,9,9,8,8,9,8,8,8,8,8,8,8,8,9,8,9,9,8,10,8,9,9,8,9,9,8,9,8,4,8,8,7,8,9,9,9,8,8,9,8,8,7,9,7,6,9,8,8,8,8,8,8,8,9,9,8,9,8,9,8,8,9,9,9,9,8,9,10,8,8,8,8,8,9,8,9,8,8,9,8,9,8,8,8,8,4,8,8,8,8,8,8,8,9,8,9,8,9,8,8,7,8,9,8,9,9,9,9,8,9,8,8,9,8,8,8,8,8,8,8,9,8,9,9,8,9,9,8,8,8,8,8,9,9,7,9,8,8,9,8,8,8,8,9,8,8,9,8,8,8,8,9,8,8,9,8,8,8,8,8,9,8,8,8,7,8,8,8,8,9,8,9,9,8,7,8,8,9,8,8,9,8,8,8,8,8,9,8,8,8,8,9,9,8,8,8,9,8,8,8,9,8,9,9,8,9,7,8,8,8,9,9,9,8,9,8,8,9,8,9,8,8,9,9,8,8,9,8,8,9,8,8,8,9,8,9,8,8,9,10,8,9,8,9,8,8,8,9,8,8,10,8,8,9,8,8,8,8,8,9,8,8,8,9,8,8,9,8,8,8,9,7,8,9,8,9,8,8,8,7,8,8,8,9,8,9,9,9,9,8,8,9,8,9,8,8,8,8,8,8,8,8,8,10,8,8,8,8,8,8,9,9,8,8,8,3,10,7,8,8,8,9,9,9,8,8,9,8,8,9,8,9,9,9,8,8,8,9,9,9,8,8,8,9,8,7,9,8,9,8,8,8,8,8,7,8,8,9,9,8,9,9,9,9,8,9,8,8,8,8,9,8,9,9,9,8,8,8,8,8,8,8,9,9,8,8,8,8,9,8,8,8,9,8,8,9,9,8,8,8,9,8,9,9,10,9,10,9,8,8,8,7,8,8,8,8,9,9,8,8,8,9,8,8,9,9,8,9,10,8,7,8,9,9,8,8,9,9,8,8,8,8,8,8,7,8,8,9,8,8,8,9,8,9,8,8,8,8,8,8,8,8,8,8,10,8,10,8,8,7,8,9,8,9,8,7,8,7,8,8,8,9,8,9,9,8,8,8,8,8,8,8,9,8,8,9,8,8,9,8,8,7,7,9,9,8,8,8,8,9,8,7,8,8,9,8,8,9,9,9,8,9,8,8,8,9,9,9,8,9,8,8,8,8,9,8,8,8,9,9,9,8,8,8,8,8,9,7,9,8,9,8,9,7,8,8,8,8,9,9,8,9,8,8,9,9,8,8,7,8,9,8,9,8,9,8,8,9,9,9,9,8,9,9,8,8,8,8,8,9,8,7,8,9,8,8,8,8,9,9,8,8,8,8,8,8,8,8,9,8,7,8,8,9,8,8,7,8,9,8,9,8,8,8,9,8,8,8,8,8,9,8,9,8,9,8,8,9,8,8,9,8,9,8,9,9,9,9,8,8,9,9,9,8,8,8,8,8,9,9,8,8,9,8,8,8,9,10,9,9,8,9,9,8,9,8,9,8,8,8,8,9,8,10,8,8,8,8,9,9,9,7,8,9,8,8,8,8,8,8,9,8,9,8,9,8,8,8,7,8,9,9,10,9,9,8,9,8,8,8,8,9,9,9,9,8,7,8,9,8,9,9,8,9,8,8,8,9,8,9,8,8,8,8,9,9,8,8,8,8,8,9,8,9,9,9,8,9,8,10,8,9,8,8,8,9,7,8,8,8,9,9,8,8,8,9,9,8,9,9,9,8,8,8,9,8,8,8,8,9,8,9,9,8,9,9,7,7,9,9,9,9,9,8,8,8,8,10,8,8,8,8,8,9,9,9,9,8,9,8,9,8,10,8,8,8,10,9,7,7,9,8,9,8,9,9,8,8,8,8,8,8,9,9,8,9,8,9,8,8,8,8,9,8,8,9,8,8,8,8,7,8,8,8,9,8,8,8,9,8,8,8,9,8,7,8,9,8,9,8,8,9,8,8,9,8,9,8,9,9,8,8,8,7,9,8,9,8,8,8,8,8,8,8,8,8,8,8,7,7,8,8,9,8,8,8,9,8,9,8,9,9,8,8,8,9,8,8,8,8,8,8,9,8,9,8,9,8,8,8,8,8,9,8,8,9,9,8,9,9,8,8,8,8,9,9,8,8,7,9,8,8,8,8,8,8,9,9,8,9,9,8,9,10,8,9,8,8,9,8,8,8,8,9,8,9,8,8,9,8,8,8,9,9,8,9,8,7,8,8,8,9,8,8,8,8,9,8,9,8,9,9,9,8,9,8,9,9,9,8,9,8,8,9,8,7,8,8,8,9,8,8,8,8,8,8,8,7,9,8,8,8,8,9,10,8,8,9,9,9,8,9,7,9,8,9,9,8,9,8,8,8,9,8,9,9,9,8,8,9,9,8,8,8,8,8,8,8,8,9,8,8,8,9,8,8,8,8,8,9,9,8,8,8,8,8,8,8,9,8,8,8,9,8,8,8,8,8,9,7,8,9,8,8,7,8,8,9,8,8,8,8,10,9,8,9,8,9,9,8,9,8,9,9,7,9,10,9,8,9,9,9,8,8,8,7,8,9,9,8,8,7,8,9,8,9,8,9,7,8,8,8,9,8,9,8,8,9,8,9,8,7,8,8,10,9,8,8,8,9,8,8,9,8,9,8,10,8,8,9,8,9,9,8,9,8,8,7,8,9,8,9,8,8,9,9,8,8,8,8,8,8,9,9,7,8,8,9,8,9,8,9,9,9,9,9,9,9,8,7,8,8,9,9,9,9,9,8,8,9,8,8,8,8,8,9,8,7,9,8,8,8,8,8,8,8,8,8,8,8,8,9,8,9,8,8,9,9,9,9,9,9,8,9,8,9,8,8,9,8,9,9,8,8,8,9,8,8,8,9,8,9,9,9,9,8,8,8,9,8,9,8,8,8,8,8,9,8,9,9,8,8,9,9,8,9,9,8,8,9,8,8,8,8,8,8,8,9,9,8,9,8,8,7,8,8,9,9,7,8,8,10,8,9,9,9,8,9,8,8,9,8,8,9,8,7,8,8,9,8,7,8,9,9,8,8,9,8,8,8,8,8,8,8,8,9,9,9,8,9,9,7,9,8,8,9,9,9,9,8,9,9,8,9,8,9,8,8,8,9,9,9,9,9,9,8,8,8,8,9,9,8,9,8,8,8,9,8,9,8,9,8,9,8,8,8,8,8,9,9,8,8,9,8,9,8,10,9,8,8,8,9,8,7,7,8,8,8,9,8,8,9,9,9,9,8,8,8,8,8,9,8,8,9,9,8,8,8,8,8,9,9,9,8,8,9,9,8,8,8,8,7,8,8,9,9,8,9,8,9,7,8,9,8,9,10,9,8,8,8,9,7,10,8,9,8,8,8,9,9,9,9,8,9,9,8,8,7,8,8,9,10,8,8,8,8,8,7,9,8,8,9,7,9,8,8,9,9,9,9,8,8,8,7,9,8,8,8,8,8,8,9,8,8,8,9,8,9,9,8,9,9,9,9,9,8,8,8,9,8,8,8,8,8,8,9,8,9,7,9,8,8,9,9,8,9,9,8,8,7,9,9,8,9,8,9,8,8,9,8,8,8,8,9,9,8,9,8,8,8,8,8,8,9,8,9,8,8,8,8,9,8,8,8,9,8,8,9,9,9,8,9,9,9,8,8,9,8,9,8,8,9,9,9,9,9,9,8,9,9,8,9,8,8,9,8,8,8,8,8,8,8,8,8,9,9,9,9,9,9,8,9,9,7,9,9,8,9,9,8,8,8,7,8,8,8,8,8,8,8,9,8,8,9,8,8,8,9,9,9,9,9,9,9,8,10,8,9,9,8,8,8,8,8,8,8,8,9,8,8,9,8,8,8,8,9,8,8,9,9,6,8,9,8,8,8,8,8,9,8,10,9,9,10,8,9,9,8,9,8,7,9,8,8,9,8,8,8,9,8,9,8,9,8,9,9,7,8,8,8,8,8,9,9,9,8,7,8,8,9,8,8,8,9,7,8,9,9,10,8,8,9,9,9,9,9,9,9,8,8,9,8,8,8,9,8,8,9,9,9,8,8,9,9,9,8,9,8,8,8,8,7,8,9,8,8,8,8,8,7,8,8,8,9,8,8,8,9,9,8,8,8,7,8,9,9,9,9,9,9,10,9,8,8,9,8,8,9,8,9,10,8,10,8,9,8,9,9,8,9,8,9,8,9,8,9,8,8,9,9,9,9,8,7,8,8,8,8,8,8,9,8,9,9,9,9,8,9,8,8,8,8,8,9,8,8,9,8,8,8,8,9,9,8,8,8,8,9,9,9,8,8,9,8,9,9,10,9,8,8,9,8,9,9,10,9,10,8,8,9,9,8,9,8,8,9,8,9,9,8,9,8,9,8,8,9,7,8,9,9,8,8,8,9,9,9,7,9,8,8,9,9,9,7,9,8,9,10,9,9,9,9,7,9,9,8,8,8,9,10,8,8,8,9,8,10,8,7,8,9,9,7,9,9,9,8,8,9,8,8,8,8,8,8,8,9,8,9,9,9,8,9,9,8,10,9,8,8,8,8,9,7,9,8,9,8,9,9,7,9,8,8,8,9,9,9,9,8,8,8,8,8,8,8,9,9,9,8,9,8,9,8,8,8,8,8,9,9,8,8,9,8,7,8,8,9,8,8,8,8,8,8,8,8,8,8,9,9,10,8,9,8,9,9,8,8,8,8,8,9,8,8,9,8,8,8,8,9,9,8,8,9,8,8,8,9,8,8,9,8,8,8,7,10,8,8,7,8,8,9,8,8,8,9,8,8,9,9,9,8,8,8,8,8,8,8,9,8,8,8,9,8,9,9,8,8,8,8,8,9,7,8,9,8,8,4,9,9,9,9,9,8,8,9,10,9,8,9,9,10,8,8,9,9,8,8,8,9,8,9,9,9,8,8,10,9,9,7,9,9,9,10,8,7,8,8,9,8,8,7,9,8,8,10,9,9,9,8,9,9,8,8,8,10,7,8,9,9,9,9,9,9,8,9,8,9,9,8,10,7,8,9,8,9,9,8,9,9,8,9,8,9,8,8,9,8,9,9,10,8,8,8,9,9,9,9,10,8,8,8,9,8,8,9,8,9,9,8,8,8,9,7,9,9,8,8,8,8,8,9,8,8,9,8,8,9,10,9,9,8,8,8,9,9,9,8,9,8,9,8,8,8,8,8,8,9,9,8,8,9,9,8,8,9,8,8,8,8,9,9,9,10,9,8,9,9,8,9,8,7,9,8,9,8,8,9,8,9,8,9,9,9,8,9,9,9,8,8,9,8,8,8,8,9,8,9,8,9,8,9,9,8,8,9,8,7,9,8,9,9,8,8,8,8,8,9,8,9,8,10,10,8,9,8,9,8,9,9,7,8,9,9,9,9,9,8,9,9,9,8,8,9,9,8,7,9,8,8,9,8,8,9,9,8,8,9,8,9,9,8,8,9,9,9,8,8,8,9,7,9,8,9,8,8,8,8,8,9,9,8,8,8,9,9,8,8,9,9,9,9,8,9,7,9,9,9,10,9,7,7,8,8,8,9,8,8,7,9,8,9,8,9,8,9,9,9,10,7,8,9,3,8,8,8,9,8,9,7,9,8,9,8,9,9,8,9,9,9,8,9,9,8,9,9,9,8,9,8,8,8,9,8,9,9,8,8,9,9,8,8,8,8,9,9,8,8,8,9,9,7,9,8,8,8,7,8,8,8,9,9,8,10,8,8,9,9,8,8,8,9,8,9,9,8,4,8,8,8,9,9,8,9,10,8,8,9,8,8,8,8,9,9,7,8,9,7,7,9,7,8,8,9,9,9,10,8,8,8,8,9,9,9,9,9,9,8,8,8,8,8,8,9,9,9,9,8,8,9,9,7,9,10,9,8,8,9,8,8,8,7,8,8,8,9,8,7,9,9,8,9,9,9,9,8,9,8,8,8,8,9,9,8,9,8,8,10,8,9,8,7,8,8,9,9,8,7,8,8,9,9,8,8,7,8,8,8,8,9,8,9,10,8,8,9,9,8,8,8,9,9,9,8,9,8,8,9,9,8,9,9,8,9,8,9,8,9,7,8,9,9,8,8,9,8,10,9,8,7,8,9,9,8,8,9,8,8,8,8,9,8,8,8,9,10,9,9,8,8,8,9,8,8,8,8,9,7,9,9,8,9,9,9,9,9,8,8,9,8,8,8,9,9,8,8,9,8,9,8,9,9,9,9,9,9,3,9,8,8,8,8,8,8,10,9,9,8,9,9,8,8,8,8,9,9,9,7,8,9,8,9,10,8,9,8,9,8,8,9,8,8,8,8,9,9,9,8,9,9,8,8,8,9,8,9,9,9,9,8,8,9,10,9,8,8,9,9,10,9,9,9,9,8,10,8,10,8,8,8,7,9,8,8,9,9,9,8,9,8,8,8,8,9,8,9,8,9,9,9,9,9,8,8,8,9,8,8,8,8,9,9,9,10,8,9,8,9,9,9,7,8,8,9,8,9,9,8,9,9,9,9,9,9,8,9,9,8,9,9,8,9,9,8,8,8,8,9,8,8,9,9,9,8,9,8,8,4,8,8,8,8,8,9,9,8,8,8,9,8,9,9,8,8,10,8,9,8,9,8,8,8,9,8,8,8,8,9,9,9,8,8,8,8,9,9,8,8,8,8,9,7,9,9,8,9,9,9,8,8,8,8,8,9,9,8,8,9,9,8,8,9,10,8,9,9,8,9,8,9,8,8,9,8,9,9,8,9,7,9,8,8,10,8,9,8,8,8,8,8,9,9,9,8,8,9,9,9,8,8,9,8,9,9,6,9,9,9,8,9,8,9,8,9,9,9,9,9,8,9,8,8,9,8,8,9,9,9,8,9,8,8,8,8,8,8,9,9,8,9,8,9,9,9,8,9,8,9,9,8,8,8,8,8,8,8,9,8,9,8,9,8,9,9,8,9,8,9,9,9,9,9,8,8,9,9,8,9,9,8,8,8,8,9,8,8,7,8,9,8,9,9,8,8,9,8,8,9,8,9,9,9,8,9,9,9,9,9,8,9,9,9,8,9,9,9,9,9,8,8,9,8,8,9,8,10,8,8,8,8,9,7,9,8,9,8,9,8,8,8,8,9,8,8,8,9,9,9,8,9,9,8,9,8,9,8,8,8,8,8,8,10,8,9,9,8,9,8,9,9,8,8,8,9,8,9,8,9,9,8,9,9,9,8,9,9,9,8,8,9,8,9,8,8,9,9,9,9,9,9,8,7,9,8,9,9,8,9,9,9,9,8,8,8,8,8,8,9,8,8,8,9,8,8,9,9,8,8,8,8,9],\"xaxis\":\"x\",\"yaxis\":\"y\",\"type\":\"histogram\"}],                        {\"template\":{\"data\":{\"histogram2dcontour\":[{\"type\":\"histogram2dcontour\",\"colorbar\":{\"outlinewidth\":0,\"ticks\":\"\"},\"colorscale\":[[0.0,\"#0d0887\"],[0.1111111111111111,\"#46039f\"],[0.2222222222222222,\"#7201a8\"],[0.3333333333333333,\"#9c179e\"],[0.4444444444444444,\"#bd3786\"],[0.5555555555555556,\"#d8576b\"],[0.6666666666666666,\"#ed7953\"],[0.7777777777777778,\"#fb9f3a\"],[0.8888888888888888,\"#fdca26\"],[1.0,\"#f0f921\"]]}],\"choropleth\":[{\"type\":\"choropleth\",\"colorbar\":{\"outlinewidth\":0,\"ticks\":\"\"}}],\"histogram2d\":[{\"type\":\"histogram2d\",\"colorbar\":{\"outlinewidth\":0,\"ticks\":\"\"},\"colorscale\":[[0.0,\"#0d0887\"],[0.1111111111111111,\"#46039f\"],[0.2222222222222222,\"#7201a8\"],[0.3333333333333333,\"#9c179e\"],[0.4444444444444444,\"#bd3786\"],[0.5555555555555556,\"#d8576b\"],[0.6666666666666666,\"#ed7953\"],[0.7777777777777778,\"#fb9f3a\"],[0.8888888888888888,\"#fdca26\"],[1.0,\"#f0f921\"]]}],\"heatmap\":[{\"type\":\"heatmap\",\"colorbar\":{\"outlinewidth\":0,\"ticks\":\"\"},\"colorscale\":[[0.0,\"#0d0887\"],[0.1111111111111111,\"#46039f\"],[0.2222222222222222,\"#7201a8\"],[0.3333333333333333,\"#9c179e\"],[0.4444444444444444,\"#bd3786\"],[0.5555555555555556,\"#d8576b\"],[0.6666666666666666,\"#ed7953\"],[0.7777777777777778,\"#fb9f3a\"],[0.8888888888888888,\"#fdca26\"],[1.0,\"#f0f921\"]]}],\"heatmapgl\":[{\"type\":\"heatmapgl\",\"colorbar\":{\"outlinewidth\":0,\"ticks\":\"\"},\"colorscale\":[[0.0,\"#0d0887\"],[0.1111111111111111,\"#46039f\"],[0.2222222222222222,\"#7201a8\"],[0.3333333333333333,\"#9c179e\"],[0.4444444444444444,\"#bd3786\"],[0.5555555555555556,\"#d8576b\"],[0.6666666666666666,\"#ed7953\"],[0.7777777777777778,\"#fb9f3a\"],[0.8888888888888888,\"#fdca26\"],[1.0,\"#f0f921\"]]}],\"contourcarpet\":[{\"type\":\"contourcarpet\",\"colorbar\":{\"outlinewidth\":0,\"ticks\":\"\"}}],\"contour\":[{\"type\":\"contour\",\"colorbar\":{\"outlinewidth\":0,\"ticks\":\"\"},\"colorscale\":[[0.0,\"#0d0887\"],[0.1111111111111111,\"#46039f\"],[0.2222222222222222,\"#7201a8\"],[0.3333333333333333,\"#9c179e\"],[0.4444444444444444,\"#bd3786\"],[0.5555555555555556,\"#d8576b\"],[0.6666666666666666,\"#ed7953\"],[0.7777777777777778,\"#fb9f3a\"],[0.8888888888888888,\"#fdca26\"],[1.0,\"#f0f921\"]]}],\"surface\":[{\"type\":\"surface\",\"colorbar\":{\"outlinewidth\":0,\"ticks\":\"\"},\"colorscale\":[[0.0,\"#0d0887\"],[0.1111111111111111,\"#46039f\"],[0.2222222222222222,\"#7201a8\"],[0.3333333333333333,\"#9c179e\"],[0.4444444444444444,\"#bd3786\"],[0.5555555555555556,\"#d8576b\"],[0.6666666666666666,\"#ed7953\"],[0.7777777777777778,\"#fb9f3a\"],[0.8888888888888888,\"#fdca26\"],[1.0,\"#f0f921\"]]}],\"mesh3d\":[{\"type\":\"mesh3d\",\"colorbar\":{\"outlinewidth\":0,\"ticks\":\"\"}}],\"scatter\":[{\"fillpattern\":{\"fillmode\":\"overlay\",\"size\":10,\"solidity\":0.2},\"type\":\"scatter\"}],\"parcoords\":[{\"type\":\"parcoords\",\"line\":{\"colorbar\":{\"outlinewidth\":0,\"ticks\":\"\"}}}],\"scatterpolargl\":[{\"type\":\"scatterpolargl\",\"marker\":{\"colorbar\":{\"outlinewidth\":0,\"ticks\":\"\"}}}],\"bar\":[{\"error_x\":{\"color\":\"#2a3f5f\"},\"error_y\":{\"color\":\"#2a3f5f\"},\"marker\":{\"line\":{\"color\":\"#E5ECF6\",\"width\":0.5},\"pattern\":{\"fillmode\":\"overlay\",\"size\":10,\"solidity\":0.2}},\"type\":\"bar\"}],\"scattergeo\":[{\"type\":\"scattergeo\",\"marker\":{\"colorbar\":{\"outlinewidth\":0,\"ticks\":\"\"}}}],\"scatterpolar\":[{\"type\":\"scatterpolar\",\"marker\":{\"colorbar\":{\"outlinewidth\":0,\"ticks\":\"\"}}}],\"histogram\":[{\"marker\":{\"pattern\":{\"fillmode\":\"overlay\",\"size\":10,\"solidity\":0.2}},\"type\":\"histogram\"}],\"scattergl\":[{\"type\":\"scattergl\",\"marker\":{\"colorbar\":{\"outlinewidth\":0,\"ticks\":\"\"}}}],\"scatter3d\":[{\"type\":\"scatter3d\",\"line\":{\"colorbar\":{\"outlinewidth\":0,\"ticks\":\"\"}},\"marker\":{\"colorbar\":{\"outlinewidth\":0,\"ticks\":\"\"}}}],\"scattermapbox\":[{\"type\":\"scattermapbox\",\"marker\":{\"colorbar\":{\"outlinewidth\":0,\"ticks\":\"\"}}}],\"scatterternary\":[{\"type\":\"scatterternary\",\"marker\":{\"colorbar\":{\"outlinewidth\":0,\"ticks\":\"\"}}}],\"scattercarpet\":[{\"type\":\"scattercarpet\",\"marker\":{\"colorbar\":{\"outlinewidth\":0,\"ticks\":\"\"}}}],\"carpet\":[{\"aaxis\":{\"endlinecolor\":\"#2a3f5f\",\"gridcolor\":\"white\",\"linecolor\":\"white\",\"minorgridcolor\":\"white\",\"startlinecolor\":\"#2a3f5f\"},\"baxis\":{\"endlinecolor\":\"#2a3f5f\",\"gridcolor\":\"white\",\"linecolor\":\"white\",\"minorgridcolor\":\"white\",\"startlinecolor\":\"#2a3f5f\"},\"type\":\"carpet\"}],\"table\":[{\"cells\":{\"fill\":{\"color\":\"#EBF0F8\"},\"line\":{\"color\":\"white\"}},\"header\":{\"fill\":{\"color\":\"#C8D4E3\"},\"line\":{\"color\":\"white\"}},\"type\":\"table\"}],\"barpolar\":[{\"marker\":{\"line\":{\"color\":\"#E5ECF6\",\"width\":0.5},\"pattern\":{\"fillmode\":\"overlay\",\"size\":10,\"solidity\":0.2}},\"type\":\"barpolar\"}],\"pie\":[{\"automargin\":true,\"type\":\"pie\"}]},\"layout\":{\"autotypenumbers\":\"strict\",\"colorway\":[\"#636efa\",\"#EF553B\",\"#00cc96\",\"#ab63fa\",\"#FFA15A\",\"#19d3f3\",\"#FF6692\",\"#B6E880\",\"#FF97FF\",\"#FECB52\"],\"font\":{\"color\":\"#2a3f5f\"},\"hovermode\":\"closest\",\"hoverlabel\":{\"align\":\"left\"},\"paper_bgcolor\":\"white\",\"plot_bgcolor\":\"#E5ECF6\",\"polar\":{\"bgcolor\":\"#E5ECF6\",\"angularaxis\":{\"gridcolor\":\"white\",\"linecolor\":\"white\",\"ticks\":\"\"},\"radialaxis\":{\"gridcolor\":\"white\",\"linecolor\":\"white\",\"ticks\":\"\"}},\"ternary\":{\"bgcolor\":\"#E5ECF6\",\"aaxis\":{\"gridcolor\":\"white\",\"linecolor\":\"white\",\"ticks\":\"\"},\"baxis\":{\"gridcolor\":\"white\",\"linecolor\":\"white\",\"ticks\":\"\"},\"caxis\":{\"gridcolor\":\"white\",\"linecolor\":\"white\",\"ticks\":\"\"}},\"coloraxis\":{\"colorbar\":{\"outlinewidth\":0,\"ticks\":\"\"}},\"colorscale\":{\"sequential\":[[0.0,\"#0d0887\"],[0.1111111111111111,\"#46039f\"],[0.2222222222222222,\"#7201a8\"],[0.3333333333333333,\"#9c179e\"],[0.4444444444444444,\"#bd3786\"],[0.5555555555555556,\"#d8576b\"],[0.6666666666666666,\"#ed7953\"],[0.7777777777777778,\"#fb9f3a\"],[0.8888888888888888,\"#fdca26\"],[1.0,\"#f0f921\"]],\"sequentialminus\":[[0.0,\"#0d0887\"],[0.1111111111111111,\"#46039f\"],[0.2222222222222222,\"#7201a8\"],[0.3333333333333333,\"#9c179e\"],[0.4444444444444444,\"#bd3786\"],[0.5555555555555556,\"#d8576b\"],[0.6666666666666666,\"#ed7953\"],[0.7777777777777778,\"#fb9f3a\"],[0.8888888888888888,\"#fdca26\"],[1.0,\"#f0f921\"]],\"diverging\":[[0,\"#8e0152\"],[0.1,\"#c51b7d\"],[0.2,\"#de77ae\"],[0.3,\"#f1b6da\"],[0.4,\"#fde0ef\"],[0.5,\"#f7f7f7\"],[0.6,\"#e6f5d0\"],[0.7,\"#b8e186\"],[0.8,\"#7fbc41\"],[0.9,\"#4d9221\"],[1,\"#276419\"]]},\"xaxis\":{\"gridcolor\":\"white\",\"linecolor\":\"white\",\"ticks\":\"\",\"title\":{\"standoff\":15},\"zerolinecolor\":\"white\",\"automargin\":true,\"zerolinewidth\":2},\"yaxis\":{\"gridcolor\":\"white\",\"linecolor\":\"white\",\"ticks\":\"\",\"title\":{\"standoff\":15},\"zerolinecolor\":\"white\",\"automargin\":true,\"zerolinewidth\":2},\"scene\":{\"xaxis\":{\"backgroundcolor\":\"#E5ECF6\",\"gridcolor\":\"white\",\"linecolor\":\"white\",\"showbackground\":true,\"ticks\":\"\",\"zerolinecolor\":\"white\",\"gridwidth\":2},\"yaxis\":{\"backgroundcolor\":\"#E5ECF6\",\"gridcolor\":\"white\",\"linecolor\":\"white\",\"showbackground\":true,\"ticks\":\"\",\"zerolinecolor\":\"white\",\"gridwidth\":2},\"zaxis\":{\"backgroundcolor\":\"#E5ECF6\",\"gridcolor\":\"white\",\"linecolor\":\"white\",\"showbackground\":true,\"ticks\":\"\",\"zerolinecolor\":\"white\",\"gridwidth\":2}},\"shapedefaults\":{\"line\":{\"color\":\"#2a3f5f\"}},\"annotationdefaults\":{\"arrowcolor\":\"#2a3f5f\",\"arrowhead\":0,\"arrowwidth\":1},\"geo\":{\"bgcolor\":\"white\",\"landcolor\":\"#E5ECF6\",\"subunitcolor\":\"white\",\"showland\":true,\"showlakes\":true,\"lakecolor\":\"white\"},\"title\":{\"x\":0.05},\"mapbox\":{\"style\":\"light\"}}},\"xaxis\":{\"anchor\":\"y\",\"domain\":[0.0,1.0],\"title\":{\"text\":\"Word Length\"}},\"yaxis\":{\"anchor\":\"x\",\"domain\":[0.0,1.0],\"title\":{\"text\":\"count\"}},\"legend\":{\"tracegroupgap\":0},\"title\":{\"text\":\"Histogram of Word Lengths\"},\"barmode\":\"relative\",\"showlegend\":false},                        {\"responsive\": true}                    ).then(function(){\n",
              "                            \n",
              "var gd = document.getElementById('985e612c-c7c2-481d-b363-cf9bfc026d20');\n",
              "var x = new MutationObserver(function (mutations, observer) {{\n",
              "        var display = window.getComputedStyle(gd).display;\n",
              "        if (!display || display === 'none') {{\n",
              "            console.log([gd, 'removed!']);\n",
              "            Plotly.purge(gd);\n",
              "            observer.disconnect();\n",
              "        }}\n",
              "}});\n",
              "\n",
              "// Listen for the removal of the full notebook cells\n",
              "var notebookContainer = gd.closest('#notebook-container');\n",
              "if (notebookContainer) {{\n",
              "    x.observe(notebookContainer, {childList: true});\n",
              "}}\n",
              "\n",
              "// Listen for the clearing of the current output cell\n",
              "var outputEl = gd.closest('.output');\n",
              "if (outputEl) {{\n",
              "    x.observe(outputEl, {childList: true});\n",
              "}}\n",
              "\n",
              "                        })                };                            </script>        </div>\n",
              "</body>\n",
              "</html>"
            ]
          },
          "metadata": {}
        },
        {
          "output_type": "display_data",
          "data": {
            "text/html": [
              "<html>\n",
              "<head><meta charset=\"utf-8\" /></head>\n",
              "<body>\n",
              "    <div>            <script src=\"https://cdnjs.cloudflare.com/ajax/libs/mathjax/2.7.5/MathJax.js?config=TeX-AMS-MML_SVG\"></script><script type=\"text/javascript\">if (window.MathJax && window.MathJax.Hub && window.MathJax.Hub.Config) {window.MathJax.Hub.Config({SVG: {font: \"STIX-Web\"}});}</script>                <script type=\"text/javascript\">window.PlotlyConfig = {MathJaxConfig: 'local'};</script>\n",
              "        <script charset=\"utf-8\" src=\"https://cdn.plot.ly/plotly-2.24.1.min.js\"></script>                <div id=\"1e8ff226-e35f-47eb-adfa-6789d22879cf\" class=\"plotly-graph-div\" style=\"height:400px; width:800px;\"></div>            <script type=\"text/javascript\">                                    window.PLOTLYENV=window.PLOTLYENV || {};                                    if (document.getElementById(\"1e8ff226-e35f-47eb-adfa-6789d22879cf\")) {                    Plotly.newPlot(                        \"1e8ff226-e35f-47eb-adfa-6789d22879cf\",                        [],                        {\"template\":{\"data\":{\"histogram2dcontour\":[{\"type\":\"histogram2dcontour\",\"colorbar\":{\"outlinewidth\":0,\"ticks\":\"\"},\"colorscale\":[[0.0,\"#0d0887\"],[0.1111111111111111,\"#46039f\"],[0.2222222222222222,\"#7201a8\"],[0.3333333333333333,\"#9c179e\"],[0.4444444444444444,\"#bd3786\"],[0.5555555555555556,\"#d8576b\"],[0.6666666666666666,\"#ed7953\"],[0.7777777777777778,\"#fb9f3a\"],[0.8888888888888888,\"#fdca26\"],[1.0,\"#f0f921\"]]}],\"choropleth\":[{\"type\":\"choropleth\",\"colorbar\":{\"outlinewidth\":0,\"ticks\":\"\"}}],\"histogram2d\":[{\"type\":\"histogram2d\",\"colorbar\":{\"outlinewidth\":0,\"ticks\":\"\"},\"colorscale\":[[0.0,\"#0d0887\"],[0.1111111111111111,\"#46039f\"],[0.2222222222222222,\"#7201a8\"],[0.3333333333333333,\"#9c179e\"],[0.4444444444444444,\"#bd3786\"],[0.5555555555555556,\"#d8576b\"],[0.6666666666666666,\"#ed7953\"],[0.7777777777777778,\"#fb9f3a\"],[0.8888888888888888,\"#fdca26\"],[1.0,\"#f0f921\"]]}],\"heatmap\":[{\"type\":\"heatmap\",\"colorbar\":{\"outlinewidth\":0,\"ticks\":\"\"},\"colorscale\":[[0.0,\"#0d0887\"],[0.1111111111111111,\"#46039f\"],[0.2222222222222222,\"#7201a8\"],[0.3333333333333333,\"#9c179e\"],[0.4444444444444444,\"#bd3786\"],[0.5555555555555556,\"#d8576b\"],[0.6666666666666666,\"#ed7953\"],[0.7777777777777778,\"#fb9f3a\"],[0.8888888888888888,\"#fdca26\"],[1.0,\"#f0f921\"]]}],\"heatmapgl\":[{\"type\":\"heatmapgl\",\"colorbar\":{\"outlinewidth\":0,\"ticks\":\"\"},\"colorscale\":[[0.0,\"#0d0887\"],[0.1111111111111111,\"#46039f\"],[0.2222222222222222,\"#7201a8\"],[0.3333333333333333,\"#9c179e\"],[0.4444444444444444,\"#bd3786\"],[0.5555555555555556,\"#d8576b\"],[0.6666666666666666,\"#ed7953\"],[0.7777777777777778,\"#fb9f3a\"],[0.8888888888888888,\"#fdca26\"],[1.0,\"#f0f921\"]]}],\"contourcarpet\":[{\"type\":\"contourcarpet\",\"colorbar\":{\"outlinewidth\":0,\"ticks\":\"\"}}],\"contour\":[{\"type\":\"contour\",\"colorbar\":{\"outlinewidth\":0,\"ticks\":\"\"},\"colorscale\":[[0.0,\"#0d0887\"],[0.1111111111111111,\"#46039f\"],[0.2222222222222222,\"#7201a8\"],[0.3333333333333333,\"#9c179e\"],[0.4444444444444444,\"#bd3786\"],[0.5555555555555556,\"#d8576b\"],[0.6666666666666666,\"#ed7953\"],[0.7777777777777778,\"#fb9f3a\"],[0.8888888888888888,\"#fdca26\"],[1.0,\"#f0f921\"]]}],\"surface\":[{\"type\":\"surface\",\"colorbar\":{\"outlinewidth\":0,\"ticks\":\"\"},\"colorscale\":[[0.0,\"#0d0887\"],[0.1111111111111111,\"#46039f\"],[0.2222222222222222,\"#7201a8\"],[0.3333333333333333,\"#9c179e\"],[0.4444444444444444,\"#bd3786\"],[0.5555555555555556,\"#d8576b\"],[0.6666666666666666,\"#ed7953\"],[0.7777777777777778,\"#fb9f3a\"],[0.8888888888888888,\"#fdca26\"],[1.0,\"#f0f921\"]]}],\"mesh3d\":[{\"type\":\"mesh3d\",\"colorbar\":{\"outlinewidth\":0,\"ticks\":\"\"}}],\"scatter\":[{\"fillpattern\":{\"fillmode\":\"overlay\",\"size\":10,\"solidity\":0.2},\"type\":\"scatter\"}],\"parcoords\":[{\"type\":\"parcoords\",\"line\":{\"colorbar\":{\"outlinewidth\":0,\"ticks\":\"\"}}}],\"scatterpolargl\":[{\"type\":\"scatterpolargl\",\"marker\":{\"colorbar\":{\"outlinewidth\":0,\"ticks\":\"\"}}}],\"bar\":[{\"error_x\":{\"color\":\"#2a3f5f\"},\"error_y\":{\"color\":\"#2a3f5f\"},\"marker\":{\"line\":{\"color\":\"#E5ECF6\",\"width\":0.5},\"pattern\":{\"fillmode\":\"overlay\",\"size\":10,\"solidity\":0.2}},\"type\":\"bar\"}],\"scattergeo\":[{\"type\":\"scattergeo\",\"marker\":{\"colorbar\":{\"outlinewidth\":0,\"ticks\":\"\"}}}],\"scatterpolar\":[{\"type\":\"scatterpolar\",\"marker\":{\"colorbar\":{\"outlinewidth\":0,\"ticks\":\"\"}}}],\"histogram\":[{\"marker\":{\"pattern\":{\"fillmode\":\"overlay\",\"size\":10,\"solidity\":0.2}},\"type\":\"histogram\"}],\"scattergl\":[{\"type\":\"scattergl\",\"marker\":{\"colorbar\":{\"outlinewidth\":0,\"ticks\":\"\"}}}],\"scatter3d\":[{\"type\":\"scatter3d\",\"line\":{\"colorbar\":{\"outlinewidth\":0,\"ticks\":\"\"}},\"marker\":{\"colorbar\":{\"outlinewidth\":0,\"ticks\":\"\"}}}],\"scattermapbox\":[{\"type\":\"scattermapbox\",\"marker\":{\"colorbar\":{\"outlinewidth\":0,\"ticks\":\"\"}}}],\"scatterternary\":[{\"type\":\"scatterternary\",\"marker\":{\"colorbar\":{\"outlinewidth\":0,\"ticks\":\"\"}}}],\"scattercarpet\":[{\"type\":\"scattercarpet\",\"marker\":{\"colorbar\":{\"outlinewidth\":0,\"ticks\":\"\"}}}],\"carpet\":[{\"aaxis\":{\"endlinecolor\":\"#2a3f5f\",\"gridcolor\":\"white\",\"linecolor\":\"white\",\"minorgridcolor\":\"white\",\"startlinecolor\":\"#2a3f5f\"},\"baxis\":{\"endlinecolor\":\"#2a3f5f\",\"gridcolor\":\"white\",\"linecolor\":\"white\",\"minorgridcolor\":\"white\",\"startlinecolor\":\"#2a3f5f\"},\"type\":\"carpet\"}],\"table\":[{\"cells\":{\"fill\":{\"color\":\"#EBF0F8\"},\"line\":{\"color\":\"white\"}},\"header\":{\"fill\":{\"color\":\"#C8D4E3\"},\"line\":{\"color\":\"white\"}},\"type\":\"table\"}],\"barpolar\":[{\"marker\":{\"line\":{\"color\":\"#E5ECF6\",\"width\":0.5},\"pattern\":{\"fillmode\":\"overlay\",\"size\":10,\"solidity\":0.2}},\"type\":\"barpolar\"}],\"pie\":[{\"automargin\":true,\"type\":\"pie\"}]},\"layout\":{\"autotypenumbers\":\"strict\",\"colorway\":[\"#636efa\",\"#EF553B\",\"#00cc96\",\"#ab63fa\",\"#FFA15A\",\"#19d3f3\",\"#FF6692\",\"#B6E880\",\"#FF97FF\",\"#FECB52\"],\"font\":{\"color\":\"#2a3f5f\"},\"hovermode\":\"closest\",\"hoverlabel\":{\"align\":\"left\"},\"paper_bgcolor\":\"white\",\"plot_bgcolor\":\"#E5ECF6\",\"polar\":{\"bgcolor\":\"#E5ECF6\",\"angularaxis\":{\"gridcolor\":\"white\",\"linecolor\":\"white\",\"ticks\":\"\"},\"radialaxis\":{\"gridcolor\":\"white\",\"linecolor\":\"white\",\"ticks\":\"\"}},\"ternary\":{\"bgcolor\":\"#E5ECF6\",\"aaxis\":{\"gridcolor\":\"white\",\"linecolor\":\"white\",\"ticks\":\"\"},\"baxis\":{\"gridcolor\":\"white\",\"linecolor\":\"white\",\"ticks\":\"\"},\"caxis\":{\"gridcolor\":\"white\",\"linecolor\":\"white\",\"ticks\":\"\"}},\"coloraxis\":{\"colorbar\":{\"outlinewidth\":0,\"ticks\":\"\"}},\"colorscale\":{\"sequential\":[[0.0,\"#0d0887\"],[0.1111111111111111,\"#46039f\"],[0.2222222222222222,\"#7201a8\"],[0.3333333333333333,\"#9c179e\"],[0.4444444444444444,\"#bd3786\"],[0.5555555555555556,\"#d8576b\"],[0.6666666666666666,\"#ed7953\"],[0.7777777777777778,\"#fb9f3a\"],[0.8888888888888888,\"#fdca26\"],[1.0,\"#f0f921\"]],\"sequentialminus\":[[0.0,\"#0d0887\"],[0.1111111111111111,\"#46039f\"],[0.2222222222222222,\"#7201a8\"],[0.3333333333333333,\"#9c179e\"],[0.4444444444444444,\"#bd3786\"],[0.5555555555555556,\"#d8576b\"],[0.6666666666666666,\"#ed7953\"],[0.7777777777777778,\"#fb9f3a\"],[0.8888888888888888,\"#fdca26\"],[1.0,\"#f0f921\"]],\"diverging\":[[0,\"#8e0152\"],[0.1,\"#c51b7d\"],[0.2,\"#de77ae\"],[0.3,\"#f1b6da\"],[0.4,\"#fde0ef\"],[0.5,\"#f7f7f7\"],[0.6,\"#e6f5d0\"],[0.7,\"#b8e186\"],[0.8,\"#7fbc41\"],[0.9,\"#4d9221\"],[1,\"#276419\"]]},\"xaxis\":{\"gridcolor\":\"white\",\"linecolor\":\"white\",\"ticks\":\"\",\"title\":{\"standoff\":15},\"zerolinecolor\":\"white\",\"automargin\":true,\"zerolinewidth\":2},\"yaxis\":{\"gridcolor\":\"white\",\"linecolor\":\"white\",\"ticks\":\"\",\"title\":{\"standoff\":15},\"zerolinecolor\":\"white\",\"automargin\":true,\"zerolinewidth\":2},\"scene\":{\"xaxis\":{\"backgroundcolor\":\"#E5ECF6\",\"gridcolor\":\"white\",\"linecolor\":\"white\",\"showbackground\":true,\"ticks\":\"\",\"zerolinecolor\":\"white\",\"gridwidth\":2},\"yaxis\":{\"backgroundcolor\":\"#E5ECF6\",\"gridcolor\":\"white\",\"linecolor\":\"white\",\"showbackground\":true,\"ticks\":\"\",\"zerolinecolor\":\"white\",\"gridwidth\":2},\"zaxis\":{\"backgroundcolor\":\"#E5ECF6\",\"gridcolor\":\"white\",\"linecolor\":\"white\",\"showbackground\":true,\"ticks\":\"\",\"zerolinecolor\":\"white\",\"gridwidth\":2}},\"shapedefaults\":{\"line\":{\"color\":\"#2a3f5f\"}},\"annotationdefaults\":{\"arrowcolor\":\"#2a3f5f\",\"arrowhead\":0,\"arrowwidth\":1},\"geo\":{\"bgcolor\":\"white\",\"landcolor\":\"#E5ECF6\",\"subunitcolor\":\"white\",\"showland\":true,\"showlakes\":true,\"lakecolor\":\"white\"},\"title\":{\"x\":0.05},\"mapbox\":{\"style\":\"light\"}}},\"xaxis\":{\"range\":[-0.8332166417764595,0.8633094359222047],\"showticklabels\":false,\"ticklen\":0},\"yaxis\":{\"range\":[-0.7341591803381808,0.7341591803381808],\"scaleanchor\":\"x\",\"scaleratio\":1,\"showticklabels\":false,\"ticklen\":0},\"margin\":{\"b\":0,\"l\":10,\"pad\":0,\"r\":10,\"t\":40},\"title\":{\"text\":\"Vocabulary Overlap Between Bacteria Trained Tokenizer and DNABERT2\",\"x\":0.5,\"xanchor\":\"center\"},\"plot_bgcolor\":\"white\",\"width\":800,\"height\":400,\"shapes\":[{\"fillcolor\":\"FireBrick\",\"line\":{\"color\":\"FireBrick\"},\"opacity\":0.75,\"type\":\"circle\",\"x0\":-0.6332166417764594,\"x1\":0.43510171889990235,\"xref\":\"x\",\"y0\":-0.5341591803381809,\"y1\":0.5341591803381809,\"yref\":\"y\"},{\"fillcolor\":\"DodgerBlue\",\"line\":{\"color\":\"DodgerBlue\"},\"opacity\":0.75,\"type\":\"circle\",\"x0\":0.1291502555840237,\"x1\":0.6633094359222046,\"xref\":\"x\",\"y0\":-0.26707959016909044,\"y1\":0.26707959016909044,\"yref\":\"y\"}],\"annotations\":[{\"showarrow\":false,\"text\":\"Bacteria\",\"x\":-0.09905746143827852,\"xref\":\"x\",\"y\":-0.5742211188635444,\"yref\":\"y\"},{\"showarrow\":false,\"text\":\"DNABERT2\",\"x\":0.39622984575311415,\"xref\":\"x\",\"y\":-0.307141528694454,\"yref\":\"y\"},{\"showarrow\":false,\"text\":\"14182\",\"x\":-0.25203319309621786,\"xref\":\"x\",\"y\":1.6353908260908176e-17,\"yref\":\"y\"},{\"showarrow\":false,\"text\":\"1894\",\"x\":0.5492055774110535,\"xref\":\"x\",\"y\":0.0,\"yref\":\"y\"},{\"showarrow\":false,\"text\":\"2202\",\"x\":0.282125987241963,\"xref\":\"x\",\"y\":1.6353908260908176e-17,\"yref\":\"y\"}]},                        {\"responsive\": true}                    ).then(function(){\n",
              "                            \n",
              "var gd = document.getElementById('1e8ff226-e35f-47eb-adfa-6789d22879cf');\n",
              "var x = new MutationObserver(function (mutations, observer) {{\n",
              "        var display = window.getComputedStyle(gd).display;\n",
              "        if (!display || display === 'none') {{\n",
              "            console.log([gd, 'removed!']);\n",
              "            Plotly.purge(gd);\n",
              "            observer.disconnect();\n",
              "        }}\n",
              "}});\n",
              "\n",
              "// Listen for the removal of the full notebook cells\n",
              "var notebookContainer = gd.closest('#notebook-container');\n",
              "if (notebookContainer) {{\n",
              "    x.observe(notebookContainer, {childList: true});\n",
              "}}\n",
              "\n",
              "// Listen for the clearing of the current output cell\n",
              "var outputEl = gd.closest('.output');\n",
              "if (outputEl) {{\n",
              "    x.observe(outputEl, {childList: true});\n",
              "}}\n",
              "\n",
              "                        })                };                            </script>        </div>\n",
              "</body>\n",
              "</html>"
            ]
          },
          "metadata": {}
        }
      ]
    },
    {
      "cell_type": "code",
      "source": [
        "# Tokenized Statistics\n",
        "# print(\"subword fertility: \" + str(subword_fertility_dir(tokenized_directory)))\n",
        "# print(\"max, min, and avg token lengths: \" + str(token_stats_dir(tokenized_directory)))\n",
        "# length_histogram(tokenized_directory)\n",
        "# coverage_stats(my_vocabulary, tokenized_directory)"
      ],
      "metadata": {
        "id": "T3cWb2CZ4rA5"
      },
      "execution_count": null,
      "outputs": []
    }
  ]
}